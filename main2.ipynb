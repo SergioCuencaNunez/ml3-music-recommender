{
 "cells": [
  {
   "cell_type": "markdown",
   "metadata": {},
   "source": [
    "#  <span style=\"font-family: Latin Modern Roman; font-size: 35px; font-weight: bold;\"> Project 2. Unsupervised Learning with Recommender Systems </span>"
   ]
  },
  {
   "cell_type": "markdown",
   "metadata": {},
   "source": [
    "<p align=\"center\" style=\"display: block; max-width: 100%;\">\n",
    "  <img src=\"https://upload.wikimedia.org/wikipedia/commons/d/d4/Lastfm_logo.svg\" style=\"max-width: 25%; height: auto;\">\n",
    "</p>\n"
   ]
  },
  {
   "cell_type": "markdown",
   "metadata": {},
   "source": [
    "## <span style=\"font-family: Latin Modern Roman; font-size: 25px;\"> 1. Introduction </span>\n",
    "<div style=\"text-align: justify;\">\n",
    "\n",
    "Recommender systems are capable of providing consumers with tailored suggestions, pointing them toward products they are likely to appreciate but would not have discovered on their own, by examining trends in their behavior, interests, and interactions. These systems are essential for raising engagement in the world of music streaming and discovery services such as Last.fm. In order to match listeners with music that suits their likes, the aim of this project is to construct a **recommender system** that combs through the enormous database of songs, artists, and genres based on information of listener history utilizing detailed user interactions and artist information to predict and influence future listens.\n",
    "\n",
    "A common technique used to provide recommendations based on the user community is **Collaborative Filtering**. This method is distinguished by two main approaches:\n",
    "\n",
    "- **Memory-Based**: calculates similarities between items or users based on historical data.\n",
    "\n",
    "- **Model-Based**: involves constructing complex algorithms to predict user preferences. These models can handle large datasets efficiently and are adept at uncovering latent factors that influence listening preferences.\n",
    "\n",
    "Nonetheless, for an understanding of users' listening likes and behaviors in this context, listening counts are an essential measure. In contrast to explicit ratings, where users directly rate their preferences on a scale, listening counts are an example of **Implicit Feedback**. By recording the frequency of engagement with various artists, they offer insights into user behavior, but they do not indicate the level of preference. This type of data offers valuable insights into user behavior—indicating preference through the frequency of interactions with artists. A high listening count implies a user's affinity for an artist, while the absence of listening activity doesn't necessarily indicate dislike it could simply mean the user has yet to discover the artist.\n",
    "\n",
    "The combination of listening counts, artist popularity, user-generated tags, and the rich set of artist attributes in this dataset provides a comprehensive foundation for creating a music recommender system making use of complex models capable of interpreting these implicit signals:\n",
    "\n",
    "- **Bayesian Personalized Ranking (BPR)**: the goal is to rank content by predicting user preferences based on implicit feedback.\n",
    "\n",
    "- **Weighted Matrix Factorization (WMF)**: enhances traditional matrix factorization by incorporating the confidence level associated with implicit interactions.\n",
    "\n",
    "- **Factorization Machines (FM)**: can handle sparse data typical of implicit feedback scenarios.\n",
    "\n",
    "</div>"
   ]
  },
  {
   "cell_type": "markdown",
   "metadata": {},
   "source": [
    "---"
   ]
  },
  {
   "cell_type": "markdown",
   "metadata": {},
   "source": [
    "## <span style=\"font-family: Latin Modern Roman; font-size: 25px;\"> 2. Exploratory Data Analysis </span>\n",
    "\n",
    "## <span style=\"font-family: Latin Modern Roman; font-size: 23px;\"> Data Tables </span>\n",
    "<div style=\"text-align: justify;\">\n",
    "\n",
    "**Artists Data:**\n",
    "\n",
    "This table contains information about music artists listened to and tagged by the users.\n",
    "\n",
    "* `artistID`: unique identifier for each artist.\n",
    "\n",
    "* `name`: name of the artist.\n",
    "\n",
    "* `freq`: how often the artist appears in the dataset.\n",
    "\n",
    "* `listeners`: number of users who have listened to the artist.\n",
    "\n",
    "**Tags Data:**\n",
    "\n",
    "This table contains the set of tags or genres available.\n",
    "\n",
    "* `tagID`: unique identifier for each tag.\n",
    "\n",
    "* `tagValue`: name of the tag, which can represent a genre, mood, era, or any other music-related attribute.\n",
    "\n",
    "**User-Artist Data Data:**\n",
    "\n",
    "This table captures which artists users have listened to, including a count of listening events.\n",
    "\n",
    "* `userID`: unique identifier for each user.\n",
    "\n",
    "* `artistID`: artist listened to by the user.\n",
    "\n",
    "* `weight`: count of how many times the user has listened to the artist, indicative of the user's preference strength for that artist.\n",
    "\n",
    "**User-Tagged Artists Data**\n",
    "\n",
    "This table contains the tags that users have assigned to artists, along with timestamps indicating when the tagging occurred.\n",
    "\n",
    "* `userID`, `artistID`, `tagID`: identifiers linking users, artists, and tags.\n",
    "\n",
    "* `day`, `month`, `year`: date when the tag was assigned, providing temporal context.\n"
   ]
  },
  {
   "cell_type": "code",
   "execution_count": 1,
   "metadata": {},
   "outputs": [],
   "source": [
    "import pandas as pd \n",
    "\n",
    "artists = pd.read_csv('./hetrec2011-lastfm-2k/artists-v2.dat', header=0, sep='\\t')\n",
    "user_tag_artist = pd.read_csv('./hetrec2011-lastfm-2k/user_taggedartists.dat', header=0, sep='\\t')\n",
    "tags = pd.read_csv('hetrec2011-lastfm-2k/tags.dat', header=0, sep='\\t', encoding='latin-1')\n",
    "users = pd.read_csv('hetrec2011-lastfm-2k/user_artists.dat',header=0, sep='\\t')\n"
   ]
  },
  {
   "cell_type": "code",
   "execution_count": 2,
   "metadata": {},
   "outputs": [
    {
     "name": "stdout",
     "output_type": "stream",
     "text": [
      "Artists Data:\n"
     ]
    },
    {
     "data": {
      "text/html": [
       "<div>\n",
       "<style scoped>\n",
       "    .dataframe tbody tr th:only-of-type {\n",
       "        vertical-align: middle;\n",
       "    }\n",
       "\n",
       "    .dataframe tbody tr th {\n",
       "        vertical-align: top;\n",
       "    }\n",
       "\n",
       "    .dataframe thead th {\n",
       "        text-align: right;\n",
       "    }\n",
       "</style>\n",
       "<table border=\"1\" class=\"dataframe\">\n",
       "  <thead>\n",
       "    <tr style=\"text-align: right;\">\n",
       "      <th></th>\n",
       "      <th>artistID</th>\n",
       "      <th>name</th>\n",
       "      <th>freq</th>\n",
       "      <th>listeners</th>\n",
       "    </tr>\n",
       "  </thead>\n",
       "  <tbody>\n",
       "    <tr>\n",
       "      <th>0</th>\n",
       "      <td>89</td>\n",
       "      <td>Lady Gaga</td>\n",
       "      <td>611</td>\n",
       "      <td>3798959</td>\n",
       "    </tr>\n",
       "    <tr>\n",
       "      <th>1</th>\n",
       "      <td>289</td>\n",
       "      <td>Britney Spears</td>\n",
       "      <td>522</td>\n",
       "      <td>3243214</td>\n",
       "    </tr>\n",
       "    <tr>\n",
       "      <th>2</th>\n",
       "      <td>288</td>\n",
       "      <td>Rihanna</td>\n",
       "      <td>484</td>\n",
       "      <td>4542147</td>\n",
       "    </tr>\n",
       "    <tr>\n",
       "      <th>3</th>\n",
       "      <td>227</td>\n",
       "      <td>The Beatles</td>\n",
       "      <td>480</td>\n",
       "      <td>3658694</td>\n",
       "    </tr>\n",
       "    <tr>\n",
       "      <th>4</th>\n",
       "      <td>300</td>\n",
       "      <td>Katy Perry</td>\n",
       "      <td>473</td>\n",
       "      <td>3721531</td>\n",
       "    </tr>\n",
       "  </tbody>\n",
       "</table>\n",
       "</div>"
      ],
      "text/plain": [
       "   artistID            name  freq  listeners\n",
       "0        89       Lady Gaga   611    3798959\n",
       "1       289  Britney Spears   522    3243214\n",
       "2       288         Rihanna   484    4542147\n",
       "3       227     The Beatles   480    3658694\n",
       "4       300      Katy Perry   473    3721531"
      ]
     },
     "execution_count": 2,
     "metadata": {},
     "output_type": "execute_result"
    }
   ],
   "source": [
    "print(\"Artists Data:\")\n",
    "artists.head()"
   ]
  },
  {
   "cell_type": "code",
   "execution_count": 3,
   "metadata": {},
   "outputs": [
    {
     "name": "stdout",
     "output_type": "stream",
     "text": [
      "<class 'pandas.core.frame.DataFrame'>\n",
      "RangeIndex: 4562 entries, 0 to 4561\n",
      "Data columns (total 4 columns):\n",
      " #   Column     Non-Null Count  Dtype \n",
      "---  ------     --------------  ----- \n",
      " 0   artistID   4562 non-null   int64 \n",
      " 1   name       4562 non-null   object\n",
      " 2   freq       4562 non-null   int64 \n",
      " 3   listeners  4562 non-null   int64 \n",
      "dtypes: int64(3), object(1)\n",
      "memory usage: 142.7+ KB\n"
     ]
    }
   ],
   "source": [
    "artists.info()"
   ]
  },
  {
   "cell_type": "code",
   "execution_count": 4,
   "metadata": {},
   "outputs": [
    {
     "data": {
      "text/plain": [
       "artistID     0\n",
       "name         0\n",
       "freq         0\n",
       "listeners    0\n",
       "dtype: int64"
      ]
     },
     "execution_count": 4,
     "metadata": {},
     "output_type": "execute_result"
    }
   ],
   "source": [
    "artists.isna().sum()"
   ]
  },
  {
   "cell_type": "code",
   "execution_count": 5,
   "metadata": {},
   "outputs": [
    {
     "name": "stdout",
     "output_type": "stream",
     "text": [
      "User-Tagged Artists Data:\n"
     ]
    },
    {
     "data": {
      "text/html": [
       "<div>\n",
       "<style scoped>\n",
       "    .dataframe tbody tr th:only-of-type {\n",
       "        vertical-align: middle;\n",
       "    }\n",
       "\n",
       "    .dataframe tbody tr th {\n",
       "        vertical-align: top;\n",
       "    }\n",
       "\n",
       "    .dataframe thead th {\n",
       "        text-align: right;\n",
       "    }\n",
       "</style>\n",
       "<table border=\"1\" class=\"dataframe\">\n",
       "  <thead>\n",
       "    <tr style=\"text-align: right;\">\n",
       "      <th></th>\n",
       "      <th>userID</th>\n",
       "      <th>artistID</th>\n",
       "      <th>tagID</th>\n",
       "      <th>day</th>\n",
       "      <th>month</th>\n",
       "      <th>year</th>\n",
       "    </tr>\n",
       "  </thead>\n",
       "  <tbody>\n",
       "    <tr>\n",
       "      <th>0</th>\n",
       "      <td>2</td>\n",
       "      <td>52</td>\n",
       "      <td>13</td>\n",
       "      <td>1</td>\n",
       "      <td>4</td>\n",
       "      <td>2009</td>\n",
       "    </tr>\n",
       "    <tr>\n",
       "      <th>1</th>\n",
       "      <td>2</td>\n",
       "      <td>52</td>\n",
       "      <td>15</td>\n",
       "      <td>1</td>\n",
       "      <td>4</td>\n",
       "      <td>2009</td>\n",
       "    </tr>\n",
       "    <tr>\n",
       "      <th>2</th>\n",
       "      <td>2</td>\n",
       "      <td>52</td>\n",
       "      <td>18</td>\n",
       "      <td>1</td>\n",
       "      <td>4</td>\n",
       "      <td>2009</td>\n",
       "    </tr>\n",
       "    <tr>\n",
       "      <th>3</th>\n",
       "      <td>2</td>\n",
       "      <td>52</td>\n",
       "      <td>21</td>\n",
       "      <td>1</td>\n",
       "      <td>4</td>\n",
       "      <td>2009</td>\n",
       "    </tr>\n",
       "    <tr>\n",
       "      <th>4</th>\n",
       "      <td>2</td>\n",
       "      <td>52</td>\n",
       "      <td>41</td>\n",
       "      <td>1</td>\n",
       "      <td>4</td>\n",
       "      <td>2009</td>\n",
       "    </tr>\n",
       "  </tbody>\n",
       "</table>\n",
       "</div>"
      ],
      "text/plain": [
       "   userID  artistID  tagID  day  month  year\n",
       "0       2        52     13    1      4  2009\n",
       "1       2        52     15    1      4  2009\n",
       "2       2        52     18    1      4  2009\n",
       "3       2        52     21    1      4  2009\n",
       "4       2        52     41    1      4  2009"
      ]
     },
     "execution_count": 5,
     "metadata": {},
     "output_type": "execute_result"
    }
   ],
   "source": [
    "print(\"User-Tagged Artists Data:\")\n",
    "user_tag_artist.head()"
   ]
  },
  {
   "cell_type": "code",
   "execution_count": 6,
   "metadata": {},
   "outputs": [
    {
     "name": "stdout",
     "output_type": "stream",
     "text": [
      "<class 'pandas.core.frame.DataFrame'>\n",
      "RangeIndex: 186479 entries, 0 to 186478\n",
      "Data columns (total 6 columns):\n",
      " #   Column    Non-Null Count   Dtype\n",
      "---  ------    --------------   -----\n",
      " 0   userID    186479 non-null  int64\n",
      " 1   artistID  186479 non-null  int64\n",
      " 2   tagID     186479 non-null  int64\n",
      " 3   day       186479 non-null  int64\n",
      " 4   month     186479 non-null  int64\n",
      " 5   year      186479 non-null  int64\n",
      "dtypes: int64(6)\n",
      "memory usage: 8.5 MB\n"
     ]
    }
   ],
   "source": [
    "user_tag_artist.info()"
   ]
  },
  {
   "cell_type": "code",
   "execution_count": 7,
   "metadata": {},
   "outputs": [
    {
     "data": {
      "text/plain": [
       "userID      0\n",
       "artistID    0\n",
       "tagID       0\n",
       "day         0\n",
       "month       0\n",
       "year        0\n",
       "dtype: int64"
      ]
     },
     "execution_count": 7,
     "metadata": {},
     "output_type": "execute_result"
    }
   ],
   "source": [
    "user_tag_artist.isna().sum()"
   ]
  },
  {
   "cell_type": "code",
   "execution_count": 8,
   "metadata": {},
   "outputs": [
    {
     "name": "stdout",
     "output_type": "stream",
     "text": [
      "Tags Data:\n"
     ]
    },
    {
     "data": {
      "text/html": [
       "<div>\n",
       "<style scoped>\n",
       "    .dataframe tbody tr th:only-of-type {\n",
       "        vertical-align: middle;\n",
       "    }\n",
       "\n",
       "    .dataframe tbody tr th {\n",
       "        vertical-align: top;\n",
       "    }\n",
       "\n",
       "    .dataframe thead th {\n",
       "        text-align: right;\n",
       "    }\n",
       "</style>\n",
       "<table border=\"1\" class=\"dataframe\">\n",
       "  <thead>\n",
       "    <tr style=\"text-align: right;\">\n",
       "      <th></th>\n",
       "      <th>tagID</th>\n",
       "      <th>tagValue</th>\n",
       "    </tr>\n",
       "  </thead>\n",
       "  <tbody>\n",
       "    <tr>\n",
       "      <th>0</th>\n",
       "      <td>1</td>\n",
       "      <td>metal</td>\n",
       "    </tr>\n",
       "    <tr>\n",
       "      <th>1</th>\n",
       "      <td>2</td>\n",
       "      <td>alternative metal</td>\n",
       "    </tr>\n",
       "    <tr>\n",
       "      <th>2</th>\n",
       "      <td>3</td>\n",
       "      <td>goth rock</td>\n",
       "    </tr>\n",
       "    <tr>\n",
       "      <th>3</th>\n",
       "      <td>4</td>\n",
       "      <td>black metal</td>\n",
       "    </tr>\n",
       "    <tr>\n",
       "      <th>4</th>\n",
       "      <td>5</td>\n",
       "      <td>death metal</td>\n",
       "    </tr>\n",
       "  </tbody>\n",
       "</table>\n",
       "</div>"
      ],
      "text/plain": [
       "   tagID           tagValue\n",
       "0      1              metal\n",
       "1      2  alternative metal\n",
       "2      3          goth rock\n",
       "3      4        black metal\n",
       "4      5        death metal"
      ]
     },
     "execution_count": 8,
     "metadata": {},
     "output_type": "execute_result"
    }
   ],
   "source": [
    "print(\"Tags Data:\")\n",
    "tags.head()"
   ]
  },
  {
   "cell_type": "code",
   "execution_count": 9,
   "metadata": {},
   "outputs": [
    {
     "name": "stdout",
     "output_type": "stream",
     "text": [
      "<class 'pandas.core.frame.DataFrame'>\n",
      "RangeIndex: 11946 entries, 0 to 11945\n",
      "Data columns (total 2 columns):\n",
      " #   Column    Non-Null Count  Dtype \n",
      "---  ------    --------------  ----- \n",
      " 0   tagID     11946 non-null  int64 \n",
      " 1   tagValue  11946 non-null  object\n",
      "dtypes: int64(1), object(1)\n",
      "memory usage: 186.8+ KB\n"
     ]
    }
   ],
   "source": [
    "tags.info()"
   ]
  },
  {
   "cell_type": "code",
   "execution_count": 10,
   "metadata": {},
   "outputs": [
    {
     "data": {
      "text/plain": [
       "tagID       0\n",
       "tagValue    0\n",
       "dtype: int64"
      ]
     },
     "execution_count": 10,
     "metadata": {},
     "output_type": "execute_result"
    }
   ],
   "source": [
    "tags.isna().sum()"
   ]
  },
  {
   "cell_type": "code",
   "execution_count": 11,
   "metadata": {},
   "outputs": [
    {
     "name": "stdout",
     "output_type": "stream",
     "text": [
      "Users Data:\n"
     ]
    },
    {
     "data": {
      "text/html": [
       "<div>\n",
       "<style scoped>\n",
       "    .dataframe tbody tr th:only-of-type {\n",
       "        vertical-align: middle;\n",
       "    }\n",
       "\n",
       "    .dataframe tbody tr th {\n",
       "        vertical-align: top;\n",
       "    }\n",
       "\n",
       "    .dataframe thead th {\n",
       "        text-align: right;\n",
       "    }\n",
       "</style>\n",
       "<table border=\"1\" class=\"dataframe\">\n",
       "  <thead>\n",
       "    <tr style=\"text-align: right;\">\n",
       "      <th></th>\n",
       "      <th>userID</th>\n",
       "      <th>artistID</th>\n",
       "      <th>weight</th>\n",
       "    </tr>\n",
       "  </thead>\n",
       "  <tbody>\n",
       "    <tr>\n",
       "      <th>0</th>\n",
       "      <td>2</td>\n",
       "      <td>51</td>\n",
       "      <td>13883</td>\n",
       "    </tr>\n",
       "    <tr>\n",
       "      <th>1</th>\n",
       "      <td>2</td>\n",
       "      <td>52</td>\n",
       "      <td>11690</td>\n",
       "    </tr>\n",
       "    <tr>\n",
       "      <th>2</th>\n",
       "      <td>2</td>\n",
       "      <td>53</td>\n",
       "      <td>11351</td>\n",
       "    </tr>\n",
       "    <tr>\n",
       "      <th>3</th>\n",
       "      <td>2</td>\n",
       "      <td>54</td>\n",
       "      <td>10300</td>\n",
       "    </tr>\n",
       "    <tr>\n",
       "      <th>4</th>\n",
       "      <td>2</td>\n",
       "      <td>55</td>\n",
       "      <td>8983</td>\n",
       "    </tr>\n",
       "  </tbody>\n",
       "</table>\n",
       "</div>"
      ],
      "text/plain": [
       "   userID  artistID  weight\n",
       "0       2        51   13883\n",
       "1       2        52   11690\n",
       "2       2        53   11351\n",
       "3       2        54   10300\n",
       "4       2        55    8983"
      ]
     },
     "execution_count": 11,
     "metadata": {},
     "output_type": "execute_result"
    }
   ],
   "source": [
    "print(\"Users Data:\")\n",
    "users.head()"
   ]
  },
  {
   "cell_type": "code",
   "execution_count": 12,
   "metadata": {},
   "outputs": [
    {
     "data": {
      "text/plain": [
       "userID      0\n",
       "artistID    0\n",
       "weight      0\n",
       "dtype: int64"
      ]
     },
     "execution_count": 12,
     "metadata": {},
     "output_type": "execute_result"
    }
   ],
   "source": [
    "users.isna().sum()"
   ]
  },
  {
   "cell_type": "code",
   "execution_count": 13,
   "metadata": {},
   "outputs": [
    {
     "data": {
      "text/plain": [
       "weight\n",
       "1         0.006851\n",
       "2         0.004513\n",
       "4         0.003716\n",
       "3         0.003641\n",
       "5         0.003425\n",
       "            ...   \n",
       "4546      0.000011\n",
       "4548      0.000011\n",
       "4551      0.000011\n",
       "4561      0.000011\n",
       "352698    0.000011\n",
       "Length: 5436, dtype: float64"
      ]
     },
     "execution_count": 13,
     "metadata": {},
     "output_type": "execute_result"
    }
   ],
   "source": [
    "users.value_counts('weight', normalize = True)"
   ]
  },
  {
   "cell_type": "code",
   "execution_count": 14,
   "metadata": {},
   "outputs": [
    {
     "name": "stdout",
     "output_type": "stream",
     "text": [
      "Unique user:  1892\n",
      "Unique Artists:  17632\n"
     ]
    }
   ],
   "source": [
    "n_users = users['userID'].nunique()\n",
    "print(\"Unique User: \", n_users)\n",
    "n_artists = users['artistID'].nunique()\n",
    "print(\"Unique Artists: \", n_artists)"
   ]
  },
  {
   "cell_type": "code",
   "execution_count": 20,
   "metadata": {},
   "outputs": [
    {
     "data": {
      "image/png": "[encoded data removed]",
      "text/plain": [
       "<Figure size 1800x1200 with 4 Axes>"
      ]
     },
     "metadata": {},
     "output_type": "display_data"
    }
   ],
   "source": [
    "import matplotlib.pyplot as plt\n",
    "import seaborn as sns\n",
    "from adjustText import adjust_text\n",
    "import warnings\n",
    "\n",
    "warnings.filterwarnings(\"ignore\")\n",
    "\n",
    "# Subplot area\n",
    "fig, axes = plt.subplots(2, 2, figsize = (18, 12))\n",
    "fig.suptitle('Exploratory Data Analysis')\n",
    "\n",
    "# Popularity of Artists\n",
    "top_artists = artists.sort_values(by = 'listeners', ascending = False).head(10)\n",
    "sns.barplot(x = 'listeners', y = 'name', data = top_artists,  ax = axes[0, 0], palette = 'Set3')\n",
    "axes[0, 0].set_title('Top 10 Artists by Number of Listeners')\n",
    "axes[0, 0].set_xlabel('Listeners (in millions)')\n",
    "axes[0, 0].set_ylabel('Artist')\n",
    "axes[0, 0].grid(True, which = \"both\", ls = \"--\", linewidth = 0.5)\n",
    "\n",
    "# Popularity of Genres\n",
    "genre_counts = user_tag_artist.groupby('tagID').size().sort_values(ascending=False).head(10)\n",
    "top_genres = pd.merge(genre_counts.reset_index(), tags, how = 'left', on = 'tagID')\n",
    "axes[0, 1].pie(top_genres[0], labels = top_genres['tagValue'], autopct = '%1.1f%%', startangle = 140, colors = sns.color_palette('pastel'))\n",
    "axes[0, 1].set_title('Popularity of Top 10 Genres')\n",
    "\n",
    "# Total Plays by Artist (Listening Counts)\n",
    "total_plays_by_artist = users.groupby('artistID')['weight'].sum().sort_values(ascending=False).head(10)\n",
    "top_artists_by_plays = pd.merge(total_plays_by_artist.reset_index(), artists, on = 'artistID')\n",
    "sns.barplot(x = 'weight', y = 'name', data=top_artists_by_plays,  ax = axes[1, 0], palette = 'muted')\n",
    "axes[1, 0].set_title('Total Plays by Top 10 Artists')\n",
    "axes[1, 0].set_xlabel('Total Listening Counts')\n",
    "axes[1, 0].set_ylabel('Artist')\n",
    "axes[1, 0].grid(True, which = \"both\", ls = \"--\", linewidth = 0.5)\n",
    "\n",
    "# Identifying the top 10 artists by popularity (considering both unique users and total listening counts)\n",
    "artist_popularity = users.groupby('artistID').agg({'userID': pd.Series.nunique, 'weight': 'sum'})\n",
    "artist_popularity = artist_popularity.merge(artists[['artistID', 'name']], on='artistID')\n",
    "top_artists_by_popularity = artist_popularity.sort_values(by = ['userID', 'weight'], ascending = False).head(10)\n",
    "sns.scatterplot(x = 'userID', y = 'weight', data = artist_popularity, size = 'weight', hue = 'weight', legend = False, alpha = 0.6, sizes = (20, 200),  ax = axes[1, 1], palette = 'viridis')\n",
    "artist_names = []\n",
    "for i, row in top_artists_by_popularity.iterrows():\n",
    "    artist_names.append(plt.text(row['userID'], row['weight'], row['name']))\n",
    "adjust_text(artist_names)\n",
    "axes[1, 1].set_title('Artist Popularity')\n",
    "axes[1, 1].set_xlabel('Number of Unique Users')\n",
    "axes[1, 1].set_ylabel('Total Listening Counts')\n",
    "axes[1, 1].grid(True, which = \"both\", ls = \"--\", linewidth = 0.5)\n",
    "\n",
    "plt.tight_layout(rect = [0, 0.03, 1, 0.95])\n",
    "plt.show()\n"
   ]
  },
  {
   "cell_type": "markdown",
   "metadata": {},
   "source": [
    "## <span style=\"font-family: Latin Modern Roman; font-size: 20px; font-style: italic;\"> Insights Gained from Initial Exploration </span>\n",
    "<div style=\"text-align: justify;\">\n",
    "\n",
    "These visualizations offer a comprehensive picture of the popularity of different artists and genres within the dataset, as well as specific insights into the tastes and behavior of Last.fm users. Examining each graph in detail:\n",
    "\n",
    "- **Top 10 Artists by Number of Listeners**: This barplot reveals the artists with the largest unique listener bases. The main takeaway from this is that these artists are popular with a wide range of user segments. The artists at the top of this list, like Coldplay, have effectively reached a large audience, which could make them excellent choices for broad-based recommendations. These artists are probably going to be well-liked by new listeners, based on their large listener numbers, which reflect a general popularity that goes beyond specialist interests.\n",
    "\n",
    "- **Popularity of Top 10 Genres**: The most popular musical genres and characteristics are displayed in the genre popularity pie chart. Popular music genres on this chart, such pop, rock, and electronic music, are indicative of what most users in this streaming service like to listen to. It represents quite helpful information as it helps to figure out general musical trends, which makes it possible to provide suggestions based on genre that suit the tastes of most people. It also emphasizes how crucial tag-based categorization is for identifying user interests.\n",
    "\n",
    "- **Total Plays by Top 10 Artists**: Artists with high listening counts demonstrate strong involvement as well as broad popularity when ranked by total plays. An artist like Britney Spears leading this chart suggests a dedicated fan base that listens to her music frequently. This distinction is important for recommendations since artists with a large number of plays may have a strong emotional connection with their audience and encourage return visits. Thus, suggests the possibility of fostering user loyalty and enduring interest. \n",
    "\n",
    "- **Artist Popularity**: This scatterplot combines the dimensions of unique listener counts and total plays to map out the landscape of artist popularity more comprehensively. It displays a range of artist profiles, from those with high unique users and total reproductions and to the ones that have lower listeners and total plays. Most importantly, it distinguishes between artists with a broad but perhaps shallower appeal (high unique users but lower plays per user) and those who, although having fewer listeners, induce high engagement (high plays but lower unique user counts). This perspective helps customize suggestions to match user preferences for breadth (new artists to discover) versus depth (artists they could get deeply engaged with).\n",
    "\n",
    "</div>"
   ]
  },
  {
   "cell_type": "markdown",
   "metadata": {},
   "source": [
    "---"
   ]
  },
  {
   "cell_type": "markdown",
   "metadata": {},
   "source": [
    "## <span style=\"font-family: Latin Modern Roman; font-size: 25px;\"> 3. Collaborative Filtering</span>\n",
    "\n",
    "## <span style=\"font-family: Latin Modern Roman; font-size: 23px;\"> 3.1. Memory Based Approach</span>\n",
    "\n",
    "<div style=\"text-align: justify;\">\n",
    " \n",
    "In Collaborative Filtering, there are two key approaches: Memory-based approach and Model-based approach. The Memory-Based approach seeks to identify similar users based on Cosine Similarity or the Pearson correlation coefficient, and then takes the weighted average of the ratings.\n",
    "\n",
    "There are two main types of neighborhood-based algorithms:\n",
    "\n",
    "- **User Based**: In this scenario, ratings provided by users similar to a target user A are used to make recommendations for this user A. The predicted ratings for A are computed as the weighted average values of these ratings from the *peer group* for each item. Operations are calculated with a $m × n$ matrix $R = [r_{ij}]$ containing $m$ users and $n$ items. Before initiating this method, an approach is adopted whereby rows are compared, effectively comparing User 1 and User 2 as vectors. It is crucial to mention that to avoid penalizing any user, rather than standardization, normalization is applied.\n",
    "\n",
    "\n",
    "- **Item Based**: To generate recommendations for a target item B, the initial step involves identifying a set $S$ of items that bear the closest resemblance to item B. Subsequently, to predict the rating of any user A for item B, the ratings within the set, as specified by A, are considered. The weighted average of these ratings is then used to estimate the predicted rating of user A for item B. This process is based on the principle that users who have shown a preference for items similar to B are likely to feel the same way about B itself.\n",
    "\n",
    "While both Pearson correlation coefficient and Cosine Similarity are applied in the user-based approach, the item-based approach additionally incorporates the Adjusted Cosine metric.\n",
    "</div>"
   ]
  },
  {
   "cell_type": "code",
   "execution_count": 9,
   "metadata": {},
   "outputs": [],
   "source": [
    "import cornac\n",
    "from cornac.eval_methods import RatioSplit\n",
    "from cornac.models import ItemKNN\n",
    "import numpy as np"
   ]
  },
  {
   "cell_type": "code",
   "execution_count": 17,
   "metadata": {},
   "outputs": [],
   "source": [
    "# ItemKNN methods\n",
    "VERBOSE = False\n",
    "K = 50  # Number of nearest neighbors\n",
    "\n",
    "iknn_cosine = ItemKNN(\n",
    "  k = K, similarity = \"cosine\", name = \"ItemKNN-Cosine\", verbose=VERBOSE\n",
    ")\n",
    "iknn_pearson = ItemKNN(\n",
    "  k = K, similarity = \"pearson\", name = \"ItemKNN-Pearson\", verbose=VERBOSE\n",
    ")\n",
    "iknn_pearson_mc = ItemKNN(\n",
    "  k = K, similarity = \"pearson\", mean_centered = True, name = \"ItemKNN-Pearson-MC\", verbose = VERBOSE\n",
    ")\n",
    "iknn_adjusted = ItemKNN(\n",
    "  k = K, similarity = \"cosine\", mean_centered = True, name = \"ItemKNN-AdjustedCosine\", verbose = VERBOSE\n",
    ")"
   ]
  },
  {
   "cell_type": "code",
   "execution_count": 39,
   "metadata": {},
   "outputs": [
    {
     "name": "stdout",
     "output_type": "stream",
     "text": [
      "\n",
      "TEST:\n",
      "...\n",
      "                       |      RMSE | Train (s) | Test (s)\n",
      "---------------------- + --------- + --------- + --------\n",
      "ItemKNN-Cosine         | 1082.4923 |    1.5851 |   0.3745\n",
      "ItemKNN-Pearson        | 1042.9618 |    1.6283 |   0.3586\n",
      "ItemKNN-Pearson-MC     | 1033.7617 |    1.6690 |   0.3574\n",
      "ItemKNN-AdjustedCosine | 1034.7199 |    1.5711 |   0.3594\n",
      "\n"
     ]
    }
   ],
   "source": [
    "SEED = 42\n",
    "\n",
    "feedback = users.astype({'userID':object, 'artistID':object, 'weight':object}).to_records(index = False)\n",
    "ratio_split = RatioSplit(feedback, test_size=0.1, seed=SEED, verbose=VERBOSE)\n",
    "\n",
    "cornac.Experiment(\n",
    "  eval_method = ratio_split, \n",
    "  models = [iknn_cosine, iknn_pearson, iknn_pearson_mc, iknn_adjusted],\n",
    "  metrics = [cornac.metrics.RMSE()],\n",
    ").run()\n"
   ]
  },
  {
   "cell_type": "code",
   "execution_count": 40,
   "metadata": {},
   "outputs": [],
   "source": [
    "users_df = users.copy()  \n",
    "\n",
    "users_df.columns = [\"userID\", \"artistID\", \"weight\"]\n",
    "\n",
    "users_df.set_index(\"userID\", inplace=True)\n",
    "\n",
    "items_df = artists.copy() \n",
    "\n",
    "items_df.columns = [\"artistID\", \"name\", \"freq\", \"listeners\"]\n",
    "\n",
    "items_df.set_index(\"artistID\", inplace=True)\n"
   ]
  },
  {
   "cell_type": "code",
   "execution_count": 20,
   "metadata": {},
   "outputs": [
    {
     "data": {
      "text/html": [
       "<div>\n",
       "<style scoped>\n",
       "    .dataframe tbody tr th:only-of-type {\n",
       "        vertical-align: middle;\n",
       "    }\n",
       "\n",
       "    .dataframe tbody tr th {\n",
       "        vertical-align: top;\n",
       "    }\n",
       "\n",
       "    .dataframe thead th {\n",
       "        text-align: right;\n",
       "    }\n",
       "</style>\n",
       "<table border=\"1\" class=\"dataframe\">\n",
       "  <thead>\n",
       "    <tr style=\"text-align: right;\">\n",
       "      <th></th>\n",
       "      <th>artistID</th>\n",
       "      <th>weight</th>\n",
       "    </tr>\n",
       "    <tr>\n",
       "      <th>userID</th>\n",
       "      <th></th>\n",
       "      <th></th>\n",
       "    </tr>\n",
       "  </thead>\n",
       "  <tbody>\n",
       "    <tr>\n",
       "      <th>2</th>\n",
       "      <td>51</td>\n",
       "      <td>13883</td>\n",
       "    </tr>\n",
       "    <tr>\n",
       "      <th>2</th>\n",
       "      <td>78</td>\n",
       "      <td>2119</td>\n",
       "    </tr>\n",
       "    <tr>\n",
       "      <th>2</th>\n",
       "      <td>79</td>\n",
       "      <td>1990</td>\n",
       "    </tr>\n",
       "    <tr>\n",
       "      <th>2</th>\n",
       "      <td>80</td>\n",
       "      <td>1972</td>\n",
       "    </tr>\n",
       "    <tr>\n",
       "      <th>2</th>\n",
       "      <td>81</td>\n",
       "      <td>1948</td>\n",
       "    </tr>\n",
       "    <tr>\n",
       "      <th>...</th>\n",
       "      <td>...</td>\n",
       "      <td>...</td>\n",
       "    </tr>\n",
       "    <tr>\n",
       "      <th>2100</th>\n",
       "      <td>4271</td>\n",
       "      <td>2026</td>\n",
       "    </tr>\n",
       "    <tr>\n",
       "      <th>2100</th>\n",
       "      <td>4611</td>\n",
       "      <td>360</td>\n",
       "    </tr>\n",
       "    <tr>\n",
       "      <th>2100</th>\n",
       "      <td>4970</td>\n",
       "      <td>614</td>\n",
       "    </tr>\n",
       "    <tr>\n",
       "      <th>2100</th>\n",
       "      <td>1260</td>\n",
       "      <td>1459</td>\n",
       "    </tr>\n",
       "    <tr>\n",
       "      <th>2100</th>\n",
       "      <td>18730</td>\n",
       "      <td>263</td>\n",
       "    </tr>\n",
       "  </tbody>\n",
       "</table>\n",
       "<p>92834 rows × 2 columns</p>\n",
       "</div>"
      ],
      "text/plain": [
       "        artistID  weight\n",
       "userID                  \n",
       "2             51   13883\n",
       "2             78    2119\n",
       "2             79    1990\n",
       "2             80    1972\n",
       "2             81    1948\n",
       "...          ...     ...\n",
       "2100        4271    2026\n",
       "2100        4611     360\n",
       "2100        4970     614\n",
       "2100        1260    1459\n",
       "2100       18730     263\n",
       "\n",
       "[92834 rows x 2 columns]"
      ]
     },
     "execution_count": 20,
     "metadata": {},
     "output_type": "execute_result"
    }
   ],
   "source": [
    "users_df.sort_values(by='userID', ascending=True)"
   ]
  },
  {
   "cell_type": "code",
   "execution_count": 43,
   "metadata": {},
   "outputs": [
    {
     "name": "stdout",
     "output_type": "stream",
     "text": [
      "[16513, 3746, 8841, 5270, 295, 15381, 72, 17764, 202, 5005, 166, 2840, 7760, 2886, 5150, 4177, 12829, 1400, 2923, 2025, 3693, 1700, 2346, 554, 5414, 306, 99, 12080, 679, 1130, 302, 6906, 906, 288, 3371, 997, 1470, 481, 7810, 1390, 67, 803, 6308, 2940, 2094, 859, 2130, 1464, 88, 8455, 236, 190, 917, 3332, 1192, 1645, 221, 429, 498, 617, 13014, 17202, 8267, 963, 344, 6429, 7003, 7904, 163, 238, 7054, 4493, 923, 10892, 1747, 220, 234, 228, 291, 204, 16180, 707, 18157, 207, 159, 289, 545, 2572, 1116, 315, 703, 2521, 12939, 316, 3901, 937, 3703, 1206, 471, 1091, 172, 2556, 543, 689, 2451, 1089, 310, 59, 2956, 5135, 10295, 4089, 1043, 227, 1443, 8878, 12759, 7124, 11622, 1075, 2595, 966, 3739, 11198, 10865, 15638, 2548, 349, 71, 499, 6562, 16769, 1100, 329, 994, 2959, 16659, 2547, 2487, 1513, 1375, 328, 1458, 1048, 1014, 692, 12966, 11247, 2579, 4586, 12353, 2068, 154, 1708, 1707, 1656, 18526, 292, 644, 1596, 10274, 3445, 9384, 790, 1202, 4205, 89, 1954, 203, 492, 16682, 301, 2515, 424, 1104, 58, 12365, 1098, 1790, 257, 1069, 4113, 10537, 285, 340, 10955, 7324, 1766, 1412, 8457, 1739, 1430, 11449, 2994, 465, 13591, 843, 1123, 17403, 2666, 1807, 298, 1222, 8608, 7260, 1358, 466, 1745, 17562, 2349, 8065, 6199, 371, 403, 726, 5756, 10808, 3568, 2899, 2, 14070, 352, 503, 952, 1161, 972, 12273, 524, 10850, 504, 290, 1627, 988, 1376, 1047, 10978, 1099, 3127, 868, 1541, 715, 954, 299, 1051, 17635, 615, 989, 605, 7011, 10063, 961, 7183, 540, 1406, 7, 1383, 537, 56, 326, 16730, 467, 993, 2018, 3187, 314, 5480, 757, 16508, 7177, 1455, 3204, 2362, 2179, 4431, 2429, 461, 188, 1976, 5749, 2085, 3920, 13823, 17053, 716, 523, 3040, 10514, 1106, 2443, 533, 1533, 1353, 18330, 701, 6794, 1905, 1090, 3859, 14628, 1249, 196, 599, 908, 333, 12934, 886, 3777, 10571, 12930, 1037, 12034, 206, 14226, 3062, 1061, 303, 453, 8563, 962, 311, 209, 230, 535, 18448, 3571, 4616, 1416, 602, 2407, 3201, 161, 5173, 1771, 7916, 2080, 300, 511, 16007, 211, 11246, 711, 378, 680, 1785, 1146, 3324, 15910, 10394, 294, 1963, 13546, 162, 379, 441, 1398, 15, 11145, 2392, 1844, 6151, 1462, 488, 9011, 157, 13810, 8761, 1122, 8539, 792, 1118, 8659, 12718, 321, 198, 2543, 2885, 3995, 538, 11075, 2379, 1861, 9059, 2901, 11078, 5772, 4118, 167, 3280, 4561, 603, 10023, 13119, 1285, 9, 1549, 572, 3009, 9097, 1469, 1672, 6483, 830, 1868, 3196, 6448, 7685, 1521, 3186, 15389, 13017, 3264, 904, 12137, 6138, 4812, 1044, 2935, 1418, 212, 7914, 1703, 6622, 2523, 536, 233, 903, 813, 3295, 1453, 4559, 2788, 2775, 3878, 1787, 539, 5022, 2136, 52, 1772, 61, 2816, 913, 385, 226, 148, 9801, 325, 4814, 2582, 456, 2206, 8381, 8805, 4262, 3776, 2490, 475, 405, 501, 3046, 1300, 5393, 1119, 4706, 3902, 1573, 11895, 3258, 182, 3333, 17936, 293, 4242, 1557, 4895, 1710, 889, 7702, 1977, 11382, 5660, 1160, 9770, 2220, 1369, 3138, 5731, 17531, 6376, 6258, 968, 11796, 6618, 1504, 863, 250, 472, 1451, 2739, 8478, 4785, 6548, 3470, 1032, 786, 16304, 544, 1505, 525, 15425, 1110, 960, 191, 2082, 489, 497, 16565, 3676, 7214, 2896, 5844, 10364, 3502, 885, 1350, 3284, 86, 5693, 9539, 2372, 16887, 153, 17761, 359, 4016, 1372, 1450, 969, 65, 4793, 13805, 530, 924, 9307, 5069, 4032, 4385, 683, 1054, 18512, 15783, 18032, 11171, 2797, 322, 6120, 3341, 11477, 5455, 2347, 17736, 15468, 2747, 10880, 10706, 6681, 2941, 3179, 15200, 8420, 1377, 1239, 2609, 6594, 3078, 690, 3191, 436, 1151, 686, 15496, 12602, 55, 8003, 16431, 5852, 296, 3712, 7528, 1983, 515, 7165, 4704, 3563, 3458, 360, 7449, 2715, 4165, 8844, 982, 1253, 2148, 569, 7415, 8459, 6769, 7293, 2294, 107, 2468, 3288, 10783, 8347, 12762, 5063, 2546, 8417, 706, 2708, 2029, 3672, 5694, 229, 246, 1590, 518, 5102, 8934, 427, 6346, 1062, 6759, 735, 1781, 1425, 9567, 6293, 1216, 9900, 4266, 14008, 2535, 1852, 618, 6582, 9440, 421, 898, 3110, 965, 1936, 12254, 1463, 1305, 15476, 13304, 7665, 12868, 1415, 6417, 4335, 4691, 1242, 13884, 6638, 534, 1512, 3711, 460, 10651, 3570, 3604, 318, 14149, 3417, 5441, 8664, 16635, 355, 9010, 2498, 4918, 1181, 512, 2332, 2789, 12627, 470, 444, 15649, 959, 1379, 1298, 1244, 1486, 386, 14649, 5925, 802, 13580, 2544, 797, 2661, 3683, 8965, 184, 18707, 11256, 10459, 2602, 837, 812, 1042, 808, 6165, 6399, 1737, 3376, 1795, 14697, 9511, 173, 1974, 4303, 2176, 7022, 12723, 16772, 980, 3357, 7922, 223, 2787, 2842, 4686, 8042, 331, 4985, 1799, 1040, 10959, 362, 6389, 1475, 276, 7071, 5677, 4920, 15347, 1191, 9379, 2717, 468, 1803, 1791, 4226, 915, 9931, 11190, 2165, 2916, 12031, 2456, 10591, 5689, 611, 985, 1176, 5668, 16954, 15806, 297, 3411, 5490, 5285, 526, 5267, 4448, 18, 81, 4174, 3928, 607, 1842, 1866, 5880, 4179, 567, 1810, 3603, 1934, 1131, 7645, 241, 64, 9013, 3400, 6849, 709, 17751, 4762, 1633, 5329, 10261, 710, 4298, 13676, 1238, 975, 265, 6182, 1243, 12403, 951, 2128, 2142, 3677, 733, 69, 13039, 7328, 6297, 1073, 432, 6881, 11253, 18363, 841, 377, 4817, 4949, 7835, 15576, 199, 11320, 11548, 16023, 8676, 450, 171, 10111, 1052, 953, 3318, 1957, 5043, 18251, 998, 430, 6294, 1343, 1914, 261, 486, 12817, 412, 312, 327, 8784, 323, 1145, 18188, 1045, 3503, 155, 2040, 16429, 750, 94, 1545, 152, 2641, 815, 1408, 1182, 13669, 100, 809, 942, 3227, 2843, 8747, 6832, 978, 458, 4810, 9561, 5812, 7638, 5546, 1257, 14189, 9034, 16194, 4434, 8905, 1019, 1468, 722, 5159, 1935, 1072, 2771, 5790, 2716, 1621, 82, 14039, 708, 548, 11784, 12208, 681, 1155, 7646, 18379, 9591, 9421, 2360, 2550, 1135, 5421, 4218, 366, 851, 1459, 4523, 1518, 1793, 1195, 1897, 15599, 10431, 423, 459, 748, 15715, 14191, 183, 3575, 4245, 3384, 13162, 187, 1046, 769, 408, 2841, 437, 5423, 9852, 1854, 670, 8586, 2600, 500, 11788, 1447, 14679, 12450, 5841, 6012, 11437, 5161, 17572, 12113, 6965, 8390, 8123, 11770, 18531, 9202, 11510, 16566, 2014, 3327, 16751, 4784, 9603, 3208, 8260, 7454, 13816, 1643, 11918, 425, 3543, 6401, 5549, 1943, 4562, 11128, 1991, 3063, 3308, 3730, 3057, 3501, 1969, 309, 1713, 549, 4734, 2847, 3904, 1706, 11679, 907, 14135, 9856, 8326, 964, 273, 3966, 1662, 13399, 2444, 887, 231, 7047, 1958, 1613, 12513, 6021, 8359, 1297, 11031, 96, 1919, 2055, 693, 1859, 4504, 734, 2815, 4137, 1180, 4983, 900, 3200, 2074, 2189, 210, 2562, 1426, 1946, 1601, 1246, 15904, 11419, 13543, 7400, 1360, 857, 1853, 2855, 13912, 2952, 4354, 18102, 14217, 2933, 9439, 15707, 17470, 1632, 1011, 6676, 6394, 11339, 1336, 16357, 730, 1494, 861, 12560, 5484, 2823, 6463, 1681, 13253, 967, 3732, 2607, 562, 6302, 865, 911, 5769, 10259, 3060, 6536, 6650, 200, 2101, 8630, 15974, 5926, 728, 4024, 12104, 18147, 2288, 5232, 517, 3747, 2616, 7340, 5352, 1947, 7476, 5474, 1992, 13767, 2667, 714, 16878, 1980, 2961, 222, 6983, 14279, 14527, 9225, 4170, 542, 1405, 170, 1833, 1339, 4187, 12726, 1035, 637, 8331, 12674, 9242, 9376, 11421, 5036, 7639, 189, 4133, 6453, 4741, 418, 2449, 2537, 13497, 2691, 8178, 17300, 17030, 14790, 8119, 12508, 14197, 1876, 4875, 2312, 185, 3565, 2086, 2744, 9022, 621, 3763, 10977, 479, 1034, 9261, 4460, 9799, 14210, 45, 2765, 9565, 13416, 8810, 2970, 18402, 506, 547, 1816, 896, 324, 5000, 2009, 205, 1179, 2192, 9943, 609, 11235, 1534, 2343, 10743, 3171, 6504, 12107, 13056, 308, 3720, 2396, 4064, 1990, 17927, 610, 2746, 1986, 2279, 2428, 15817, 454, 4560, 13105, 16782, 4087, 16128, 16800, 2518, 15975, 4444, 831, 2139, 342, 330, 16844, 7323, 2031, 16648, 2853, 5095, 91, 18406, 4679, 7679, 51, 5118, 174, 6692, 874, 4735, 2928, 1863, 1009, 18561, 704, 9162, 4968, 1873, 718, 580, 4821, 14618, 16873, 40, 11937, 15499, 18730, 5795, 9689, 7048, 2781, 6201, 646, 1041, 16909, 13396, 8592, 3551, 1452, 1264, 4728, 1394, 5605, 2317, 15739, 629, 1678, 11550, 10900, 9882, 4528, 2092, 931, 2531, 3933, 687, 14185, 1543, 1818, 2478, 8889, 806, 1050, 768, 7734, 12862, 1860, 3744, 2850, 854, 986, 8613, 510, 16779, 5074, 758, 5950, 930, 9743, 1201, 2083, 910, 1551, 1382, 3788, 576, 2425, 16449, 1167, 15651, 2984, 4932, 531, 4997, 17928, 7152, 2962, 7930, 13406, 13992, 8642, 6052, 16257, 251, 8167, 3941, 3456, 11351, 5348, 3536, 860, 3279, 2027, 3321, 732, 3598, 6273, 4980, 1389, 4535, 1213, 641, 5439, 11289, 920, 8152, 2391, 10299, 3317, 12456, 2006, 2894, 2432, 3952, 15352, 6452, 15873, 6637, 11116, 823, 2632, 7543, 891, 3831, 14903, 943, 1385, 1274, 3854, 2914, 97, 1714, 383, 592, 632, 5662, 1187, 1423, 7831, 2906, 4115, 8594, 16404, 5823, 4709, 12130, 5139, 8292, 918, 1208, 197, 772, 17138, 1184, 12599, 8589, 10793, 616, 16882, 10333, 2644, 16894, 70, 7306, 9332, 5923, 909, 10859, 3768, 2046, 14645, 11181, 7491, 5014, 4680, 835, 428, 614, 10722, 9160, 2304, 1292, 267, 15899, 1556, 2062, 3184, 2973, 2976, 320, 7395, 7723, 2770, 8274, 14876, 9547, 12382, 487, 7404, 2633, 1595, 17632, 2567, 6636, 842, 11479, 8546, 3011, 4184, 2681, 1892, 1761, 1109, 15031, 4095, 5624, 407, 6303, 527, 3097, 6016, 3870, 9214, 12310, 4807, 11042, 2542, 2979, 17772, 8710, 1659, 5437, 1441, 3884, 19, 858, 2794, 5953, 991, 6271, 17704, 11103, 15397, 5368, 7656, 755, 1686, 156, 15056, 10197, 2470, 5630, 7250, 11323, 3378, 5641, 826, 17332, 6836, 2469, 12475, 6856, 2930, 7711, 785, 5242, 1414, 18214, 6883, 4739, 34, 1964, 225, 8231, 2146, 3019, 4384, 380, 5547, 4716, 3863, 1186, 3193, 16957, 8027, 622, 2352, 3071, 4566, 2247, 7151, 8323, 1886, 2023, 8345, 15632, 4813, 4130, 7692, 3189, 455, 914, 63, 6678, 7497, 4144, 15537, 396, 13249, 8246, 11727, 1105, 3667, 5258, 1476, 1279, 7446, 1492, 165, 5312, 18671, 3892, 5237, 3259, 8509, 12812, 17007, 1735, 578, 5678, 5339, 9686, 394, 3991, 3472, 494, 426, 11077, 4800, 6228, 98, 1838, 18610, 434, 1489, 14219, 2944, 8910, 8530, 1295, 2608, 4823, 1386, 12329, 15579, 11890, 9991, 8104, 1221, 807, 6875, 278, 8384, 6733, 17665, 1609, 3444, 7796, 1814, 180, 2438, 2627, 3147, 3589, 4336, 6056, 2569, 1641, 1126, 16067, 11006, 949, 9637, 5275, 3367, 4244, 5168, 141, 4692, 4002, 5169, 304, 7874, 2044, 521, 18024, 1288, 5301, 1150, 2612, 54, 712, 6793, 17054, 6560, 3393, 2342, 2873, 11113, 10580, 13714, 5221, 6821, 1162, 5472, 528, 16323, 5712, 3239, 3206, 779, 1755, 1588, 13379, 4572, 3717, 4108, 6210, 18511, 2738, 8705, 15772, 1427, 1059, 420, 15590, 5929, 15369, 4999, 1519, 4344, 8422, 588, 7704, 1978, 11760, 1029, 13882, 6257, 8311, 16624, 4359, 4316, 18653, 4281, 3338, 464, 4251, 2418, 6844, 3358, 11094, 3176, 11932, 168, 2624, 3442, 3890, 208, 9788, 4104, 793, 2786, 433, 2404, 9687, 2260, 8866, 4975, 53, 10967, 13159, 9791, 15952, 4931, 439, 6845, 2557, 16, 3795, 13532, 4675, 10649, 1591, 3769, 11186, 12326, 5600, 9692, 16711, 724, 17313, 2671, 1517, 13267, 11592, 13843, 9667, 1721, 90, 2172, 818, 12292, 2866, 5970, 2118, 2060, 1013, 16564, 11000, 5988, 8542, 367, 6140, 8912, 869, 4815, 3505, 16116, 7249, 7287, 3293, 604, 2295, 237, 1097, 1673, 14207, 1134, 5443, 279, 11464, 332, 9808, 85, 10309, 9113, 5253, 2799, 1950, 14360, 15645, 12686, 10717, 11924, 3065, 11936, 9766, 283, 6313, 14807, 3310, 262, 18560, 3399, 1858, 867, 9470, 4312, 307, 8111, 16523, 9684, 13090, 4651, 3306, 11663, 15338, 13888, 1888, 1193, 5913, 36, 7898, 11993, 1241, 936, 6835, 3945, 2307, 215, 2149, 13326, 922, 3302, 3131, 2801, 5193, 474, 120, 13804, 10918, 8160, 10278, 819, 7695, 6244, 691, 10506, 15752, 16907, 3427, 2107, 23, 4302, 2121, 12846, 928, 3462, 2091, 6823, 4541, 4811, 4707, 697, 2619, 2742, 8678, 5831, 350, 3373, 17110, 1276, 7261, 7081, 6454, 4889, 18023, 4831, 2075, 4462, 3403, 8587, 8374, 17903, 3460, 685, 13237, 7202, 4297, 4025, 10530, 791, 1900, 8674, 601, 5038, 4210, 5233, 1752, 12918, 1081, 10910, 7667, 2643, 11207, 5149, 3713, 354, 1975, 2839, 11243, 7935, 5219, 2422, 16497, 2634, 4178, 181, 3508, 3674, 15054, 4309, 717, 2587, 4375, 2226, 1636, 9988, 15427, 1952, 14524, 14569, 12368, 9986, 3404, 5463, 9257, 519, 175, 4871, 7981, 2289, 2538, 4613, 14698, 6397, 4850, 10672, 8142, 77, 1709, 5918, 18396, 16336, 16914, 16411, 3803, 6231, 8, 4930, 990, 6217, 13832, 15379, 8161, 7513, 9855, 14558, 364, 1331, 9344, 2728, 440, 6172, 1514, 3364, 11832, 881, 18108, 186, 14902, 1397, 375, 15976, 477, 8242, 5080, 1639, 12593, 2442, 482, 6361, 4045, 1782, 6353, 6697, 1001, 3281, 2937, 2491, 17758, 12717, 5205, 1188, 1520, 10187, 15457, 2020, 15868, 10547, 2525, 217, 9347, 2710, 2131, 15639, 6045, 4228, 17946, 5545, 516, 12518, 2377, 7191, 1981, 17666, 126, 10992, 1501, 798, 18412, 1535, 1736, 2471, 3109, 606, 13250, 4923, 12089, 805, 16085, 15588, 10277, 3466, 1247, 3141, 6887, 10911, 12570, 8168, 2541, 6665, 4473, 11068, 14996, 12026, 1351, 9193, 4156, 8647, 11249, 3842, 5948, 14752, 6774, 9102, 892, 16745, 195, 2439, 12653, 37, 770, 4790, 5798, 15918, 5837, 2594, 7464, 2676, 13735, 12386, 956, 2071, 4818, 7650, 10778, 9180, 10673, 13087, 7121, 2183, 12129, 5030, 13709, 1163, 4271, 17517, 10398, 1063, 18631, 5745, 1198, 840, 3299, 766, 7709, 8555, 4773, 1449, 3230, 1203, 1031, 1985, 1764, 10990, 6247, 1797, 9248, 1705, 4029, 1103, 1124, 10518, 4129, 75, 5247, 3307, 3940, 9693, 5229, 3300, 16113, 3749, 630, 4319, 8947, 4698, 10641, 11209, 3425, 10799, 957, 7156, 2990, 11606, 8461, 824, 1066, 14399, 1079, 15409, 7160, 8439, 12770, 438, 3352, 3116, 6621, 5257, 176, 1371, 3686, 10389, 2270, 8291, 2639, 12050, 2621, 2089, 12334, 8605, 17474, 5984, 2446, 6232, 4554, 1554, 7668, 727, 4027, 4124, 926, 652, 3123, 14016, 7836, 447, 12578, 7256, 1432, 9485, 1027, 11634, 1941, 7493, 3244, 3595, 2180, 9420, 7488, 16803, 13524, 14832, 1433, 7806, 1515, 1895, 12256, 15151, 3027, 9342, 1185, 4052, 11081, 3430, 3992, 1410, 12780, 2774, 1889, 5236, 1971, 11005, 6225, 1158, 10097, 4053, 8361, 11415, 9997, 11038, 13819, 1956, 1882, 484, 305, 1727, 14339, 6249, 3170, 13, 2629, 8672, 9260, 17989, 14940, 2481, 11202, 2463, 10622, 3257, 12860, 2137, 2013, 13425, 10954, 8303, 1937, 1267, 6146, 4820, 3397, 7888, 8638, 12119, 4865, 6920, 3242, 10762, 7781, 1485, 925, 1767, 9355, 7017, 3774, 4536, 14890, 8258, 2419, 48, 14941, 5125, 266, 13840, 7846, 7304, 6391, 4834, 574, 4432, 2411, 5066, 457, 7106, 13284, 7467, 7252, 13508, 3104, 15023, 5968, 3791, 4921, 4149, 13468, 13132, 4666, 934, 10679, 2024, 3448, 10774, 5806, 14060, 4837, 7868, 4600, 6541, 1848, 4802, 10753, 9412, 3067, 16864, 825, 6472, 810, 12656, 5669, 7470, 2441, 18131, 18424, 4449, 10883, 12783, 3360, 18113, 1542, 1057, 3047, 3729, 9872, 7372, 6961, 7662, 256, 2580, 12575, 7878, 7727, 9201, 1303, 3164, 6811, 2967, 2436, 905, 3030, 445, 10125, 14348, 7271, 5021, 15290, 9209, 5120, 7891, 17392, 3095, 1366, 9718, 17159, 2236, 1315, 9826, 18676, 7637, 5753, 4886, 6235, 7925, 12084, 8293, 13780, 49, 7864, 15445, 8781, 1424, 18026, 12134, 13093, 5398, 1789, 682, 12547, 6075, 1456, 15221, 7142, 1172, 5215, 8621, 13863, 2151, 10488, 12468, 2051, 3983, 4467, 7716, 1874, 6262, 1409, 11791, 2653, 1644, 3261, 12935, 1038, 1434, 9765, 12077, 1655, 8102, 3861, 17183, 955, 10759, 4902, 11967, 12588, 6654, 14802, 6570, 631, 8732, 2453, 10450, 11797, 14022, 12790, 2591, 3390, 9456, 11773, 4342, 14559, 15763, 2043, 16743, 3366, 10776, 1820, 2675, 1927, 2277, 10110, 2150, 8619, 8690, 2210, 3086, 6203, 5972, 2494, 2087, 10836, 6298, 5202, 3797, 11252, 3919, 6245, 374, 9967, 286, 2496, 14930, 13939, 2576, 8583, 7977, 940, 6631, 84, 8991, 10484, 10563, 5947, 8116, 1768, 2977, 3416, 9338, 13763, 443, 6505, 18305, 18230, 15801, 4984, 6624, 1183, 5828, 1240, 7079, 258, 12179, 3554, 875, 1580, 356, 10231, 8670, 8656, 10049, 6317, 12232, 9773, 1259, 13364, 8363, 6950, 11716, 8146, 2704, 1121, 6032, 3796, 16077, 2834, 3093, 11753, 5916, 2134, 7099, 25, 12356, 11217, 16572, 8743, 7268, 3440, 10416, 1688, 3154, 18515, 6054, 17145, 5392, 3938, 7352, 10408, 3392, 845, 5789, 16591, 3877, 1153, 6030, 5638, 2668, 4927, 8121, 14736, 2688, 4366, 264, 8713, 5032, 3033, 6722, 11808, 1527, 13838, 5906, 4069, 14065, 16609, 14169, 18385, 3573, 13055, 1435, 8518, 1965, 2969, 13378, 1824, 8392, 11240, 3905, 9416, 10735, 268, 12267, 1076, 787, 4355, 13050, 16781, 3045, 6234, 1342, 10192, 9132, 7433, 880, 4100, 5019, 10630, 1885, 15345, 3375, 5226, 15196, 7609, 7111, 3845, 6166, 2536, 389, 16105, 12733, 2938, 6901, 8756, 3767, 2665, 1577, 6064, 10779, 1254, 1500, 5201, 11010, 14700, 12833, 6598, 7792, 3084, 4618, 5183, 2079, 10042, 2628, 12314, 4883, 7456, 3183, 10047, 395, 12583, 3305, 5361, 7612, 4630, 16318, 10517, 11926, 15467, 4879, 4308, 6267, 10157, 4232, 10207, 13579, 4928, 17278, 493, 12352, 11737, 3748, 10917, 16058, 13129, 8675, 9818, 15268, 17445, 17286, 9401, 12243, 11263, 11864, 1495, 3916, 1055, 17180, 16524, 11871, 9796, 1961, 8409, 3066, 3372, 11739, 5436, 5174, 18103, 3718, 9016, 192, 1326, 18670, 1972, 9353, 12938, 5073, 5365, 2285, 11631, 3081, 485, 11446, 11001, 8843, 9028, 15671, 2693, 9888, 1510, 3080, 10384, 9166, 2864, 5706, 10168, 8028, 6060, 14196, 4435, 5040, 11562, 4036, 7825, 8056, 9337, 6668, 2132, 18107, 13401, 6253, 17111, 8479, 4350, 14325, 15811, 3988, 317, 1413, 6959, 11849, 856, 10165, 11056, 5902, 3034, 7108, 8328, 5041, 16181, 8782, 5094, 16759, 30, 11018, 9668, 1304, 1878, 1763, 13990, 6435, 10548, 5610, 17610, 10916, 7766, 14341, 3710, 11703, 6770, 620, 11927, 2783, 13333, 9969, 15437, 16352, 14997, 2135, 16931, 9683, 1783, 4259, 3370, 11124, 7430, 12072, 214, 3689, 3339, 9105, 6159, 10208, 4538, 7414, 1718, 4898, 3989, 6, 1553, 8689, 384, 4502, 17220, 3993, 13598, 6605, 5914, 575, 4733, 8886, 15681, 4701, 3173, 10214, 6958, 5767, 11179, 2584, 4860, 2880, 1786, 11152, 10897, 1112, 2951, 16799, 13270, 15146, 3217, 11729, 3707, 5028, 15692, 2838, 3049, 7347, 18387, 2430, 15706, 1984, 2405, 473, 1548, 3041, 4217, 15983, 1092, 12837, 3205, 3741, 2601, 4079, 3354, 12416, 272, 15424, 4275, 9923, 15165, 13025, 4189, 13040, 8853, 139, 1080, 532, 3982, 18469, 4273, 18187, 8948, 11325, 6259, 8418, 1340, 15884, 10491, 8120, 12805, 10899, 9789, 6011, 522, 1341, 2983, 15159, 6915, 1281, 5333, 10847, 7170, 4833, 8238, 1893, 2100, 16680, 2398, 5216, 4463, 9741, 4754, 6305, 12987, 12218, 1738, 2939, 5974, 1696, 3541, 7146, 16369, 1364, 9233, 9050, 18094, 8092, 13978, 17230, 9228, 2370, 1674, 8835, 15944, 9281, 5299, 240, 14605, 4260, 1378, 4317, 932, 2380, 5027, 3328, 449, 13373, 5249, 3999, 11452, 12774, 3956, 2186, 18727, 219, 12885, 313, 5449, 10561, 2830, 1444, 3453, 2948, 3482, 10240, 1951, 10226, 5320, 2649, 400, 9531, 11468, 8342, 4492, 9184, 4852, 17437, 3459, 6756, 2306, 11827, 890, 565, 6288, 4876, 2374, 1555, 11107, 5105, 12722, 10440, 15876, 9092, 10303, 15691, 17621, 18710, 6314, 2586, 995, 13201, 3579, 3549, 8341, 2660, 4747, 1143, 194, 12448, 13587, 3780, 3248, 3811, 12032, 9451, 3398, 8510, 1994, 11751, 3802, 1083, 1996, 3840, 12285, 16162, 14332, 2019, 3112, 1731, 5328, 5666, 719, 9430, 15250, 2524, 1819, 1196, 16003, 3213, 8387, 4168, 6512, 9108, 11139, 2931, 1314, 4873, 17767, 3998, 9543, 4121, 16616, 9819, 9423, 1139, 3809, 16858, 6336, 4162, 17616, 8794, 11979, 3476, 4740, 12013, 3805, 1228, 9090, 3073, 3461, 8707, 1552, 6322, 5685, 12606, 11652, 546, 2963, 7393, 5308, 15830, 581, 5746, 1544, 6202, 15779, 4258, 1528, 14385, 13701, 16500, 13616, 12687, 8002, 17395, 5420, 4072, 401, 1194, 18459, 1526, 14840, 12871, 9540, 10369, 7046, 8657, 8335, 2017, 816, 6742, 3451, 18125, 18011, 11506, 15770, 2824, 4542, 12178, 4269, 15040, 8144, 6667, 12989, 4058, 4497, 12703, 7327, 14538, 2558, 4548, 1620, 2467, 4543, 15507, 7833, 1402, 247, 7858, 12253, 5824, 2030, 2383, 6975, 1689, 7895, 9488, 977, 5119, 2321, 8643, 7147, 7172, 12550, 10372, 14446, 193, 13433, 2493, 3858, 3408, 1159, 11423, 502, 13641, 18082, 5887, 7157, 10747, 7744, 10092, 9587, 446, 9250, 1404, 2722, 13686, 9231, 17009, 3069, 10086, 15422, 4054, 10363, 8503, 8633, 1036, 2234, 10425, 4838, 8972, 10034, 2581, 6767, 18031, 10904, 10010, 8364, 2645, 93, 12992, 4693, 2672, 14969, 9101, 761, 14942, 15055, 3431, 18198, 3368, 559, 15336, 137, 1933, 13023, 4457, 13292, 16097, 6546, 16049, 2800, 9334, 13393, 12081, 16505, 12376, 10820, 789, 7225, 5310, 1197, 6698, 1602, 1796, 4965, 950, 4881, 2696, 8945, 11316, 12199, 6161, 1428, 2475, 3158, 3753, 7964, 1726, 17335, 10124, 1982, 16332, 1219, 7056, 3088, 3475, 7349, 17028, 2818, 2462, 11848, 9249, 2762, 10592, 7274, 2454, 13002, 4544, 1948, 12818, 12516, 5543, 944, 3382, 1805, 18358, 13452, 7091, 3449, 821, 13400, 2328, 13079, 9576, 5111, 9761, 7254, 623, 12082, 5670, 3949, 6058, 794, 12647, 6459, 1319, 12383, 12981, 4286, 1114, 16307, 14738, 18238, 2184, 18298, 1507, 11962, 18307, 2964, 507, 3290, 1005, 10798, 15214, 1084, 13203, 4439, 759, 3133, 4649, 1568, 5432, 9239, 3028, 346, 248, 782, 2792, 6587, 573, 3291, 9902, 8711, 2699, 6230, 12, 1524, 4436, 4180, 27, 17793, 2507, 7492, 18571, 2133, 16267, 5991, 4199, 2972, 17626, 2711, 9443, 18620, 705, 263, 6020, 13450, 9169, 7389, 14760, 9863, 7619, 4922, 11931, 5937, 17538, 6640, 10321, 7262, 16576, 10549, 16836, 2811, 3319, 8649, 7187, 12110, 1788, 6916, 14006, 2610, 14215, 16028, 7074, 15508, 10206, 7061, 12801, 17530, 17193, 6214, 8181, 381, 9582, 5099, 5264, 11099, 16444, 1724, 7265, 14280, 9717, 11, 4859, 1299, 1516, 12277, 335, 659, 4732, 12038, 899, 15334, 2988, 15934, 6773, 5355, 13664, 1017, 1156, 16934, 10615, 9185, 5087, 9163, 3576, 1461, 18740, 6222, 4830, 10188, 4849, 6884, 2424, 13854, 5890, 2913, 3435, 2375, 3882, 1668, 17851, 6362, 2975, 5588, 13181, 2093, 11609, 17503, 6635, 10033, 26, 4447, 1640, 14335, 12225, 1979, 5597, 8718, 6482, 2385, 7661, 2271, 6730, 14355, 10956, 6528, 4851, 1502, 8663, 6857, 3428, 5380, 14301, 2476, 9021, 4164, 10953, 8259, 4779, 6862, 8255, 6905, 2861, 6187, 11833, 5718, 9727, 2732, 11170, 6121, 3102, 6458, 1422, 3103, 8603, 11767, 7224, 11885, 5951, 3076, 3159, 17468, 3542, 6480, 15773, 16209, 5621, 674, 2059, 12953, 14733, 3616, 6601, 1547, 2114, 17556, 9212, 15015, 1218, 1189, 7932, 15440, 11718, 4433, 2737, 11284, 5225, 5411, 10144, 2646, 999, 1136, 4824, 4224, 3706, 14835, 2532, 6694, 12364, 2174, 10496, 529, 11923, 1531, 12971, 14708, 10325, 10719, 17902, 7653, 2161, 10555, 3099, 4098, 4696, 1388, 15485, 1800, 9528, 2677, 947, 11670, 14359, 10076, 5555, 591, 14946, 10316, 4639, 4601, 4166, 1828, 1684, 5160, 270, 566, 2810, 11857, 8054, 3119, 9170, 2876, 4579, 2203, 11079, 5784, 16350, 901, 13164, 9478, 5045, 756, 7849, 7722, 9804, 13922, 12123, 4796, 3172, 3468, 11450, 4216, 6600, 1717, 3702, 6943, 14746, 12145, 12555, 18260, 10461, 4237, 4846, 1133, 9112, 10737, 16617, 1899, 15134, 12795, 3491, 3590, 11928, 6935, 13206, 7038, 12283, 5644, 7219, 15686, 3545, 10831, 12128, 577, 287, 5033, 11489, 12957, 1804, 2222, 14792, 4474, 4828, 5179, 3032, 10235, 6952, 883, 6527, 2852, 3826, 3313, 11800, 17252, 1775, 8610, 8076, 14647, 2731, 1913, 5390, 11532, 18124, 3282, 14578, 3871, 10229, 18172, 6619, 5052, 6524, 18137, 882, 4103, 1302, 5018, 399, 1988, 1132, 8582, 3443, 1361, 1479, 5539, 13391, 2460, 10523, 16353, 829, 4264, 15137, 15258, 17747, 3559, 9457, 10456, 5154, 3391, 7866, 11623, 7985, 10106, 15295, 18268, 7663, 8307, 17169, 8350, 14904, 15518, 4223, 10310, 6365, 3555, 4615, 1808, 2239, 16127, 5452, 3745, 7213, 2915, 68, 2026, 7130, 763, 16859, 1929, 57, 2836, 4826, 3455, 3754, 4731, 18667, 15786, 7775, 9578, 14461, 613, 16595, 8799, 11771, 13362, 6556, 7759, 5587, 12984, 7010, 3624, 10536, 15687, 13813, 10198, 9716, 12230, 6189, 2857, 5071, 18591, 2417, 16283, 5636, 12281, 2353, 15107, 3862, 17022, 14488, 11517, 6878, 5735, 2364, 10919, 814, 370, 12270, 11588, 4387, 1086, 2081, 15484, 6292, 6150, 1802, 14292, 11584, 18046, 10387, 12944, 11899, 9745, 11897, 5833, 4383, 14448, 11191, 8223, 9285, 4272, 10098, 11865, 987, 8453, 6426, 9234, 7902, 8192, 696, 17154, 13172, 1289, 18708, 1870, 1023, 10090, 579, 12330, 16246, 10248, 18352, 6099, 13706, 9977, 8701, 2574, 3330, 4368, 6904, 1381, 7110, 4848, 4346, 357, 14343, 747, 13610, 3587, 416, 2654, 10400, 6252, 2053, 10314, 4314, 2281, 9436, 18541, 14979, 5313, 4891, 2047, 2545, 12000, 6957, 7556, 15361, 10995, 1347, 12483, 8836, 4222, 1579, 4004, 6706, 4872, 8085, 8077, 5964, 1670, 7460, 9276, 10876, 7281, 5353, 817, 13064, 11754, 1742, 864, 5244, 9033, 3125, 14692, 16248, 12022, 3833, 5845, 1260, 13033, 1325, 16019, 846, 2232, 10239, 5241, 2447, 5085, 17875, 16251, 1330, 7471, 2162, 17184, 10521, 80, 4125, 7411, 5966, 1421, 5172, 669, 6497, 783, 8715, 2200, 619, 15587, 259, 1881, 16217, 17158, 5967, 2273, 4306, 1829, 18383, 12693, 10935, 11650, 3001, 9851, 103, 12028, 9026, 1794, 1431, 2673, 15383, 12683, 15162, 7486, 10041, 4795, 13000, 12668, 12852, 1540, 6602, 2822, 9701, 2887, 878, 6871, 13515, 16070, 13960, 4597, 9595, 10453, 4257, 11219, 9644, 7713, 10590, 1225, 6986, 8616, 4047, 3252, 3419, 7457, 4283, 253, 6372, 2891, 4941, 17975, 2835, 18429, 2344, 13809, 14048, 7129, 2435, 4994, 14483, 9753, 4277, 4552, 1446, 6900, 18559, 11635, 15083, 9453, 14227, 2143, 1018, 16974, 8716, 12125, 9831, 1200, 627, 7908, 5184, 10142, 8153, 6108, 2005, 490, 2241, 5254, 2457, 3413, 4919, 1691, 12317, 9926, 3806, 6707, 15762, 2207, 6048, 11984, 6755, 2225, 12529, 12813, 12838, 15954, 8204, 6388, 245, 6330, 2605, 2991, 5115, 12004, 10761, 10596, 4620, 12391, 15700, 9678, 13394, 2617, 15288, 2416, 8639, 13797, 12576, 11472, 2573, 6444, 4720, 6648, 8424, 9594, 5079, 14460, 12773, 66, 18660, 10913, 12143, 1374, 15862, 10691, 16107, 7032, 17210, 15078, 8194, 13387, 5076, 6395, 16292, 7834, 16756, 16440, 10412, 14175, 3497, 1000, 17407, 7995, 12115, 18192, 13553, 3309, 4211, 4039, 661, 13031, 939, 4621, 7854, 2386, 2280, 3481, 3691, 8629, 1891, 1522, 9631, 4379, 15229, 6783, 5327, 5675, 7007, 15308, 7023, 2611, 6748, 1481, 7865, 7399, 14956, 7743, 3266, 850, 13614, 2534, 6687, 4022, 4988, 8559, 777, 1113, 17361, 8276, 9383, 5975, 855, 7499, 13377, 6608, 5978, 10699, 10857, 6529, 5002, 6375, 13294, 3083, 15331, 6726, 2785, 239, 14952, 13779, 18444, 1834, 5068, 5075, 8593, 6109, 15231, 2784, 16835, 11155, 18449, 8398, 1511, 7643, 5459, 1944, 6784, 6018, 16926, 4236, 8575, 16060, 17720, 2514, 5152, 8767, 9454, 7120, 2902, 7276, 15853, 1049, 9329, 9224, 13885, 10554, 8811, 1809, 13703, 15351, 17273, 8679, 6868, 6135, 18056, 6551, 2242, 1384, 9614, 17062, 3074, 2202, 3488, 9299, 13274, 2701, 7700, 585, 13360, 12377, 7892, 3685, 2000, 12288, 14498, 4995, 5981, 5375, 6229, 12652, 4970, 3346, 608, 4611, 9158, 945, 5206, 15028, 16361, 9836, 8662, 2402, 5532, 6603, 391, 5404, 4771, 9622, 2032, 7918, 1650, 12820, 13592, 5394, 15092, 6824, 6812, 12792, 9251, 14055, 12524, 1115, 8951, 4670, 6972, 2158, 5001, 14833, 18341, 16381, 13369, 4348, 3387, 14174, 10029, 877, 12696, 14328, 4230, 14646, 7045, 635, 9829, 8696, 11717, 9898, 3869, 795, 5468, 10838, 5429, 3409, 11470, 7452, 14255, 2743, 7815, 4190, 10301, 10428, 7730, 1910, 3946, 4877, 18259, 9272, 9558, 11685, 13947, 9590, 8534, 4558, 3798, 14570, 7237, 16788, 2900, 7705, 1148, 9600, 3469, 16321, 39, 13542, 8728, 4471, 8867, 1846, 12120, 15573, 32, 15920, 15937, 6714, 3876, 5688, 6076, 5453, 3896, 18639, 14924, 15793, 7321, 16240, 9709, 47, 866, 14020, 5603, 3962, 14373, 16596, 4725, 1589, 3827, 13690, 15885, 10385, 2292, 8802, 5567, 5302, 1401, 12643, 5266, 3619, 8658, 13738, 11785, 13070, 1125, 8823, 12030, 6724, 14681, 1491, 2390, 18063, 14089, 8901, 10613, 11074, 1232, 9815, 8188, 2832, 3383, 16081, 3304, 17194, 9218, 15257, 8261, 3660, 2266, 2369, 11352, 18325, 2384, 3735, 4171, 15871, 14166, 11630, 5667, 1811, 7367, 6777, 2002, 4822, 1812, 2201, 3414, 15443, 18564, 7468, 7407, 18407, 1751, 6227, 6553, 2409, 14124, 14350, 8440, 13671, 7970, 16159, 2685, 11436, 13503, 2125, 3498, 625, 6614, 6226, 2188, 8962, 18355, 3250, 9979, 912, 113, 11699, 14253, 2041, 5805, 5509, 10832, 11234, 3058, 6936, 1845, 1806, 12667, 8067, 9929, 14756, 16499, 9665, 5684, 13647, 1263, 76, 17264, 11525, 2695, 10681, 3056, 16061, 7137, 9907, 9051, 1053, 13345, 5606, 4097, 15423, 4437, 958, 5901, 11501, 14725, 7373, 2264, 5730, 18695, 14467, 16244, 1503, 1226, 10429, 9978, 3101, 4296, 7173, 13567, 2664, 3132, 12276, 17079, 4470, 7241, 10921, 5995, 12138, 9177, 11823, 3051, 3903, 15171, 4442, 5332, 992, 16568, 393, 10067, 12194, 6421, 17557, 462, 6779, 31, 13958, 3054, 15339, 15128, 14535, 15186, 1648, 18053, 17930, 2297, 8668, 4330, 4869, 6223, 10720, 1190, 2366, 6024, 10449, 15880, 15368, 5759, 10969, 13732, 11930, 1884, 12998, 12449, 11617, 4122, 13182, 12182, 3441, 10582, 1784, 12669, 18030, 12454, 7126, 8653, 751, 12337, 1835, 3843, 12175, 9662, 4369, 17024, 4397, 4819, 4943, 6345, 3817, 2123, 5928, 15012, 13913, 1309, 18009, 927, 17061, 2069, 3185, 13137, 158, 7530, 12358, 17213, 5065, 11400, 7410, 4238, 13629, 8290, 9055, 2039, 612, 10455, 3316, 4700, 4863, 11963, 5246, 5166, 14216, 14450, 3883, 3737, 16947, 5465, 8727, 2003, 13222, 2265, 18126, 5306, 14666, 946, 12872, 5990, 16967, 12114, 18292, 18320, 10001, 11484, 1813, 17367, 15075, 3121, 10589, 13349, 3531, 12434, 8832, 3092, 17424, 11372, 18468, 4077, 12675, 10614, 6683, 876, 3606, 3577, 38, 15815, 15211, 3784, 9821, 11244, 10126, 2037, 4081, 2227, 563, 10209, 10640, 12347, 7135, 10331, 2472, 11505, 2111, 9356, 4250, 17687, 13212, 2440, 12642, 16492, 14186, 4870, 16563, 12020, 16854, 4966, 647, 9403, 3320, 13358, 13426, 16516, 15838, 10598, 5017, 13175, 5495, 7787, 4710, 11960, 18689, 7179, 5774, 12405, 4556, 4031, 14796, 6176, 1056, 1294, 388, 12319, 16022, 11776, 14951, 7116, 6933, 13733, 5307, 744, 12561, 483, 10, 6495, 743, 16239, 4565, 15074, 8043, 9877, 1942, 16341, 2022, 17161, 8868, 13038, 15115, 5673, 7611, 4173, 3286, 1614, 6242, 14370, 981, 6125, 9990, 218, 6946, 10004, 16509, 11350, 18096, 11147, 17522, 2606, 3967, 788, 1457, 7651, 570, 12487, 9873, 14369, 14521, 12556, 16018, 3237, 9720, 9596, 7180, 8278, 7227, 10585, 4874, 13454, 13741, 17888, 2122, 18706, 11182, 9041, 16437, 10976, 11512, 1832, 3082, 16276, 13839, 6516, 13700, 4648, 1883, 10430, 1306, 14435, 2205, 5934, 15748, 14642, 5736, 1008, 7434, 13134, 1817, 8013, 4334, 15874, 18005, 17, 4066, 3812, 15903, 17224, 4086, 9860, 6559, 12257, 1509, 2568, 6988, 1293, 1028, 14991, 16340, 14108, 17198, 2829, 18389, 8881, 10745, 4135, 12902, 3738, 11731, 6194, 17542, 11743, 17526, 2802, 3509, 2073, 2254, 1152, 698, 13539, 5855, 660, 11157, 15203, 7881, 8162, 2638, 12061, 12239, 12465, 6947, 12963, 6490, 6879, 14151, 1610, 2971, 16454, 17844, 1344, 1890, 4067, 13180, 17464, 1904, 12600, 7514, 11463, 8234, 2516, 17168, 2790, 15741, 853, 260, 8645, 13681, 3126, 5130, 18037, 1597, 11121, 645, 10399, 6132, 4609, 16666, 7686, 2088, 4934, 5575, 9671, 11401, 3756, 550, 3298, 6129, 2282, 2211, 1490, 18263, 4488, 2650, 10974, 11346, 4185, 12980, 6508, 11826, 8088, 5049, 17388, 15982, 1411, 5475, 4292, 6720, 7051, 5277, 4390, 18231, 6567, 15500, 16143, 4040, 3053, 8451, 3225, 4291, 2194, 8018, 15915, 12947, 10368, 1622, 15371, 5982, 17653, 12153, 7057, 10281, 3807, 1940, 2655, 12029, 10402, 7741, 11416, 5157, 16966, 15248, 2637, 18130, 17998, 10391, 14594, 4288, 15030, 18366, 14662, 9287, 2749, 12708, 7566, 2358, 10612, 9537, 10116, 11385, 15429, 4546, 11236, 3714, 2575, 14303, 5820, 836, 16234, 3873, 6270, 4414, 9672, 3314, 12419, 3405, 4252, 452, 4391, 8837, 14799, 15718, 15607, 2268, 3740, 7100, 18433, 4588, 4703, 2381, 4486, 3985, 847, 12605, 5965, 8830, 11206, 11806, 8812, 8038, 18356, 17413, 2252, 5530, 2596, 6547, 15585, 4963, 10498, 6772, 9867, 7957, 6074, 6286, 18545, 5697, 2780, 2319, 151, 13417, 8994, 15230, 2437, 2936, 4138, 18376, 448, 16615, 14291, 15085, 3823, 5565, 800, 11665, 15921, 1945, 14896, 17302, 1438, 9414, 5100, 9302, 1338, 2097, 7735, 12201, 10104, 2669, 6139, 10265, 4048, 7308, 723, 1855, 14601, 8502, 1776, 13555, 11480, 7162, 15657, 6539, 17622, 10608, 12299, 13712, 7689, 1004, 4276, 1220, 6046, 17162, 2791, 10212, 13944, 3681, 12280, 8309, 852, 3617, 1231, 12709, 633, 9455, 6195, 9494, 2957, 24, 15703, 14401, 12266, 6873, 2363, 3944, 4362, 11783, 5885, 4161, 7002, 5217, 11902, 12009, 16013, 11365, 18386, 17721, 16409, 7375, 3153, 3489, 6006, 11837, 476, 8771, 12889, 4521, 1779, 235, 5053, 7791, 8762, 14028, 2341, 2209, 95, 7521, 7273, 13822, 7242, 1679, 2869, 6962, 16205, 17015, 13156, 1586, 11969, 10202, 277, 249, 2214, 11536, 8035, 8215, 16689, 12573, 7041, 15100, 10410, 10966, 3948, 6789, 11431, 14966, 15335, 4311, 16055, 8730, 4842, 7974, 7307, 10096, 13044, 14501, 7803, 2821, 9175, 12861, 8859, 3044, 4417, 7114, 4532, 14670, 4910, 8790, 491, 2904, 7248, 4880, 2871, 12163, 12785, 16559, 4736, 10249, 4937, 13889, 7554, 5256, 8107, 6579, 14909, 13988, 8504, 4489, 3912, 1987, 7845, 3557, 6396, 10961, 7427, 583, 1993, 13429, 431, 1973, 5881, 15098, 10516, 16154, 6581, 9704, 13354, 7837, 4577, 14603, 764, 16237, 2723, 13060, 10007, 7681, 15247, 4126, 11203, 1065, 13178, 1780, 7128, 3562, 11852, 1, 14734, 1826, 11820, 18635, 12343, 6703, 1683, 2394, 13460, 762, 1493, 5015, 6128, 7931, 6409, 17548, 5631, 10632, 4290, 11822, 4564, 1348, 15035, 7055, 10020, 5994, 3765, 14564, 3342, 721, 2164, 5989, 2614, 6196, 3546, 5155, 1760, 7344, 9559, 8996, 9783, 3800, 8171, 6545, 8824, 1867, 5427, 10715, 7623, 3140, 3820, 3190, 6008, 7462, 9805, 14592, 5416, 11968, 6309, 5785, 12220, 4023, 9107, 10564, 2713, 12499, 7311, 3247, 16042, 9840, 12154, 5876, 2495, 8320, 11093, 11300, 6765, 14235, 4531, 6876, 3432, 9304, 778, 3145, 699, 6569, 179, 9719, 201, 8491, 6518, 8691, 17461, 9823, 2565, 8047, 3609, 17673, 2500, 16732, 7364, 13537, 4971, 10625, 4900, 3471, 7955, 8378, 13757, 11291, 2756, 16891, 983, 3670, 18285, 14264, 1798, 5879, 16789, 10963, 6009, 5081, 12291, 10938, 895, 16186, 4263, 16346, 6274, 5334, 1209, 10825, 17717, 10827, 11087, 7113, 17294, 7505, 12603, 9573, 13856, 16634, 12174, 6892, 178, 8852, 8470, 15883, 10037, 12027, 3269, 2578, 2978, 3584, 5082, 4231, 12057, 4339, 16382, 2296, 4464, 5775, 7994, 1690, 15900, 9308, 2827, 8053, 3495, 8671, 14200, 4270, 10848, 6204, 2773, 4423, 14394, 7301, 14634, 11218, 5425, 3921, 13147, 13825, 3915, 16895, 1694, 12700, 9433, 974, 586, 8247, 16612, 1654, 2893, 18592, 1236, 17608, 1744, 4948, 17331, 8706, 10120, 4299, 2459, 13722, 11500, 6164, 1576, 5010, 8741, 4080, 6179, 4003, 3124, 6728, 13221, 2395, 15444, 8817, 1604, 14249, 10569, 5683, 18295, 12092, 13202, 14346, 4209, 10220, 10227, 17942, 1164, 4592, 11204, 9920, 10127, 5787, 12911, 18165, 3719, 14141, 9351, 16448, 16450, 1077, 5488, 16272, 11522, 15479, 11412, 5506, 1857, 138, 6363, 17136, 7190, 6669, 2154, 9566, 13415, 269, 5461, 8930, 4742, 7445, 14968, 17386, 11552, 16669, 12586, 13102, 3929, 6948, 11794, 8343, 1349, 6781, 5559, 2750, 1578, 12996, 4012, 14838, 4792, 1698, 8095, 11672, 8699, 3572, 7264, 8759, 8721, 6566, 11892, 694, 8809, 13446, 16848, 9340, 10458, 2554, 7924, 17406, 6004, 11732, 6847, 6103, 10228, 16607, 5531, 3621, 6212, 18284, 2433, 7823, 4622, 3721, 4466, 720, 1585, 8595, 811, 626, 5571, 16163, 14121, 5031, 14550, 971, 3832, 9850, 9862, 14797, 14122, 14466, 12053, 10716, 11985, 2907, 435, 5661, 17518, 18408, 9468, 17649, 1657, 3770, 4893, 8547, 15538, 9598, 1716, 15520, 3564, 2050, 12426, 18391, 7343, 1574, 6721, 8795, 7978, 8081, 16611, 5672, 13929, 15891, 4587, 1605, 8113, 10984, 15861, 10878, 6994, 15050, 6838, 1778, 9072, 8474, 10546, 3396, 6549, 5323, 6771, 5595, 3504, 7884, 216, 6693, 15675, 9413, 6136, 5083, 5186, 5645, 12618, 10230, 12787, 10675, 3362, 9190, 3865, 10407, 3793, 10232, 1460, 5846, 16158, 10710, 6337, 17441, 9323, 7444, 4458, 9734, 5140, 16351, 10755, 17915, 5886, 4917, 17537, 1677, 17119, 8243, 18395, 688, 15979, 1082, 3560, 1010, 5838, 13666, 10663, 3814, 8127, 2599, 3267, 9462, 11762, 14621, 15108, 3029, 8623, 17796, 469, 17226, 9324, 16394, 13200, 12657, 2339, 7084, 10252, 10156, 9084, 17702, 13107, 14023, 2251, 16406, 2753, 2415, 9475, 8925, 13231, 3447, 10696, 1653, 18654, 9002, 8369, 17384, 15886, 1801, 11884, 10262, 10318, 18174, 9649, 17149, 6073, 14043, 3853, 4585, 10075, 10627, 12161, 10931, 14544, 3673, 14974, 3203, 17266, 8887, 1026, 2335, 14965, 1970, 16419, 5578, 8017, 17462, 3700, 12433, 4038, 14771, 18040, 15631, 10162, 5927, 2954, 6833, 13715, 14134, 9973, 15237, 7909, 1271, 10595, 17295, 3070, 3895, 3277, 12640, 8140, 6392, 10028, 12289, 2126, 9409, 2052, 13444, 8329, 5891, 3369, 3437, 10898, 12359, 8143, 6477, 18013, 6732, 2167, 5263, 4752, 4074, 10837, 10764, 12964, 1712, 16960, 4530, 14030, 16744, 11834, 16522, 5212, 8614, 11066, 15901, 10013, 5898, 8847, 13523, 13713, 1529, 15919, 1770, 12165, 10064, 3675, 11604, 3151, 6519, 2008, 11534, 5297, 18150, 2309, 13586, 1669, 5716, 16393, 11049, 7119, 3527, 12527, 7398, 8891, 14841, 15572, 14898, 2571, 3292, 41, 4525, 10107, 8652, 6282, 8202, 4990, 8497, 1743, 12776, 3955, 1740, 16199, 7862, 2237, 15413, 8324, 16258, 4059, 3781, 15396, 6739, 14768, 17529, 10196, 17013, 18668, 7140, 9624, 4360, 2048, 11641, 3819, 14244, 4924, 18686, 11712, 6281, 12927, 17338, 6439, 7545, 4892, 7737, 2004, 16416, 13657, 16892, 4188, 11625, 12755, 13731, 3743, 5464, 10524, 6534, 14728, 1006, 9599, 5574, 15344, 7223, 6456, 10684, 11570, 13042, 15089, 14317, 4051, 4196, 17552, 2725, 15916, 8758, 8916, 10618, 16152, 16342, 18693, 8789, 13575, 9674, 2084, 16165, 9980, 3758, 13126, 4049, 7675, 14695, 15985, 6713, 1272, 1380, 10617, 4107, 1932, 10489, 8900, 15014, 7873, 4688, 16094, 14182, 8030, 13760, 18245, 4723, 1651, 4399, 7929, 2445, 252, 1177, 8724, 4225, 4787, 15712, 17014, 8015, 9449, 14982, 14633, 11640, 11176, 15679, 6522, 10423, 5061, 1286, 1472, 5534, 4361, 10889, 3255, 4338, 5847, 9963, 5198, 18454, 2845, 10374, 5272, 5537, 8496, 15060, 14685, 16092, 11413, 6299, 12969, 9545, 1675, 16467, 6626, 16861, 10694, 7419, 17836, 13956, 6000, 9912, 12677, 7171, 10074, 8190, 10128, 7660, 6137, 13318, 17993, 5594, 14198, 10989, 3996, 17680, 3558, 17640, 9071, 1465, 13258, 3077, 6903, 1440, 8754, 13323, 13259, 13296, 5983, 2067, 4780, 8244, 3156, 8182, 5227, 10460, 3323, 5615, 14908, 11912, 2072, 18028, 6893, 941, 9255, 8155, 9794, 9152, 419, 16392, 2620, 10705, 9196, 12515, 8122, 6982, 5558, 16057, 12959, 1270, 3790, 11105, 14917, 9742, 2808, 5165, 15037, 8287, 3751, 3638, 18661, 2410, 18178, 7967, 649, 7885, 11664, 16189, 2244, 14944, 14610, 1261, 5417, 14970, 6645, 11695, 2552, 1930, 13386, 8304, 13950, 7409, 6593, 12406, 799, 1725, 15749, 14588, 2618, 17710, 11504, 7466, 5553, 4705, 18309, 7541, 2338, 10846, 9155, 5584, 13268, 9633, 8522, 2997, 9535, 5218, 14562, 4631, 14376, 8206, 17625, 6760, 16627, 6913, 1922, 7088, 11210, 14743, 5089, 14031, 4443, 3866, 16952, 18083, 10040, 1839, 6630, 11360, 13226, 14999, 7899, 6745, 13409, 4241, 3592, 3188, 1536, 5589, 4349, 3987, 4044, 14961, 15173, 10718, 6899, 1022, 6803, 5147, 13413, 13736, 3829, 13411, 6538, 13289, 14353, 6790, 5129, 2980, 11290, 10122, 2905, 3388, 8898, 754, 14305, 12921, 10624, 9161, 15725, 8286, 14801, 16501, 14706, 12625, 9286, 17659, 10905, 2559, 11611, 338, 5633, 8023, 7707, 16928, 10409, 1872, 6335, 18675, 2261, 18158, 6123, 13756, 5724, 879, 862, 14959, 9654, 5510, 2955, 18247, 16464, 15928, 2987, 3684, 6066, 2156, 15428, 4753, 5360, 3278, 13637, 17212, 369, 13685, 9609, 5485, 820, 6576, 1117, 10702, 15068, 7348, 7767, 9100, 18452, 17275, 3254, 2919, 9070, 7098, 7664, 10662, 15696, 3402, 1058, 2903, 6044, 5487, 5020, 6131, 9657, 17433, 14259, 1002, 10390, 14836, 9777, 3778, 3664, 4839, 12595, 8816, 15840, 2230, 4341, 13879, 15941, 5733, 8960, 4755, 7965, 14132, 3340, 10698, 2995, 5044, 6670, 4801, 10191, 17196, 6612, 13061, 9116, 4856, 10508, 5175, 10648, 7234, 5137, 6197, 7626, 5640, 6740, 16017, 2909, 12960, 10677, 9156, 15460, 13123, 12393, 8091, 280, 7122, 18317, 12105, 6422, 2526, 8882, 2735, 834, 11935, 2038, 18111, 1539, 17749, 15011, 3794, 3886, 13054, 12375, 16694, 16618, 2798, 15591, 9944, 7396, 2015, 10002, 13419, 4145, 3544, 14075, 5962, 8239, 14026, 10105, 1437, 5371, 7693, 6205, 3285, 3197, 14240, 2533, 10626, 729, 6708, 15212, 2833, 10053, 6866, 13143, 8738, 5346, 2426, 15911, 18742, 7453, 14754, 9705, 17711, 15117, 8313, 13262, 1756, 9103, 7090, 514, 11499, 10560, 2796, 18662, 4908, 5467, 11627, 14287, 4775, 496, 7953, 3997, 9348, 10418, 16010, 15481, 2283, 9504, 6133, 14392, 16089, 5454, 2698, 18332, 16108, 5663, 14513, 7795, 17586, 2670, 16646, 2479, 2193, 8020, 9706, 18076, 4981, 17943, 9779, 4073, 2626, 15414, 14311, 6909, 15583, 16780, 8988, 13915, 13904, 11276, 2705, 6686, 9630, 13680, 10358, 4191, 12585, 3, 10024, 7565, 16758, 12056, 2117, 3613, 12562, 12847, 8752, 14967, 11598, 12404, 7776, 17182, 14312, 10039, 13169, 4136, 10872, 18605, 17248, 5446, 10729, 15714, 14322, 2986, 15058, 9363, 1966, 4075, 3422, 15301, 3512, 4861, 9962, 9822, 5483, 6939, 18347, 15327, 6679, 15570, 14265, 422, 5350, 4571, 2310, 17064, 8089, 15390, 16695, 2817, 6027, 15226, 6718, 3755, 3727, 8270, 13098, 7829, 17913, 8584, 4099, 5611, 11309, 9974, 11830, 12173, 10161, 17872, 8862, 11122, 2269, 17505, 14033, 2960, 17508, 17499, 8845, 13881, 6047, 11612, 13279, 14765, 5288, 3105, 3692, 12445, 12712, 9372, 1537, 5568, 4325, 9636, 13046, 13303, 13374, 2590, 3787, 10245, 6911, 18609, 7243, 10502, 12967, 4786, 15517, 749, 10500, 4195, 17409, 13556, 5093, 4194, 6743, 2175, 6485, 9183, 5658, 8650, 15971, 1214, 1960, 5969, 2458, 8236, 9781, 1546, 2820, 5653, 5977, 13219, 2054, 8806, 6808, 13351, 3599, 4568, 839, 3695, 9148, 6615, 3760, 12086, 1127, 1399, 13447, 16177, 5391, 10436, 14740, 16910, 3087, 4678, 14212, 5309, 7448, 12202, 12479, 6520, 14954, 9326, 9930, 7380, 2455, 9404, 1085, 6083, 1847, 11802, 9749, 12357, 595, 3246, 11546, 11085, 1660, 16683, 11134, 7725, 5955, 5260, 8371, 5153, 18600, 3628, 12635, 7112, 17370, 642, 12436, 14018, 6410, 18514, 3106, 18075, 2187, 7127, 10327, 11657, 832, 14052, 13630, 10380, 9119, 5564, 10058, 17379, 6017, 463, 15431, 15119, 7756, 3343, 14625, 6264, 8819, 6186, 3146, 16385, 13049, 4370, 17966, 18546, 4887, 18109, 4746, 8074, 7338, 12367, 8918, 5717, 9079, 18576, 13160, 3816, 7086, 13239, 14153, 1616, 5958, 15854, 12526, 6407, 18709, 5935, 10973, 6942, 1631, 1938, 15450, 12262, 1837, 10572, 14493, 13711, 6119, 6272, 9551, 5273, 10674, 13177, 8558, 14326, 13161, 2276, 6633, 14222, 14489, 15641, 15567, 8456, 1020, 10844, 12975, 8229, 11332, 849, 13325, 4285, 2378, 13355, 14147, 18282, 347, 5919, 15504, 5526, 17431, 10404, 4711, 13821, 6181, 7123, 15020, 1603, 8210, 12338, 11280, 2486, 11393, 4229, 18185, 13194, 372, 10823, 4061, 15463, 18550, 5415, 16029, 771, 5836, 16245, 1825, 11955, 4212, 12853, 10784, 2921, 7939, 4858, 3024, 7212, 451, 13540, 4356, 5262, 5245, 4068, 11903, 7947, 15907, 15774, 13530, 5542, 5920, 8149, 1758, 13993, 2178, 16840, 18715, 14494, 7797, 7342, 10708, 4182, 5871, 6979, 1337, 6544, 16698, 14499, 2758, 3079, 5698, 10069, 18289, 9437, 14237, 14014, 13440, 17031, 12751, 15626, 5239, 9288, 18349, 10322, 2033, 12340, 9843, 6374, 7742, 5617, 3548, 2625, 13067, 13383, 11723, 15156, 18287, 11696, 1283, 10355, 9813, 6997, 16752, 11970, 10535, 6356, 14742, 9382, 1205, 6517, 8681, 9568, 13019, 376, 17739, 16457, 18584, 2623, 12389, 1815, 8513, 2061, 13758, 5893, 15674, 3976, 6386, 15464, 9869, 6390, 10856, 13428, 12141, 10026, 14688, 18621, 7059, 14795, 1174, 7655, 3312, 8069, 10875, 16090, 17554, 1711, 13343, 16151, 15673, 7067, 9697, 3888, 5133, 4101, 6657, 10607, 2819, 9048, 8445, 12088, 5379, 13053, 9611, 8367, 9049, 11417, 9733, 3436, 7869, 2324, 7255, 6860, 17580, 5471, 11088, 7794, 2361, 4935, 5859, 9110, 16748, 3511, 14846, 18293, 3296, 6715, 753, 10388, 2858, 7163, 11177, 4575, 11483, 12713, 2488, 2102, 5659, 17656, 14650, 1094, 2345, 4589, 5358, 9800, 16486, 3493, 2190, 9341, 6941, 13209, 17389, 976, 676, 7325, 16514, 6684, 8034, 17427, 8312, 5930, 5319, 17418, 18450, 7971, 4685, 15761, 12577, 8536, 11839, 1290, 7418, 16881, 4669, 13995, 9499, 3418, 2253, 9960, 10216, 7329, 12011, 17817, 15315, 9417, 13215, 6191, 10247, 7590, 17272, 3249, 11568, 6647, 12342, 5011, 15289, 6776, 7291, 12374, 6079, 16860, 9617, 4119, 13734, 3004, 11410, 5451, 3198, 4147, 3792, 4363, 6877, 14676, 12928, 11071, 11669, 4239, 5765, 164, 4526, 12761, 275, 12096, 6819, 9608, 4154, 13848, 13514, 14631, 10811, 5961, 1607, 10472, 10659, 8281, 10349, 17494, 18085, 319, 6003, 13282, 5428, 12991, 14881, 13007, 14199, 1989, 6924, 12033, 15787, 4646, 970, 15999, 11860, 12036, 12315, 13742, 2155, 4702, 13748, 14495, 10401, 4155, 17757, 9223, 9245, 9941, 4940, 1273, 5035, 4550, 1618, 5508, 4082, 2598, 4220, 7673, 10108, 9601, 9550, 9878, 9187, 2290, 4254, 6910, 14905, 10575, 3857, 12848, 14024, 16229, 767, 7805, 9275, 6265, 6185, 15201, 9905, 13264, 17063, 17584, 15633, 17972, 8785, 10987, 9450, 12002, 10902, 11221, 12986, 15556, 17320, 7251, 3094, 18548, 11642, 11098, 11407, 5434, 684, 7406, 18291, 4912, 6897, 7848, 1671, 10362, 5317, 11978, 7300, 7428, 3583, 415, 17290, 11878, 7649, 7518, 4183, 5088, 15750, 11728, 10611, 6540, 13638, 409, 6301, 8232, 17067, 15643, 4605, 11308, 2777, 1003, 2504, 12496, 12429, 13287, 11158, 8351, 6481, 16120, 15076, 8997, 15789, 11069, 6785, 11958, 9868, 1663, 7503, 10166, 10017, 8372, 11953, 5122, 4382, 13517, 17775, 894, 2502, 8827, 10038, 11764, 16968, 5004, 7218, 15503, 3646, 11590, 2421, 7117, 11798, 7579, 10164, 2922, 13026, 12233, 1773, 13656, 11242, 6796, 13032, 2851, 13765, 8016, 10143, 11597, 3722, 6319, 10043, 7516, 14573, 15505, 18038, 5448, 14547, 7362, 8931, 15917, 10579, 13953, 5197, 4998, 12923, 16076, 3510, 9042, 5829, 13192, 16868, 2694, 16415, 13188, 14778, 10964, 13872, 5024, 8211, 8310, 870, 17574, 10204, 1217, 5144, 2246, 822, 16153, 13853, 17094, 6378, 4569, 3666, 12504, 7181, 17588, 11044, 2499, 2423, 10185, 7610, 1429, 5710, 16701, 1067, 15647, 9195, 11137, 7042, 8746, 4313, 10276, 8860, 8386, 1959, 11143, 3238, 18095, 6118, 6818, 1108, 12929, 18269, 1074, 5121, 8226, 9135, 5098, 16015, 12509, 9144, 1836, 5126, 6712, 4777, 8800, 3289, 16713, 4495, 12931, 10233, 12048, 3236, 2702, 16325, 18375, 6596, 14897, 10170, 17813, 13743, 12370, 7078, 5705, 11621, 9889, 9452, 16637, 5639, 5315, 12414, 9479, 2191, 4413, 3303, 13717, 7148, 16191, 9584, 12495, 10971, 14204, 1908, 7934, 17791, 15155, 11676, 1704, 560, 6890, 4028, 4774, 14639, 6367, 7536, 16355, 5585, 7832, 7345, 11130, 14190, 3325, 9553, 7951, 4153, 4653, 6775, 8333, 16050, 2689, 13759, 3785, 12396, 8225, 2163, 2718, 18054, 9007, 17958, 14887, 10802, 11503, 17986, 16101, 8071, 18441, 12344, 13814, 13908, 948, 16079, 18738, 7804, 2098, 12268, 5502, 7589, 2813, 12943, 3377, 11662, 17535, 4794, 17765, 10507, 17497, 13045, 17135, 4534, 8597, 5343, 9685, 7145, 3474, 16705, 13501, 3611, 3061, 14444, 4888, 480, 3177, 11317, 13016, 17100, 7266, 12919, 4743, 8446, 3194, 11745, 13063, 1248, 6241, 10763, 6206, 10509, 1998, 18127, 4060, 10376, 4549, 13991, 17130, 9955, 15191, 14632, 3986, 14241, 7272, 8249, 4421, 3936, 4160, 149, 6450, 16184, 5729, 11422, 10700, 17495, 13834, 7855, 4092, 17133, 8953, 11582, 9682, 5786, 6886, 1324, 2045, 4954, 8552, 14476, 4428, 6870, 8008, 1307, 16064, 10173, 11205, 8427, 9569, 16432, 2934, 2510, 2450, 2966, 12044, 14366, 8983, 4459, 4201, 16520, 2953, 2726, 13431, 7259, 11467, 13626, 17523, 16657, 10709, 13865, 8452, 10396, 9253, 16468, 9328, 17221, 14085, 9335, 4110, 9291, 3810, 16598, 8565, 8189, 9700, 1953, 16123, 9267, 4619, 4181, 1258, 16063, 3636, 17408, 8627, 8471, 16765, 11527, 5158, 15297, 15668, 10997, 8218, 8600, 14285, 541, 7416, 4897, 11429, 442, 11141, 12219, 5367, 11283, 7678, 10909, 18033, 1171, 13849, 7422, 3697, 13800, 16667, 18077, 16324, 6719, 3026, 9632, 7893, 4901, 15253, 7877, 1170, 6013, 8829, 15001, 695, 17051, 10544, 4465, 15754, 16733, 4520, 5369, 11475, 9699, 9628, 10765, 10000, 2539, 7749, 16806, 8772, 14600, 2371, 10730, 13184, 4416, 4198, 5440, 6167, 6550, 5754, 1962, 738, 2764, 13914, 2846, 4748, 11156, 8068, 5997, 8661, 10464, 3588, 9739, 9405, 6038, 15330, 6343, 18321, 12444, 4582, 12373, 9784, 4116, 18209, 9797, 9460, 15977, 8410, 11646, 18261, 13726, 13697, 10511, 8049, 5971, 12229, 11035, 17109, 15756, 9354, 17756, 3035, 16345, 1827, 6077, 6967, 17613, 15081, 17078, 10807, 15370, 18540, 12877, 4767, 5338, 897, 6063, 6543, 3463, 12890, 11306, 9352, 17099, 13873, 1096, 5424, 11200, 17358, 2680, 3607, 11688, 10256, 3627, 752, 11326, 8062, 17204, 7008, 9924, 6160, 7539, 10367, 9147, 1530, 8564, 6296, 9120, 3930, 8322, 11824, 5649, 18397, 7201, 17524, 15502, 8560, 4596, 7557, 7799, 4737, 5450, 5104, 15652, 15121, 9178, 4247, 11215, 18177, 13559, 9476, 5713, 3089, 5191, 8982, 7313, 5980, 10845, 13324, 4637, 1329, 4424, 5396, 18042, 8804, 4687, 7817, 3326, 9369, 8598, 1732, 17885, 7194, 17718, 3163, 10621, 9971, 17070, 921, 5799, 6333, 13076, 1012, 3899, 6368, 1931, 15678, 6610, 8523, 14084, 1561, 7747, 1849, 11769, 15416, 13830, 8075, 10159, 11919, 11154, 7688, 2745, 14960, 18237, 15105, 13941, 4662, 2182, 14767, 6611, 11241, 7912, 7802, 14745, 9410, 1255, 8262, 5979, 2250, 3240, 7263, 10943, 10117, 7636, 6580, 11995, 1843, 4952, 9713, 16876, 9292, 13091, 5550, 11327, 3013, 18525, 10336, 553, 5671, 14663, 6554, 7440, 16704, 7175, 7828, 16885, 893, 4487, 12948, 12076, 8884, 8224, 2779, 16326, 15350, 17979, 9077, 11193, 4576, 12636, 17142, 18215, 9871, 15812, 3139, 4647, 7683, 3828, 3480, 15470, 13024, 14400, 2387, 10382, 2168, 8680, 11516, 5501, 739, 7374, 12587, 18302, 3287, 8590, 5064, 17803, 10441, 3537, 8110, 6914, 11265, 14953, 18074, 1321, 8920, 15106, 2473, 7015, 17569, 14032, 11063, 14892, 7487, 3893, 16852, 14516, 7990, 3043, 6380, 13220, 596, 11816, 2267, 9864, 4143, 7736, 8196, 17016, 16642, 17376, 12006, 16305, 2844, 12287, 17170, 9279, 16783, 18636, 15438, 1407, 17435, 1649, 7724, 8798, 3039, 8136, 12294, 9192, 17098, 13811, 5869, 5807, 3978, 6484, 12634, 14092, 18006, 11338, 6023, 4207, 9388, 5055, 4158, 10381, 9330, 9244, 2325, 9204, 13328, 7597, 9406, 6690, 12135, 14705, 14363, 16285, 13689, 11547, 17490, 5400, 15157, 11686, 13265, 18365, 14900, 15410, 10695, 17482, 5188, 2235, 2585, 9153, 13906, 6126, 7083, 5518, 8604, 8545, 16948, 6246, 16134, 8454, 14058, 10152, 4594, 2782, 11379, 4835, 1021, 17443, 2299, 6908, 16904, 13261, 6269, 9758, 12209, 12255, 16777, 13887, 5134, 4351, 6944, 18455, 10937, 3582, 5563, 7077, 11233, 11076, 9774, 4204, 8098, 18720, 14456, 8397, 7331, 17050, 3490, 6919, 345, 3275, 3620, 3581, 1901, 9723, 13605, 6843, 78, 11637, 12976, 14138, 4373, 15240, 10089, 4603, 9125, 1912, 7285, 5235, 9785, 5652, 7397, 9874, 5177, 17805, 50, 16762, 14985, 677, 74, 6295, 6820, 12772, 18688, 15049, 5330, 8632, 2910, 12753, 13754, 18445, 14522, 13223, 13361, 17160, 17131, 2249, 9711, 4623, 3263, 11653, 3015, 478, 11856, 390, 1266, 16132, 6255, 9373, 10149, 2116, 8298, 4614, 3042, 11747, 18683, 7540, 919, 13339, 3872, 11146, 3698, 2509, 17606, 9492, 1733, 11821, 8904, 16663, 5612, 232, 14254, 7275, 12974, 5656, 6699, 8992, 15996, 10332, 14159, 15826, 4427, 2204, 6659, 4724, 9146, 13190, 11859, 505, 5963, 16320, 4213, 18072, 1693, 2474, 10645, 8585, 16754, 9020, 16798, 17374, 9015, 12924, 1532, 9232, 7188, 15661, 7115, 16797, 2630, 16579, 17454, 8465, 10781, 5780, 5167, 5280, 13696, 725, 10934, 5864, 8050, 15551, 8193, 12745, 3036, 2981, 4315, 8029, 8254, 13635, 12680, 16656, 4522, 5304, 5295, 10313, 10873, 7812, 8914, 12055, 4480, 1229, 13665, 14040, 8264, 15053, 6523, 8407, 9520, 10714, 16652, 1680, 2452, 9725, 8978, 6826, 11310, 13552, 13478, 3038, 8400, 8472, 18539, 7185, 11835, 2622, 11127, 361, 14015, 18163, 5940, 16805, 17835, 15323, 13066, 1088, 14644, 15401, 13309, 16056, 12659, 3018, 10750, 12887, 1107, 4832, 10854, 9767, 4950, 14949, 9357, 5238, 14531, 9752, 6945, 12503, 10194, 4481, 13037, 13243, 4265, 17770, 15441, 5732, 10683, 1392, 2365, 18716, 3566, 2373, 3637, 13234, 12046, 6424, 13812, 2651, 16517, 12778, 13588, 10839, 18458, 15086, 17612, 13674, 10812, 6377, 8377, 7408, 4208, 10610, 10628, 9896, 11333, 776, 8525, 7033, 9772, 5863, 18359, 13959, 11649, 4510, 9501, 7426, 1087, 10988, 4246, 417, 6655, 7065, 6198, 9164, 7176, 3195, 2684, 9495, 2120, 7569, 3108, 9358, 8551, 16620, 18164, 804, 18010, 584, 10907, 3927, 9480, 6130, 3694, 7715, 8308, 7927, 13858, 2108, 5039, 5581, 16009, 11462, 9319, 13619, 3520, 10550, 10594, 5791, 5766, 18368, 509, 17838, 14844, 11162, 1262, 2950, 3799, 10928, 871, 2300, 14891, 4659, 5342, 16175, 16527, 14925, 495, 11037, 15182, 17417, 10685, 8726, 3981, 5700, 15386, 6157, 16024, 16684, 2551, 8519, 16761, 1723, 1915, 18590, 7200, 11324, 10032, 13827, 15722, 15534, 561, 2593, 5374, 11498, 17153, 6344, 13724, 12016, 3485, 12274, 11476, 14580, 17245, 8666, 14899, 8150, 3880, 15568, 5985, 4890, 8979, 11460, 18338, 3970, 12286, 873, 18618, 11222, 8125, 13949, 8533, 5944, 16640, 11844, 12798, 11530, 14770, 5113, 4037, 5629, 11232, 7377, 17840, 13955, 10251, 17207, 13398, 5903, 16172, 15391, 2320, 11272, 15449, 8037, 4304, 11831, 17428, 7402, 7330, 5936, 8591, 8821, 5607, 1210, 9626, 5489, 11070, 6588, 15593, 979, 1352, 7903, 4279, 14081, 11722, 11825, 6101, 2588, 17057, 13632, 271, 5544, 17285, 10478, 11777, 17869, 18312, 13520, 9656, 11998, 8060, 1234, 5482, 7644, 7745, 11814, 9875, 5029, 11425, 1523, 9970, 11933, 8380, 11513, 10442, 8052, 17123, 18270, 12501, 9579, 9141, 9094, 2674, 5359, 17027, 666, 10225, 10860, 9987, 12724, 12168, 5462, 7044, 16379, 12492, 14050, 8283, 17956, 15113, 6917, 7233, 17992, 6757, 11692, 11581, 8360, 8864, 11095, 15306, 12466, 9839, 7900, 18524, 5494, 11910, 4461, 13341, 17113, 18357, 3608, 7049, 14061, 2998, 1685, 10154, 12023, 13716, 16886, 5283, 5356, 16370, 8073, 5048, 13283, 3772, 3911, 10782, 1508, 15421, 11644, 17088, 15495, 4396, 2615, 43, 4563, 6859, 2965, 5372, 3906, 9580, 16621, 4760, 6284, 16263, 16236, 4446, 15684, 11529, 9477, 7933, 14362, 8379, 1168, 12775, 3925, 11465, 6542, 12958, 15088, 2076, 17234, 146, 17181, 9247, 12441, 16796, 7355, 5764, 5529, 9933, 1719, 7751, 2828, 6571, 7312, 17870, 1506, 4114, 7383, 11481, 10361, 8173, 11863, 10123, 11901, 3420, 2795, 14192, 5344, 6898, 10970, 15219, 16855, 16427, 5533, 11188, 11430, 8959, 7239, 5908, 5284, 8214, 13519, 1420, 18664, 7844, 6488, 6208, 12646, 2258, 13213, 5609, 2982, 11556, 18306, 9368, 4389, 9557, 18254, 9019, 8485, 14886, 7332, 16863, 9597, 14086, 582, 10853, 16215, 1629, 7703, 8145, 12378, 9446, 2124, 8682, 10354, 15790, 6460, 17744, 5433, 5305, 9825, 8748, 12841, 7132, 13777, 13001, 14980, 15816, 5388, 11624, 8103, 11765, 15025, 6568, 4761, 6061, 11471, 1687, 18622, 16344, 7575, 5819, 3129, 16665, 12481, 8444, 7315, 6350, 7235, 5917, 8141, 9664, 2489, 3815, 12170, 17436, 18093, 12604, 8769, 11977, 4584, 9023, 17617, 8480, 2077, 3003, 16327, 4969, 1658, 12279, 4972, 13048, 5743, 10395, 4394, 8314, 14786, 7278, 12909, 6501, 18055, 4491, 4249, 7441, 5408, 3950, 9142, 3601, 2221, 8750, 7158, 2741, 13392, 9737, 358, 3222, 6663, 11594, 8429, 18527, 14492, 3856, 18724, 3885, 17455, 2196, 15406, 9040, 15448, 9186, 4947, 6098, 7814, 1335, 10968, 5803, 15147, 4658, 16169, 11119, 6382, 7298, 11738, 5628, 17511, 9914, 9263, 3000, 3994, 2350, 8737, 11602, 8527, 13985, 16425, 12567, 2099, 13864, 6243, 10541, 16206, 11614, 4959, 1754, 17340, 3889, 4019, 16230, 16187, 16145, 2993, 15451, 2678, 4490, 2690, 18196, 6869, 11866, 12325, 16740, 1269, 7060, 4331, 3355, 8712, 7615, 10539, 6310, 15523, 13365, 7826, 15179, 8019, 15889, 8040, 11721, 5854, 16462, 13679, 6506, 17390, 18537, 15654, 13649, 3934, 15785, 6476, 6233, 16380, 8831, 2106, 343, 15163, 15044, 8870, 4408, 12651, 17444, 15810, 12779, 1583, 2198, 16080, 3725, 9321, 14398, 10600, 16837, 14021, 13639, 13869, 12579, 104, 15565, 15807, 7937, 9194, 11046, 11185, 7279, 17467, 3881, 11691, 414, 6792, 14397, 14233, 8574, 3947, 12747, 9025, 3701, 3464, 5385, 14748, 14699, 12598, 3586, 11858, 15394, 15102, 10103, 9392, 5192, 16718, 8117, 5444, 9045, 15341, 3705, 4982, 15516, 16012, 9054, 2216, 4612, 5268, 6326, 3454, 2974, 4499, 1666, 1396, 14707, 5072, 16692, 16179, 10890, 1223, 624, 14607, 2480, 6354, 8248, 11900, 14176, 17117, 12704, 14160, 9890, 16051, 9133, 9374, 6053, 18351, 15209, 18633, 4570, 17126, 9469, 520, 4430, 5554, 4991, 1483, 11347, 11896, 3361, 12742, 6089, 12387, 13962, 1332, 10486, 14556, 11810, 2208, 8634, 4896, 18373, 13214, 10119, 4855, 10454, 6629, 14083, 7992, 9660, 3612, 8776, 13321, 4750, 14553, 10660, 10556, 4841, 9415, 9652, 14843, 9465, 6895, 12506, 15781, 5643, 2945, 4840, 11812, 18534, 16578, 8655, 4825, 3329, 7525, 2989, 3128, 5758, 17350, 4508, 18065, 4782, 11383, 8163, 2262, 16638, 15103, 5009, 15324, 1030, 15245, 5470, 3410, 14635, 2305, 17794, 3786, 6840, 14035, 5181, 5013, 7624, 17615, 6673, 1448, 9541, 16428, 18651, 8425, 12834, 10545, 3337, 1715, 17725, 16445, 16183, 18212, 15141, 8995, 9906, 3137, 6014, 6968, 508, 8126, 5858, 5092, 7463, 1157, 14293, 14390, 18522, 9757, 8803, 15027, 8185, 7030, 7104, 1682, 6213, 3779, 1237, 8319, 8624, 15215, 7490, 1949, 4425, 8977, 8176, 9126, 5458, 9407, 10130, 11100, 5318, 18079, 8765, 6338, 11208, 13606, 1729, 1599, 9017, 17957, 6918, 16422, 17733, 16903, 4967, 15533, 16786, 5949, 10748, 8764, 3273, 4294, 6585, 10540, 5755, 3012, 7026, 8275, 12258, 5760, 15784, 6807, 18252, 2127, 7777, 9894, 4381, 15746, 7075, 14990, 4626, 1419, 13918, 11443, 17937, 6492, 4656, 13154, 121, 2042, 13807, 12395, 11915, 4519, 9909, 132, 7479, 105, 13989, 13725, 16054, 15160, 14063, 2778, 11687, 5651, 9947, 11668, 5025, 17140, 16498, 18281, 8356, 17534, 15618, 10826, 4610, 1920, 9000, 14230, 11336, 14320, 15407, 1128, 11050, 15124, 9922, 13248, 8026, 14221, 11273, 1525, 5884, 12551, 17179, 6037, 8981, 2530, 9099, 413, 6788, 7555, 4772, 18288, 7860, 2323, 12007, 11956, 17800, 11940, 17974, 11684, 13984, 7269, 6173, 7309, 10656, 6782, 3922, 10676, 14271, 7370, 9157, 17241, 2408, 397, 10822, 16196, 5868, 5185, 5178, 12167, 15655, 8673, 18069, 14757, 16102, 15208, 15962, 12078, 1562, 11067, 14957, 2768, 3960, 10689, 12788, 7089, 8338, 18086, 7818, 2287, 14319, 15947, 6355, 17412, 16918, 14763, 17175, 11803, 2635, 406, 7959, 6705, 16114, 16030, 1841, 13335, 7640, 12212, 10519, 18179, 3005, 17487, 10733, 3898, 8702, 224, 17876, 12491, 6311, 16495, 9645, 9618, 3113, 3483, 11064, 14783, 1482, 12517, 11538, 9004, 3943, 18314, 5522, 11201, 13329, 17185, 10129, 18722, 5351, 5714, 15033, 2465, 8865, 2640, 12843, 12015, 9036, 11757, 7294, 6750, 6537, 9532, 14155, 14246, 11519, 12063, 8383, 9086, 15702, 11061, 13845, 13794, 13204, 1722, 17093, 4933, 11434, 15621, 13857, 6010, 6238, 8382, 8490, 8919, 11574, 18589, 9571, 5067, 11976, 3663, 15333, 10319, 17748, 1362, 9466, 13952, 18208, 7697, 18264, 14893, 7897, 9432, 5827, 15259, 10707, 7562, 13917, 784, 15832, 13919, 6778, 7712, 2145, 653, 14286, 8476, 6357, 13370, 134, 16727, 8158, 17883, 12649, 2355, 13332, 7357, 9919, 13052, 3846, 4253, 11402, 8282, 8087, 6521, 7317, 1199, 3822, 13380, 827, 7980, 2356, 6493, 410, 4324, 10160, 17048, 8306, 4847, 6348, 8577, 17489, 11386, 12121, 10135, 6628, 6671, 6814, 11453, 2497, 1301, 3268, 3534, 2659, 12309, 9277, 2636, 18467, 7827, 7961, 3161, 10365, 13410, 11733, 5560, 18241, 9426, 14604, 10167, 4553, 7880, 13420, 17195, 3818, 9221, 2652, 6291, 15914, 15571, 131, 12691, 678, 10643, 2243, 4450, 8467, 15402, 11229, 8902, 4764, 8499, 13650, 11135, 13883, 15677, 18276, 9471, 9928, 7390, 9483, 11559, 10738, 7889, 8041, 13590, 8998, 17203, 12538, 18652, 4333, 10146, 8184, 13595, 17607, 14943, 12348, 14208, 1647, 4102, 4243, 1095, 7523, 15091, 10052, 11922, 11331, 17174, 9091, 1251, 8240, 8537, 11736, 9612, 10351, 11211, 6321, 3429, 16673, 16785, 11040, 5604, 1606, 9173, 5619, 10300, 2021, 1147, 14751, 10413, 17854, 15225, 8428, 5727, 16083, 15857, 5138, 12874, 11082, 10668, 18575, 9458, 15881, 17209, 6672, 16104, 11381, 18159, 5364, 13211, 17246, 11694, 17466, 3971, 3585, 12152, 9031, 13926, 1769, 8464, 16096, 3867, 12407, 10138, 16131, 6440, 13916, 5973, 9199, 4652, 12035, 7551, 6290, 8986, 10346, 4916, 7365, 12278, 3114, 17806, 7696, 16072, 10234, 14110, 14096, 15879, 3958, 2420, 935, 3723, 9311, 15902, 2604, 2803, 8012, 18471, 8708, 3294, 15256, 14675, 10655, 5722, 13313, 15611, 14236, 17242, 4903, 8644, 10145, 11591, 658, 18719, 8201, 1875, 760, 8917, 17047, 4280, 12097, 17485, 5208, 8277, 92, 5679, 4514, 6447, 4557, 14781, 4642, 1207, 12336, 13266, 11991, 16053, 16135, 10241, 16460, 737, 13923, 13720, 8164, 9886, 4987, 18324, 5187, 9732, 5695, 16655, 4365, 5566, 13645, 3064, 2920, 12793, 5, 8531, 9370, 17020, 10713, 8256, 16333, 12435, 11487, 15059, 10646, 4197, 13999, 15759, 5399, 4708, 2561, 5503, 14386, 9638, 12825, 18256, 14937, 15112, 2228, 6462, 18657, 638, 3467, 10565, 17740, 18692, 9238, 14306, 12372, 9895, 13451, 7197, 9243, 13195, 4123, 9428, 14619, 8815, 9305, 700, 6112, 4527, 6091, 10359, 9901, 4403, 3433, 8057, 1175, 2399, 14723, 2110, 4524, 11345, 14744, 15949, 10650, 3529, 13910, 8856, 17889, 10269, 1918, 7334, 5171, 13516, 10526, 5872, 17954, 6930, 6277, 14004, 15298, 17173, 12505, 13535, 15814, 12332, 15760, 6250, 10504, 6283, 11023, 12131, 13907, 15249, 7674, 4307, 5164, 13198, 13120, 9613, 9459, 1582, 17559, 18580, 14094, 2096, 8788, 15778, 17654, 3771, 11553, 12568, 7883, 12839, 18677, 12740, 16335, 5466, 10922, 7838, 4400, 10263, 3662, 11567, 6850, 14234, 17496, 7420, 16286, 14451, 15958, 14439, 13228, 7809, 14143, 590, 12409, 123, 14785, 5998, 11399, 10045, 17500, 9445, 7246, 8529, 7658, 12083, 12264, 7839, 2065, 3349, 7382, 9627, 16856, 10386, 2719, 13782, 16710, 9134, 11451, 6369, 1313, 7502, 8846, 4799, 9982, 17730, 18543, 1777, 17483, 3622, 7167, 14309, 8890, 14184, 17873, 15987, 28, 10884, 12932, 18167, 9264, 16560, 6025, 83, 13302, 16599, 16466, 17447, 796, 10647, 73, 4608, 14223, 12222, 3068, 15991, 14528, 14009, 14443, 16916, 9932, 16087, 5680, 7443, 16443, 17681, 11445, 10012, 7472, 3202, 13633, 16890, 17842, 8128, 4328, 7958, 8344, 17709, 2259, 18034, 15959, 16001, 17723, 9018, 13612, 5286, 7286, 8915, 15202, 15877, 18377, 13778, 7478, 2874, 6402, 7297, 17881, 5412, 6646, 9096, 8493, 14453, 17492, 5874, 6927, 13792, 6604, 5456, 14356, 4206, 10071, 12707, 8300, 801, 13945, 8482, 3178, 15366, 7973, 13041, 4595, 2427, 11528, 9828, 6855, 11539, 3977, 9269, 15005, 16363, 11370, 6430, 9526, 16794, 13764, 16734, 2144, 12650, 12490, 18684, 6709, 11875, 4310, 10091, 8373, 7480, 5850, 17081, 4829, 17581, 5314, 17329, 18311, 16639, 15524, 16651, 3728, 18411, 4578, 8516, 6414, 4506, 17188, 7447, 10801, 16567, 2804, 2848, 15183, 17912, 9067, 12385, 14518, 17568, 2657, 2763, 12275, 9768, 18162, 11603, 3839, 14106, 12437, 1697, 8288, 593, 11561, 3386, 14357, 13108, 11881, 18350, 10475, 5647, 13127, 11111, 16441, 12765, 3297, 18638, 2308, 4744, 11255, 12051, 12752, 4377, 14523, 16376, 7101, 12612, 1909, 11514, 9892, 6762, 7096, 1356, 7887, 13621, 13455, 2016, 9174, 8109, 11392, 9032, 9793, 11012, 9861, 16124, 1570, 4513, 6701, 1025, 3085, 4452, 10046, 9136, 7538, 16262, 6940, 18713, 10219, 5497, 667, 12734, 12324, 1328, 2513, 15956, 12064, 18243, 6817, 5620, 11817, 8466, 6289, 17750, 12213, 8964, 17449, 7442, 7295, 14572, 12553, 11683, 5816, 13096, 6040, 8431, 14576, 9087, 17402, 16138, 9542, 4157, 8388, 16310, 16417, 5750, 12187, 3618, 7954, 4233, 16166, 4451, 13971, 12922, 15218, 18104, 3479, 8648, 5650, 5741, 12195, 5602, 8871, 2522, 6980, 1154, 9280, 9517, 11520, 9012, 1823, 1204, 1642, 2064, 8217, 11438, 6467, 12721, 13430, 6764, 10258, 16296, 4035, 14112, 13677, 1925, 7989, 9009, 18717, 10686, 10099, 4500, 10468, 12621, 655, 2686, 5538, 5271, 11125, 5077, 9812, 13291, 11091, 14478, 14490, 17289, 13122, 17102, 12867, 8172, 2924, 665, 15292, 5737, 4018, 7950, 15087, 10583, 1007, 9763, 62, 9776, 6116, 16853, 348, 17045, 15658, 5101, 7906, 11841, 2152, 10273, 9691, 12662, 7417, 15685, 10652, 10881, 5057, 10979, 6964, 9921, 18446, 17639, 14641, 13642, 1921, 15637, 15644, 14139, 1471, 5778, 17349, 7752, 4936, 9325, 15430, 7512, 16014, 6643, 7296, 11411, 14712, 16367, 17551, 16561, 7520, 7576, 12580, 4805, 15630, 1821, 4305, 14788, 15405, 3523, 11287, 14365, 8651, 15610, 654, 15527, 7622, 5915, 17746, 16685, 15139, 254, 17440, 9564, 14457, 11558, 4798, 14506, 18014, 12973, 4958, 16389, 9058, 12682, 16507, 15316, 16176, 10215, 4402, 11891, 5834, 18207, 7322, 11384, 12111, 9265, 15603, 17115, 15144, 18549, 8483, 8294, 6331, 16322, 17141, 17967, 16728, 17685, 13847, 17699, 13176, 8289, 10190, 9529, 14113, 13744, 9536, 5276, 4096, 13235, 12144, 6221, 10182, 6928, 8899, 4713, 3602, 3169, 11161, 17238, 16358, 13437, 6209, 8692, 18279, 18286, 12977, 9703, 5763, 17060, 6533, 13938, 8515, 13534, 12559, 6384, 3913, 13171, 18553, 6830, 5431, 10275, 15865, 8365, 4836, 14911, 2314, 16592, 14972, 9549, 9505, 14989, 11092, 2159, 17491, 17218, 9109, 15601, 10360, 7677, 13617, 6381, 10731, 18258, 2642, 1403, 15798, 5525, 18679, 10469, 9740, 18052, 1312, 5768, 7073, 7750, 11818, 3552, 9205, 13548, 16964, 4301, 8787, 16662, 996, 18216, 7694, 2233, 11675, 4091, 640, 15609, 6532, 10326, 17797, 6617, 15981, 4776, 5781, 6104, 10768, 7076, 14804, 14474, 12018, 11032, 12571, 10224, 18015, 6507, 1149, 13170, 10861, 18556, 9315, 15018, 1611, 9673, 11380, 9750, 2140, 14984, 15598, 13272, 11165, 9294, 12620, 7097, 15077, 15041, 4357, 5282, 18536, 11002, 6658, 10243, 18203, 17908, 10415, 2882, 15614, 16122, 1296, 6848, 1997, 11735, 3868, 3979, 3830, 11898, 13263, 15084, 17298, 10205, 7706, 13244, 18204, 16661, 7037, 15243, 2754, 16270, 18146, 10218, 2831, 12865, 5228, 14623, 15192, 6653, 4386, 2001, 13874, 3687, 15597, 16171, 13356, 10842, 16111, 13071, 13702, 9399, 4468, 10746, 10078, 17346, 2367, 10113, 9588, 13852, 11163, 16631, 3556, 11405, 18000, 17988, 2484, 13646, 3438, 9290, 15888, 1664, 16965, 4867, 3144, 9502, 17339, 15625, 1093, 4632, 11787, 6359, 6339, 9128, 9295, 18453, 5572, 13672, 6005, 11943, 10217, 10732, 8251, 2461, 18223, 17442, 14508, 11055, 14915, 4862, 10014, 9620, 5596, 1445, 12670, 888, 18088, 17688, 7236, 7945, 17546, 8118, 17280, 18036, 11541, 8468, 6002, 5514, 17393, 12410, 9904, 4644, 14906, 1417, 9738, 14773, 9629, 16920, 4617, 6865, 12335, 5598, 3486, 12439, 14496, 15866, 17763, 3322, 4804, 8434, 6475, 16407, 2540, 17301, 15665, 13006, 7708, 6400, 8266, 16025, 17540, 16277, 15205, 3272, 16368, 11024, 6842, 14071, 12476, 10703, 14614, 3600, 9262, 2932, 17434, 14327, 12548, 5912, 11083, 11674, 4503, 2034, 13286, 10736, 8205, 7821, 2706, 12685, 18694, 5062, 13186, 13207, 2070, 6874, 1064, 7676, 8698, 14266, 6216, 17400, 16465, 15388, 9524, 13751, 13389, 14095, 5814, 8340, 5618, 1346, 9585, 9490, 4255, 10169, 17116, 6114, 18344, 657, 10754, 4781, 284, 902, 12231, 5709, 13943, 16888, 3690, 3757, 4043, 11544, 3716, 8579, 17953, 3002, 7257, 16388, 6051, 16043, 15321, 6990, 17360, 9996, 17976, 9998, 15482, 5734, 10008, 1015, 15998, 4590, 18554, 17532, 13140, 13509, 10068, 17452, 16193, 14871, 2169, 10421, 5793, 18558, 2748, 12794, 2330, 10403, 13435, 10851, 12140, 18426, 17571, 16721, 14074, 5003, 15615, 3766, 10467, 5383, 16066, 13753, 12471, 18337, 16281, 4017, 4942, 10035, 6984, 12678, 9081, 8611, 3465, 6503, 10833, 13584, 10140, 10397, 17882, 8778, 3668, 6711, 1233, 11267, 8957, 12972, 6487, 8115, 10620, 13331, 17011, 16384, 13967, 10172, 17657, 589, 5849, 7013, 1488, 2403, 18439, 11774, 4392, 11036, 11906, 7305, 7283, 7387, 2658, 17206, 10772, 5796, 9171, 7226, 17845, 14201, 6352, 6445, 17843, 14321, 14068, 13168, 6405, 3473, 6127, 8099, 8620, 9216, 9271, 18027, 4406, 2049, 8786, 10559, 8783, 4175, 13193, 7346, 6552, 136, 18398, 10657, 13390, 5818, 7029, 6491, 7318, 13796, 781, 18265, 6597, 3813, 3990, 13275, 11724, 13021, 13445, 15082, 5402, 2056, 18472, 10688, 17296, 9782, 1282, 14627, 13086, 1701, 12520, 7021, 1907, 4282, 6175, 12658, 9095, 7495, 4650, 11062, 6758, 11020, 14239, 3553, 6995, 16201, 6224, 4765, 13029, 9137, 11080, 3168, 16847, 5808, 5762, 14163, 3130, 16670, 8514, 13317, 3434, 17043, 6795, 5006, 11084, 4853, 17906, 6956, 17453, 6735, 6442, 7354, 14170, 6100, 12295, 16600, 2431, 3540, 6478, 14962, 12692, 18369, 17256, 18647, 12999, 6804, 6700, 11874, 12869, 4380, 7208, 4545, 9427, 9666, 3008, 10636, 17981, 14630, 10927, 9984, 1387, 8436, 12079, 14536, 12473, 15120, 15332, 13668, 3635, 7198, 15532, 16768, 17990, 13230, 3136, 6416, 16842, 4332, 7577, 12979, 11829, 7221, 17911, 8840, 15522, 8540, 1550, 17925, 9123, 5255, 9127, 18249, 17776, 15296, 10693, 5097, 8749, 14352, 1757, 4234, 17874, 3801, 1917, 10405, 14798, 6155, 17962, 8086, 4326, 9729, 10392, 12322, 11144, 9282, 6926, 14137, 3241, 12384, 16435, 13924, 9659, 5373, 16953, 12217, 2357, 13125, 10003, 9350, 7431, 11647, 18189, 4505, 7581, 4046, 5460, 15698, 12109, 14308, 13114, 6285, 3764, 5867, 16906, 12164, 9934, 10022, 17536, 17848, 15400, 15038, 16605, 16275, 4894, 6677, 12827, 16362, 15758, 13179, 571, 6991, 18637, 15198, 1746, 16833, 6951, 15142, 7600, 551, 12451, 8413, 15111, 11583, 7946, 14987, 2759, 11114, 16650, 14514, 3574, 13936, 17652, 7926, 3926, 10244, 15194, 5156, 9380, 7299, 2549, 15852, 12331, 11989, 16644, 15097, 5945, 7871, 12183, 14203, 600, 14689, 18297, 6953, 7807, 12198, 17414, 8296, 9078, 8405, 18236, 8729, 10552, 15575, 15613, 13655, 7093, 13522, 6825, 7019, 9512, 9661, 3591, 6591, 12757, 14097, 4193, 2028, 15672, 9491, 1111, 4267, 7647, 3593, 3007, 1762, 17055, 7232, 2104, 12954, 14584, 4635, 17326, 10593, 124, 11224, 14178, 17714, 6652, 6385, 17227, 15223, 16386, 4415, 14519, 4033, 8615, 9655, 18128, 7699, 4515, 8486, 7670, 11455, 15180, 10739, 16268, 15882, 5311, 17039, 8607, 3750, 7631, 17521, 12856, 17734, 11925, 4146, 15600, 6124, 14260, 4284, 2354, 1323, 13145, 15357, 3900, 11264, 7859, 5292, 17890, 14324, 4240, 9111, 3935, 10439, 16724, 16308, 5739, 4926, 3942, 4410, 5362, 9062, 9339, 13300, 6090, 14732, 1359, 7606, 1749, 10941, 7515, 8389, 2195, 7598, 9575, 12421, 8415, 14391, 16452, 12156, 9230, 9038, 17279, 16052, 5561, 5116, 2912, 12661, 10993, 6891, 10871, 13199, 4751, 12321, 6192, 4944, 14007, 5708, 18240, 12017, 1955, 765, 18136, 14165, 14150, 6515, 3742, 17973, 2035, 18200, 12176, 15432, 8517, 11521, 17304, 6531, 3335, 17886, 3426, 4388, 8580, 10998, 9769, 11836, 5782, 14540, 7405, 7136, 3149, 15382, 15398, 8316, 10609, 2927, 8500, 14441, 11766, 5325, 9364, 16157, 9061, 17773, 15046, 8447, 4151, 13110, 13793, 6938, 1230, 14300, 15819, 9966, 8354, 11605, 4109, 5740, 15184, 9056, 4791, 15483, 17052, 11845, 13104, 10631, 13877, 11557, 14593, 14882, 7671, 12767, 3365, 6436, 11628, 9694, 13651, 1967, 17399, 9259, 10267, 13224, 11408, 13860, 6575, 8791, 17578, 8567, 7379, 13640, 12641, 13970, 15233, 16279, 18044, 12311, 15474, 18392, 8927, 6922, 7376, 11344, 13842, 12814, 14076, 13937, 10780, 8469, 14741, 13092, 9751, 14517, 9936, 13951, 17618, 11843, 11160, 5124, 11702, 10463, 1256, 1268, 1730, 10414, 8001, 10016, 13371, 9570, 13513, 5405, 16374, 3394, 11196, 14772, 8848, 13187, 9493, 10760, 4041, 2166, 8774, 7465, 12422, 17774, 1594, 18529, 7594, 8101, 14120, 8571, 14027, 6469, 9554, 13948, 10879, 15912, 129, 7863, 3351, 17177, 10734, 9029, 14034, 16845, 12782, 13890, 9677, 11576, 1277, 11861, 16147, 9891, 16763, 16260, 17066, 2326, 7886, 7333, 8336, 13795, 5792, 2895, 3334, 7936, 16742, 3150, 13862, 15851, 9434, 14298, 8569, 5726, 4001, 4501, 14064, 4398, 11782, 1906, 16271, 17816, 15277, 9296, 9006, 6184, 14874, 2898, 872, 11616, 9003, 18180, 12210, 10452, 9138, 16935, 12464, 10030, 6620, 6885, 17432, 5261, 1637, 1902, 8462, 17143, 4978, 11297, 9207, 7133, 17257, 12719, 14263, 10701, 10302, 7141, 255, 15791, 6627, 13698, 16099, 4139, 10533, 14888, 17545, 15255, 14597, 8327, 10077, 16738, 14525, 7910, 9972, 16356, 17984, 14704, 17762, 6327, 18329, 16288, 14459, 9400, 12525, 10867, 15764, 12581, 14211, 16232, 5199, 8654, 6978, 3968, 12075, 9849, 7584, 13801, 8985, 3569, 13432, 3909, 1071, 12259, 8297, 6466, 9530, 2103, 14302, 4509, 13254, 334, 8596, 8280, 16021, 6428, 3849, 18370, 15938, 9509, 5008, 9961, 17678, 5203, 5145, 12151, 8854, 11003, 13723, 14345, 3528, 13158, 11772, 15771, 11303, 17037, 14863, 5910, 14487, 15486, 15346, 17515, 15960, 18080, 552, 8355, 10885, 13803, 11949, 8739, 16587, 11396, 1165, 6584, 12763, 3961, 2414, 13118, 13100, 4573, 10629, 17940, 6087, 9118, 9803, 10036, 18712, 11768, 10577, 11189, 4268, 18608, 8072, 8508, 12596, 9975, 15114, 2316, 5552, 8151, 10112, 7040, 12472, 10311, 5635, 11632, 9088, 11554, 3181, 5817, 5335, 14025, 1995, 10843, 16291, 3655, 18427, 7500, 18041, 13034, 16573, 6509, 15337, 2733, 17877, 12203, 4411, 15640, 9515, 3415, 11406, 7733, 1939, 11030, 4404, 4904, 13442, 3221, 10443, 18400, 11321, 17205, 9680, 7439, 1227, 7928, 242, 17114, 11390, 392, 12427, 14739, 12246, 13954, 4845, 8512, 15236, 18517, 1212, 11789, 17104, 14731, 1101, 16643, 11954, 7292, 6780, 7691, 11223, 6586, 11779, 1571, 1357, 6218, 3283, 13381, 3134, 5815, 14533, 8450, 14313, 16164, 7548, 8495, 13624, 3837, 13285, 15726, 10341, 3561, 12955, 17802, 14774, 7625, 13372, 5952, 4, 2825, 8230, 17148, 13776, 6662, 9981, 11377, 274, 10644, 11593, 6704, 13138, 9381, 12251, 14289, 8279, 9899, 12821, 13583, 5409, 4000, 13528, 8990, 15138, 14842, 15569, 5924, 6976, 13191, 101, 10840, 8903, 13564, 12728, 3152, 18186, 13510, 1436, 11231, 10158, 6398, 8566, 3775, 11016, 17587, 1178, 10137, 14730, 14036, 6457, 5900, 12417, 16708, 4629, 8061, 12478, 2512, 6852, 2805, 3199, 4422, 2879, 11388, 17575, 14181, 6993, 5536, 7092, 18443, 9346, 4287, 4169, 17430, 15307, 4627, 16870, 6115, 9402, 11454, 7039, 8187, 9879, 177, 16716, 16190, 1275, 1454, 18663, 10903, 13269, 15067, 17187, 16168, 7850, 4906, 2466, 18734, 14511, 10891, 558, 17200, 14526, 17385, 12159, 1395, 13957, 1211, 12663, 2115, 4005, 1060, 11763, 17383, 13699, 11473, 17679, 9122, 17354, 12744, 1652, 5954, 7302, 14507, 671, 10957, 11456, 8233, 6163, 15729, 15145, 9298, 7222, 13886, 17040, 2012, 7109, 4957, 18310, 16515, 16185, 6816, 16723, 15926, 3937, 5623, 17258, 6729, 5922, 6026, 10981, 18197, 15472, 17475, 16843, 12624, 339, 4078, 16562, 3804, 133, 7601, 8646, 15831, 5486, 13691, 15506, 6565, 16451, 11150, 6656, 14144, 3478, 14109, 6200, 16360, 15000, 7588, 8284, 9378, 13622, 6364, 4445, 9514, 7290, 10114, 3344, 7203, 13084, 18442, 7494, 12463, 3539, 122, 17837, 17225, 15375, 9145, 7633, 2772, 14334, 18616, 18294, 9240, 2257, 6494, 160, 12978, 13142, 16269, 11329, 4992, 9507, 8396, 7532, 14047, 18195, 17745, 17488, 10304, 6798, 15716, 6710, 7572, 16908, 8725, 16274, 7635, 16459, 15650, 11681, 2119, 6489, 4401, 9715, 17866, 10009, 2555, 16668, 13077, 6802, 5771, 8438, 8937, 18181, 15580, 12937, 7853, 14620, 13167, 16364, 3166, 9484, 14172, 2807, 7620, 9053, 14791, 17729, 2631, 13799, 6682, 8808, 18062, 8272, 15300, 7501, 15656, 1140, 3500, 6535, 13541, 16930, 17991, 7533, 5728, 12172, 1142, 5657, 112, 15154, 14690, 10264, 6882, 9422, 4979, 16026, 13027, 16314, 12265, 17960, 15148, 16589, 1864, 1497, 4697, 7498, 4203, 9940, 12933, 13238, 2897, 8332, 5058, 12800, 9309, 10072, 12758, 4140, 17637, 4176, 1720, 8863, 12840, 5783, 9827, 12461, 12169, 6134, 11920, 7368, 7087, 17446, 13225, 13762, 18002, 13521, 15634, 13502, 14582, 2095, 13166, 9965, 14574, 3050, 6791, 17553, 6096, 10829, 16068, 2868, 8966, 10939, 15629, 15417, 17303, 672, 9424, 10858, 18678, 5692, 11921, 4756, 4378, 15984, 15322, 11656, 17795, 13737, 17471, 8999, 10942, 16287, 11853, 12822, 11173, 8105, 17917, 10015, 14354, 13099, 18381, 14624, 7917, 9865, 8973, 13526, 16456, 13859, 14963, 17961, 7069, 8093, 16280, 1039, 1619, 5207, 18119, 2393, 5637, 12360, 8506, 10448, 14475, 8154, 9893, 3167, 17636, 12059, 7851, 9487, 6716, 13260, 15510, 7178, 13359, 7401, 10670, 2729, 10347, 1252, 18516, 5210, 12816, 1702, 15925, 7819, 17036, 10308, 15867, 15574, 9533, 9913, 16697, 8631, 1144, 10766, 6717, 8174, 13739, 16940, 17127, 15374, 3421, 15922, 6168, 18234, 15387, 16834, 11613, 15006, 17585, 14372, 11041, 11073, 6105, 12803, 17271, 4913, 7529, 14316, 11358, 15821, 17166, 11638, 5996, 7921, 14463, 4909, 16677, 8520, 6370, 5481, 4574, 6753, 12244, 18199, 7143, 46, 14445, 14314, 7164, 8892, 17189, 12457, 14090, 14543, 15252, 9747, 5163, 10353, 12190, 17261, 3072, 15047, 12694, 9052, 17798, 12716, 8437, 14830, 4636, 12697, 4551, 11755, 16938, 404, 6563, 12216, 11319, 17804, 7425, 16299, 3031, 5180, 5703, 3532, 13982, 16027, 7058, 9057, 2010, 17759, 7356, 11008, 10432, 17878, 18318, 8704, 14668, 10804, 5250, 5322, 1245, 13189, 14333, 2712, 11149, 10312, 14530, 18656, 5357, 1887, 8753, 10315, 17660, 11482, 5830, 3932, 13438, 8108, 7558, 14296, 7753, 7496, 4009, 16749, 1753, 10929, 14329, 13654, 13376, 6057, 15799, 17799, 9226, 16792, 1831, 8318, 9258, 555, 18361, 12637, 17865, 14534, 15648, 14091, 7080, 8535, 13562, 16633, 14928, 9983, 4537, 16956, 9429, 16636, 11237, 7289, 13210, 13981, 10337, 13740, 11199, 14117, 8801, 18464, 13678, 10266, 9994, 16712, 745, 8561, 11887, 14568, 16390, 10982, 16676, 13727, 15353, 8570, 5811, 18447, 18378, 10350, 8814, 14793, 7326, 4227, 16839, 5298, 7526, 4065, 9916, 12711, 15069, 10094, 5084, 4749, 5406, 2806, 3973, 6561, 7666, 6960, 6723, 6237, 11426, 363, 15667, 341, 17096, 16747, 10682, 14931, 5843, 16808, 7066, 6592, 5626, 17128, 12149, 7962, 11151, 9848, 13012, 9229, 6211, 13594, 7477, 2734, 15017, 8301, 17564, 2217, 4318, 12558, 7378, 557, 8742, 5569, 8825, 9274, 17019, 16293, 4681, 18555, 6685, 5540, 5742, 7943, 4021, 11572, 3625, 11011, 14374, 15740, 18206, 18116, 5377, 9082, 7153, 9256, 2854, 10664, 14800, 9621, 5959, 12021, 5117, 12039, 4598, 5586, 3021, 18382, 11315, 18436, 7642, 4106, 10912, 16767, 15234, 18470, 13004, 18175, 8792, 5259, 3363, 15863, 16405, 17644, 11807, 13902, 11048, 18064, 18313, 6433, 1102, 2376, 16366, 7564, 3567, 8913, 7012, 16525, 11432, 10357, 9068, 9635, 3762, 12005, 18579, 8330, 5761, 14502, 9115, 10830, 6451, 13130, 17498, 9273, 8777, 12990, 8618, 6122, 3959, 15475, 14918, 5676, 8975, 8006, 3117, 16098, 10375, 17353, 663, 15800, 7857, 3734, 4788, 17727, 12215, 17023, 14344, 116, 12087, 9181, 10849, 5381, 5751, 13348, 7698, 4973, 12552, 18612, 18581, 4420, 7277, 9154, 17085, 1311, 1869, 3142, 8958, 18745, 7421, 6470, 10155, 7746, 13068, 5500, 4167, 15241, 11879, 15042, 16188, 2949, 13051, 17945, 10797, 14424, 8448, 7659, 2942, 11942, 10773, 12730, 14059, 14947, 12272, 9361, 8411, 9143, 13581, 17151, 16059, 1646, 9035, 639, 17689, 12521, 10250, 1373, 14636, 7094, 5243, 14583, 3964, 18615, 17178, 5248, 9197, 15743, 16913, 10270, 9679, 10962, 17236, 17955, 16690, 8963, 9047, 387, 11428, 13133, 14994, 780, 8317, 16256, 12193, 7779, 3824, 2284, 2863, 3650, 6989, 2755, 13505, 2679, 8993, 4769, 11999, 1695, 4214, 14872, 17101, 16671, 9746, 11655, 13022, 14447, 16040, 4533, 14551, 7458, 6446, 8252, 12741, 18573, 11629, 4695, 1564, 9198, 2603, 6738, 9824, 6625, 9496, 60, 11461, 13367, 7423, 4131, 8895, 6992, 5622, 15135, 17426, 17934, 6831, 5060, 5196, 6093, 9386, 4484, 12447, 368, 17233, 118, 15478, 1484, 16091, 150, 13128, 17357, 17137, 16093, 9438, 9322, 15717, 11801, 15110, 10100, 6080, 14127, 5447, 7450, 16339, 12200, 7654, 12012, 5110, 10242, 12185, 14648, 9129, 15036, 13208, 12797, 8873, 12563, 14554, 13363, 12854, 7840, 13344, 12684, 16004, 16915, 5515, 16106, 11571, 15010, 14722, 2564, 18184, 11387, 14078, 12882, 12196, 11543, 5801, 12949, 8850, 9508, 15940, 4438, 7793, 10153, 17999, 16963, 3724, 17228, 17481, 12098, 15530, 18003, 14080, 15990, 9362, 18614, 14464, 6864, 14885, 15942, 16801, 9463, 12025, 12323, 17460, 16202, 7629, 18673, 12390, 18578, 14294, 10446, 18718, 1499, 17108, 15263, 11389, 13851, 14290, 9442, 6969, 17425, 7461, 17507, 13772, 11667, 2090, 16119, 11786, 17706, 14935, 13352, 14245, 17369, 16585, 17949, 14269, 13229, 9847, 2809, 8463, 13307, 17941, 18058, 18025, 10260, 14993, 13062, 3245, 4192, 6867, 8263, 16709, 16273, 8221, 11348, 11560, 10203, 6029, 9425, 18050, 4007, 15244, 10181, 8635, 8170, 17728, 10306, 10697, 11305, 17125, 15766, 12049, 12956, 12997, 5856, 14759, 1033, 18680, 2322, 18634, 2109, 6464, 17465, 12842, 13115, 18711, 5905, 16084, 14923, 14358, 6106, 13603, 1572, 10133, 11992, 14002, 1129, 8989, 5512, 17071, 10282, 12632, 5438, 6800, 14926, 12671, 15140, 7984, 18327, 10874, 2577, 2506, 14555, 10635, 15217, 17737, 12672, 4827, 13775, 4638, 1880, 8079, 10574, 18166, 6642, 5132, 11427, 12845, 3120, 6068, 12925, 15536, 5220, 16069, 13277, 7728, 9060, 16126, 10711, 3439, 7014, 828, 18246, 8305, 12058, 10821, 15775, 12177, 4719, 2413, 12648, 15966, 9343, 5026, 17815, 15745, 16011, 6067, 12594, 17582, 5300, 11312, 5907, 16961, 16867, 10543, 9297, 3492, 18156, 7229, 14948, 8058, 12469, 15462, 6358, 1467, 11815, 2926, 13551, 12247, 16706, 15513, 6872, 11335, 5127, 18194, 12523, 2700, 6360, 5931, 16294, 13065, 18646, 12106, 1865, 13704, 16823, 11911, 3301, 774, 16075, 18333, 11007, 10451, 15101, 13073, 5366, 4498, 11133, 1496, 16504, 18739, 8033, 16645, 10237, 2389, 9759, 4512, 12688, 12968, 12982, 18394, 10562, 8084, 14753, 4816, 13940, 2336, 10343, 13628, 597, 17243, 5213, 16192, 15606, 5435, 5476, 12197, 17707, 5747, 17083, 15595, 16348, 10011, 12866, 11748, 13276, 9908, 17760, 651, 18193, 5748, 5822, 15497, 1278, 8684, 10093, 7196, 1623, 14829, 4938, 18176, 7391, 2301, 11608, 17677, 15251, 5386, 11589, 12639, 12227, 10740, 11846, 14780, 14193, 14088, 12566, 12715, 17703, 18714, 17191, 13875, 12915, 17583, 140, 13315, 17463, 6734, 15980, 1345, 142, 3530, 7966, 14482, 14914, 7596, 8130, 11725, 11994, 16571, 15728, 8045, 12530, 5848, 18120, 10882, 16047, 14510, 7319, 7920, 12345, 13597, 16378, 10952, 13103, 8562, 9149, 11120, 2996, 12836, 6431, 2760, 16073, 3696, 15072, 12851, 9809, 5889, 5211, 18133, 14118, 746, 14598, 12205, 17641, 8987, 17907, 2434, 9075, 7841, 10060, 14247, 7036, 18081, 8337, 9222, 3037, 662, 9064, 10991, 5752, 8976, 11086, 18342, 8548, 15260, 10080, 2859, 8492, 668, 1748, 16714, 5770, 15471, 4757, 16413, 10420, 4655, 2761, 16872, 16849, 9398, 6441, 12532, 13271, 16841, 17787, 5170, 14907, 17297, 6889, 5382, 13157, 10268, 18090, 10894, 5493, 5593, 6084, 14561, 731, 14288, 8269, 3209, 973, 8528, 6022, 8955, 3262, 6070, 10474, 8494, 8368, 17255, 9625, 6474, 9083, 5182, 16439, 6178, 5627, 16622, 11220, 3907, 11620, 7474, 8501, 10932, 7320, 4337, 14626, 8541, 17394, 3860, 10936, 17743, 12705, 6822, 18736, 18432, 13965, 15118, 10329, 18118, 5723, 18201, 7808, 13928, 4640, 5601, 9073, 10742, 17401, 18456, 3311, 13769, 4690, 9278, 2153, 8581, 2147, 14933, 2757, 10065, 18001, 11756, 4914, 16242, 10317, 3487, 12459, 3118, 5492, 10115, 12502, 1498, 1560, 15935, 8807, 6985, 13311, 2505, 15152, 10139, 15270, 1016, 6557, 8838, 9284, 5336, 12638, 10223, 775, 9917, 8216, 4063, 18404, 9560, 17985, 6434, 10940, 10482, 17171, 3143, 13750, 7438, 3645, 13850, 5883, 5504, 7968, 3484, 11301, 15680, 5517, 9563, 13422, 14673, 8703, 3908, 13618, 1851, 12702, 14599, 17270, 16874, 16140, 6763, 7782, 4371, 14983, 16121, 17167, 7822, 12333, 4134, 14072, 17365, 8544, 4132, 13047, 12832, 9640, 5023, 10348, 16420, 10704, 4951, 2129, 11990, 9371, 984, 13925, 4329, 8191, 12676, 11302, 5715, 9482, 3276, 5665, 12873, 5265, 16877, 7314, 15013, 15829, 14238, 12519, 17105, 18465, 18071, 3594, 14485, 16173, 7870, 7107, 13909, 16503, 9333, 15227, 12493, 6312, 16862, 15309, 5579, 2985, 17634, 9604, 8968, 6239, 14878, 15181, 11690, 7738, 2872, 14678, 10525, 14375, 14749, 12094, 6609, 2340, 9377, 4628, 147, 11639, 10528, 15090, 14762, 1877, 5590, 14051, 10141, 9510, 14665, 6144, 12823, 16846, 4014, 6034, 6590, 16041, 1584, 6688, 13815, 13074, 11153, 17867, 5725, 18007, 9516, 15380, 1630, 6174, 15204, 13688, 17251, 8967, 11988, 1923, 12351, 9331, 17959, 6287, 17662, 12926, 18743, 13109, 3640, 11578, 9695, 17891, 9014, 16373, 18425, 16674, 12112, 14371, 8969, 8078, 10751, 7913, 8855, 12103, 15693, 4111, 11917, 14436, 13752, 1879, 5419, 14310, 4034, 10515, 13094, 13424, 12743, 13418, 7586, 4770, 14932, 2066, 10749, 11183, 16936, 9076, 2589, 18360, 4699, 6387, 17547, 12117, 8408, 18151, 14640, 14828, 17901, 16654, 17419, 14750, 10510, 6921, 15071, 13798, 9724, 9191, 13544, 4694, 10470, 2692, 6240, 3847, 17931, 17334, 8082, 4062, 15776, 7952, 7068, 4327, 14529, 15747, 3356, 11680, 16155, 13687, 11230, 6268, 2918, 13013, 17451, 2359, 8265, 2173, 15061, 4345, 8325, 7506, 7024, 13320, 5933, 2331, 15312, 15079, 14682, 12102, 15473, 2477, 8475, 13609, 11790, 4905, 7253, 8606, 12749, 5274, 9552, 12446, 6801, 7996, 10757, 10604, 7207, 5204, 15415, 11090, 12950, 7070, 4722, 14726, 14986, 17366, 17321, 10926, 598, 6955, 7371, 15948, 14295, 16702, 1368, 18602, 8883, 6696, 13705, 12681, 3974, 7537, 9117, 9760, 5496, 14950, 5992, 4660, 13421, 14001, 5091, 12886, 8055, 8833, 11819, 7350, 15825, 12819, 2501, 7820, 7475, 2888, 4689, 16493, 15392, 8430, 6043, 14330, 15839, 10371, 17229, 12985, 8489, 6912, 13011, 4517, 8549, 12269, 14777, 7875, 15989, 3174, 12453, 9555, 11828, 12155, 5895, 6616, 14209, 2011, 4055, 7998, 5251, 7641, 5151, 16693, 16259, 9764, 14651, 7199, 13529, 10532, 18255, 9043, 16197, 15890, 6102, 7876, 9418, 6766, 12316, 15535, 10834, 2999, 4343, 9726, 10775, 10986, 3251, 11043, 11194, 10522, 15531, 11275, 10924, 16347, 14262, 15354, 11129, 18346, 6236, 17035, 15349, 17738, 18232, 14919, 14229, 4295, 11394, 15130, 7522, 18012, 14395, 11507, 14177, 1612, 11441, 17072, 11595, 13059, 15167, 7948, 16265, 12731, 18697, 16737, 13095, 17033, 16534, 1466, 11340, 6572, 9074, 17041, 6323, 15216, 13117, 5946, 5341, 11227, 15239, 12535, 17980, 4641, 15304, 18155, 3010, 17502, 13986, 3783, 5520, 7509, 9846, 5548, 6702, 933, 14929, 3107, 5034, 2406, 11719, 13694, 9681, 13005, 1284, 9857, 5086, 6042, 13596, 11330, 16696, 17097, 15311, 17558, 7720, 5289, 9876, 16958, 4911, 2958, 9976, 7412, 6863, 675, 4412, 7847, 12545, 2517, 18681, 14834, 1287, 2553, 16144, 6661, 3733, 13152, 5551, 11533, 16046, 10805, 2570, 12936, 13456, 17623, 17509, 4797, 12698, 16625, 17077, 6094, 2315, 11537, 12132, 8796, 1068, 7872, 9066, 5878, 14577, 9114, 7280, 15978, 2682, 11065, 8763, 9589, 12857, 11980, 8636, 12961, 9897, 13627, 10771, 8432, 11439, 14087, 3517, 1575, 11566, 9394, 11096, 14934, 5407, 6695, 9870, 8009, 4020, 14782, 5499, 18460, 11131, 14977, 9327, 16511, 12261, 4128, 13257, 4806, 12582, 12480, 4768, 4974, 2464, 3665, 12760, 8731, 4868, 10051, 10320, 12090, 17217, 6937, 8460, 7544, 11758, 13299, 15612, 15153, 1473, 11986, 3155, 4105, 14454, 9206, 10213, 13245, 16178, 8219, 10895, 11698, 4882, 6432, 16924, 9168, 16608, 12549, 12644, 6152, 17849, 13900, 9762, 11328, 6577, 5112, 11293, 16606, 16775, 11195, 15682, 7138, 8733, 11072, 17422, 9300, 15161, 14505, 12327, 17034, 16688, 5291, 7938, 15694, 15848, 10201, 12994, 17415, 3848, 17324, 18097, 8617, 16959, 16306, 18547, 13255, 3838, 11934, 11658, 12068, 17701, 15262, 13163, 13196, 3260, 14248, 17664, 12701, 6634, 16851, 8100, 7754, 13281, 13246, 16359, 9140, 17010, 5078, 6761, 12807, 8908, 2112, 6691, 16975, 15834, 1692, 6639, 1310, 9044, 10323, 7941, 17323, 17438, 7789, 16970, 10150, 11440, 5131, 15768, 353, 7282, 11886, 16264, 17348, 14988, 844, 4844, 12858, 14261, 7915, 3841, 11883, 11575, 5664, 11916, 16412, 9474, 17038, 5528, 7648, 17484, 2401, 17682, 13247, 4745, 9968, 14629, 15836, 10132, 10915, 11502, 6971, 11457, 11014, 17287, 5347, 16604, 4011, 16807, 2721, 12442, 18530, 15708, 2160, 8921, 16729, 8780, 11169, 6963, 7154, 10690, 9581, 8166, 6065, 2929, 12162, 16458, 8385, 15403, 18364, 12554, 12880, 2334, 18601, 15104, 3836, 7944, 18308, 12122, 8740, 16717, 2327, 12965, 12859, 3678, 4159, 8984, 8773, 9246, 13106, 1327, 16469, 14677, 9728, 12242, 13075, 13319, 13997, 15892, 16649, 9303, 2736, 17997, 7614, 3850, 9208, 8971, 8612, 11545, 12095, 5839, 5200, 9771, 6810, 9375, 14845, 4367, 16776, 14455, 16869, 17766, 17898, 14532, 6925, 7963, 6834, 15066, 13608, 16933, 18275, 11889, 13636, 10373, 5960, 5999, 12952, 6846, 3550, 17068, 10678, 18110, 2583, 9506, 4516, 15095, 14560, 5521, 8302, 11238, 16125, 7016, 14724, 11009, 7195, 17293, 10148, 12497, 5303, 8213, 9845, 15164, 14875, 5744, 6747, 15509, 15577, 11136, 5176, 7842, 11159, 14955, 18267, 7369, 13030, 9447, 12824, 9910, 16973, 2837, 18538, 2275, 7216, 9037, 8768, 6741, 13010, 17884, 13876, 11491, 2448, 6162, 10671, 15849, 18100, 9093, 18051, 17090, 7669, 14331, 16253, 15719, 13414, 7879, 14037, 14367, 2219, 9844, 8505, 16707, 9606, 17059, 15319, 2908, 11239, 17186, 16301, 12591, 9497, 12040, 15727, 18613, 16530, 9911, 12791, 1894, 12592, 18674, 10567, 17513, 8779, 15238, 6837, 2382, 11965, 9642, 5835, 12654, 12546, 14674, 11740, 18039, 4726, 7413, 17789, 18091, 17850, 1365, 16866, 15930, 18191, 10800, 12608, 4803, 9593, 16463, 12062, 18132, 6689, 9217, 8348, 16082, 12940, 7519, 17112, 12024, 16532, 5580, 12045, 10724, 5090, 17082, 4026, 9639, 17192, 8484, 17080, 17277, 5195, 2141, 3879, 9367, 3951, 14049, 14827, 6595, 5422, 8557, 18073, 3347, 12290, 15683, 1635, 3381, 9345, 13695, 1141, 4738, 1896, 16453, 12766, 6347, 21, 8044, 13297, 10427, 5877, 15856, 281, 15780, 8744, 14579, 8458, 12238, 5296, 16653, 4964, 9648, 9448, 17631, 14602, 10462, 18134, 10835, 2238, 15384, 17429, 15166, 14168, 9320, 6156, 8576, 6632, 9252, 15453, 7210, 11813, 8175, 10558, 16430, 12597, 513, 1667, 14964, 17672, 14361, 10338, 15923, 14586, 6001, 14587, 5788, 6147, 9318, 8550, 11809, 7206, 7174, 11213, 7316, 13512, 13692, 4511, 3547, 14318, 14442, 9441, 2875, 12484, 5337, 8834, 14537, 7983, 8024, 6318, 11689, 13824, 4148, 10006, 10050, 4993, 15777, 9647, 7118, 17790, 4960, 9489, 11017, 18655, 12875, 14884, 15670, 4015, 5389, 14776, 17661, 12802, 10163, 14565, 16414, 4654, 3610, 14140, 13589, 18374, 10435, 17336, 11531, 17405, 14304, 12690, 8199, 3359, 18428, 17646, 7481, 8157, 7993, 6171, 6606, 13935, 15008, 9519, 14920, 14589, 44, 17486, 16278, 17283, 11682, 16746, 9513, 15480, 5987, 916, 7134, 16137, 14069, 4352, 15512, 17368, 16130, 16647, 14452, 5479, 17978, 15992, 5478, 9336, 16065, 4567, 6902, 15878, 18225, 5252, 5363, 6974, 3844, 18563, 12074, 398, 11447, 12318, 7719, 17658, 2878, 6510, 10597, 12260, 7979, 17971, 6644, 17726, 3412, 6966, 16580, 14152, 15418, 3580, 14729, 12071, 14546, 18599, 5426, 16699, 4763, 3353, 4364, 12522, 16575, 11677, 13089, 7336, 8609, 143, 11781, 13144, 1265, 14347, 3494, 1024, 10553, 5016, 5096, 3052, 15073, 13078, 3953, 14183, 15628, 8974, 9790, 8722, 9293, 17199, 12486, 13337, 12844, 17477, 15699, 9241, 7573, 18384, 351, 13891, 12312, 15439, 17944, 8828, 17165, 2483, 18372, 5701, 1333, 12452, 14473, 17977, 4607, 6931, 7353, 7798, 1320, 2648, 10870, 3216, 9500, 9837, 636, 8936, 6896, 3234, 4323, 7890, 13003, 10809, 6486, 5469, 17156, 15813, 11850, 15894, 10975, 18595, 7186, 10494, 9254, 3834, 6341, 16582, 16969, 12739, 16243, 2776, 3894, 17938, 8048, 5642, 10087, 6334, 12855, 11174, 5632, 1600, 15802, 5397, 10466, 14243, 17719, 10437, 8556, 16331, 14145, 12917, 8625, 18390, 10342, 8353, 16034, 6107, 16602, 11341, 10025, 2318, 8929, 6149, 10794, 7018, 15024, 16006, 9610, 6564, 15738, 14038, 12126, 15827, 15724, 18642, 13113, 7701, 9820, 12166, 12214, 9522, 18617, 15064, 2298, 5326, 14916, 5897, 12531, 12402, 7816, 8315, 15170, 9707, 14595, 15642, 10289, 16912, 17208, 17232, 17576, 16626, 3091, 11551, 17519, 5577, 12629, 18066, 13659, 12706, 6929, 13434, 4945, 8212, 10490, 2007, 15466, 8665, 10599, 15973, 9211, 10134, 2511, 8245, 12415, 6307, 10238, 664, 11894, 16679, 8553, 10994, 17344, 5810, 13682, 6041, 7616, 17899, 17818, 8250, 9653, 12590, 15835, 2865, 15721, 6110, 15893, 1565, 13463, 13983, 14672, 8573, 3897, 4050, 13644, 10864, 14683, 13241, 16632, 10102, 4962, 13085, 3874, 16658, 6787, 17118, 9065, 17107, 15511, 10406, 18532, 8414, 4152, 18059, 17352, 6342, 10366, 6649, 9698, 15805, 4219, 12124, 556, 13385, 14284, 11907, 6815, 8760, 11296, 2036, 9150, 17853, 4010, 11648, 11418, 17846, 3401, 15373, 16150, 17786, 16207, 11277, 13660, 7159, 3256, 2482, 10210, 10999, 13969, 17812, 4583, 6408, 13153, 16086, 5519, 15062, 18043, 13443, 643, 15578, 10339, 13802, 17307, 8046, 10570, 135, 14701, 5704, 6276, 7894, 11905, 17122, 10095, 13240, 17423, 5804, 7563, 15362, 15896, 13774, 3020, 16703, 13227, 4215, 2766, 13791, 16790, 10465, 3910, 7960, 7570, 8237, 3852, 12282, 13707, 16950, 14889, 13966, 17754, 12235, 5825, 4141, 11983, 17969, 15544, 18587, 17235, 5294, 11938, 3761, 6853, 12876, 15122, 13934, 17398, 8177, 14758, 16170, 4857, 11799, 6036, 1563, 5576, 5899, 3017, 382, 4340, 12474, 17614, 12328, 22, 6749, 15193, 11701, 14342, 12511, 10055, 3972, 15622, 15318, 3864, 6664, 11106, 11959, 17549, 8159, 13946, 10495, 11793, 18340, 3752, 7034, 13611, 18239, 10828, 6809, 13350, 8907, 9615, 18274, 15845, 3096, 13035, 5107, 15690, 16832, 2218, 1487, 10893, 10447, 3931, 16760, 13448, 15291, 11414, 18362, 15348, 16252, 16372, 13684, 11540, 11749, 18067, 11752, 16675, 6279, 3821, 10573, 11494, 6599, 7230, 5583, 10914, 10756, 18519, 3182, 12544, 10174, 10195, 13185, 16074, 7189, 6799, 10193, 13342, 5777, 17120, 18735, 17274, 5410, 6828, 11294, 12010, 8980, 3385, 17715, 11720, 17994, 15701, 12810, 7896, 2272, 2751, 15566, 14693, 4376, 9215, 12564, 11288, 9165, 5911, 4712, 5616, 12666, 15461, 2946, 15765, 7139, 12754, 4322, 16865, 12811, 13097, 16261, 17106, 14939, 16329, 16282, 4866, 11645, 17355, 9124, 15939, 14747, 365, 10186, 9786, 3875, 15029, 3682, 13009, 17328, 9366, 11052, 5387, 15855, 15951, 5148, 2826, 12241, 11112, 8734, 11750, 15034, 6583, 16161, 13623, 7882, 4591, 13568, 114, 4300, 18685, 6786, 12804, 2351, 8426, 5240, 2656, 14107, 13942, 7125, 9676, 13507, 13549, 14129, 18644, 13236, 3657, 18335, 5866, 13675, 5491, 9167, 10199, 14653, 4996, 2503, 2925, 10877, 6085, 8394, 14727, 6806, 17084, 7303, 17215, 16810, 634, 14228, 8370, 12204, 6502, 14042, 13728, 12186, 5794, 7546, 7240, 8599, 15859, 3731, 14299, 15995, 12784, 13558, 5498, 17555, 6351, 15906, 2412, 6177, 3782, 4915, 14480, 16455, 10424, 5861, 6461, 1215, 11459, 16720, 6970, 18729, 5832, 6033, 10769, 14011, 11108, 16927, 12633, 11939, 3348, 15399, 18315, 10057, 17705, 5511, 6251, 18466, 15342, 12584, 1317, 8268, 17268, 15419, 17163, 2400, 2563, 15933, 8970, 16490, 12008, 14596, 6888, 3274, 8869, 9270, 8839, 8032, 16421, 6813, 6215, 13653, 16146, 7905, 14669, 2171, 2337, 13504, 15094, 17269, 3270, 9213, 12720, 17650, 16784, 14154, 13174, 5162, 4759, 18413, 17801, 1999, 18316, 16016, 12736, 9301, 702, 14922, 12826, 12298, 15207, 10587, 3407, 10852, 9359, 12223, 13124, 14680, 9503, 11987, 11964, 17948, 4347, 15584, 15328, 12263, 7550, 14500, 16583, 14995, 16410, 13600, 6095, 13868, 8932, 12234, 12455, 8488, 1774, 15465, 12054, 15833, 11515, 15172, 15003, 2255, 17371, 7469, 1850, 9008, 15936, 16309, 16955, 9925, 17260, 18319, 15931, 16438, 9736, 2303, 11322, 16496, 2597, 2867, 16195, 14167, 14637, 2293, 12085, 5721, 11442, 17996, 8114, 7583, 15096, 14142, 5614, 18048, 3954, 10616, 10044, 9858, 3980, 6383, 17347, 13892, 14545, 15002, 11587, 2058, 7867, 7923, 14794, 2714, 11228, 16200, 4372, 11458, 15803, 15426, 9730, 18202, 13561, 6371, 7205, 14981, 6145, 8097, 17501, 12394, 11854, 13301, 8857, 8346, 17380, 18353, 12512, 11666, 15620, 13773, 11811, 10370, 12660, 9523, 12879, 9792, 9780, 15596, 8031, 10419, 16238, 16995, 17620, 10048, 16593, 5128, 7149, 15822, 14128, 16586, 9816, 15689, 5939, 18233, 16584, 13165, 14387, 2767, 15870, 11117, 12746, 18257, 12695, 9650, 8697, 12371, 12413, 9838, 17439, 7657, 18437, 11172, 7366, 9486, 15080, 5136, 11780, 16198, 17686, 6050, 5909, 5146, 6751, 4671, 6404, 13388, 7388, 5114, 16932, 7435, 10512, 7907, 13397, 14012, 9798, 4455, 9039, 4956, 18551, 9024, 17056, 16687, 14056, 6555, 16387, 4248, 15317, 2197, 9810, 11746, 17510, 9498, 5613, 10054, 11619, 11334, 17456, 17459, 2397, 13366, 16045, 1734, 11660, 12250, 15704, 8511, 10118, 3014, 8669, 15757, 8179, 15968, 3331, 16182, 17655, 11518, 6752, 9556, 18552, 8094, 8059, 18253, 5224, 12067, 18698, 5932, 7549, 14879, 17476, 6500, 7919, 18045, 3969, 13197, 11730, 11508, 10687, 3789, 16774, 17753, 11579, 16741, 7972, 12425, 8169, 7507, 18343, 15320, 4070, 17351, 16883, 16791, 11311, 11178, 4321, 7310, 16577, 1750, 5941, 2368, 4961, 15953, 11314, 18438, 7063, 17305, 14079, 8375, 17788, 5691, 5473, 11636, 13458, 6340, 650, 15302, 6092, 17472, 15222, 8751, 10923, 15459, 11580, 6746, 15436, 8956, 11610, 7628, 3446, 15608, 17533, 8416, 13667, 12589, 12001, 9313, 14472, 14684, 5535, 6680, 15477, 6071, 17132, 14664, 18643, 8933, 7385, 15723, 4955, 2647, 12252, 16442, 13101, 14123, 13217, 18586, 3148, 5699, 16937, 12381, 12284, 11511, 18388, 17493, 8423, 4030, 9959, 16778, 10752, 14971, 13565, 12884, 17642, 15365, 18182, 3984, 11349, 2278, 2256, 13340, 8441, 6666, 11398, 14696, 8736, 12228, 18607, 8745, 13347, 9467, 13436, 7288, 7739, 12401, 8271, 13730, 12500, 15619, 5430, 5942, 17841, 6141, 15676, 144, 10906, 9289, 3759, 12993, 14337, 12379, 14787, 17231, 16857, 5395, 17735, 16726, 10623, 16619, 9089, 11021, 18741, 10606, 7592, 127, 12226, 11403, 16838, 8070, 16736, 6427, 15435, 12070, 15446, 8321, 7052, 12431, 373, 12897, 8066, 5194, 5354, 5696, 6254, 14958, 7473, 14462, 10744, 15788, 5376, 12623, 18648, 11564, 16375, 4946, 9853, 17373, 12951, 3450, 1615, 18658, 17247, 9802, 16672, 7351, 8626, 9918, 6049, 18521, 10433, 13808, 5557, 16731, 11409, 16233, 15213, 13846, 12150, 5943, 12296, 16502, 12494, 13525, 9748, 15627, 3521, 9151, 15498, 13499, 16115, 3075, 7911, 18723, 7824, 12171, 3380, 1308, 11565, 5007, 14252, 1626, 11535, 16156, 11542, 10576, 6754, 12399, 5800, 2566, 9708, 12628, 6153, 5516, 17771, 16418, 10661, 8362, 16725, 17909, 6031, 12157, 9236, 17382, 7997, 15149, 4606, 2812, 11654, 4643, 17671, 4604, 14368, 11282, 17276, 9472, 11444, 1334, 12565, 10109, 17947, 5103, 14126, 15372, 15964, 2508, 9046, 2199, 6403, 4454, 2720, 9634, 16129, 6736, 3157, 16512, 12864, 12408, 7381, 9121, 1587, 12127, 16588, 3379, 14784, 18604, 8818, 13545, 12748, 11851, 16610, 18473, 14206, 8775, 9435, 18354, 2911, 108, 9131, 14157, 11569, 10255, 14766, 5541, 5457, 11651, 5865, 2263, 1120, 14073, 7193, 1661, 7553, 8526, 15521, 16426, 5896, 18303, 15950, 9688, 15929, 16753, 9731, 13648, 5894, 5316, 4409, 14116, 12139, 587, 14622, 16371, 18380, 14481, 3477, 12850, 13295, 16529, 3336, 7363, 673, 7975, 5719, 3669, 12160, 4907, 7780, 13828, 18672, 13151, 6366, 17259, 11104, 9268, 2752, 18170, 14054, 18640, 15378, 5682, 1250, 4057, 4925, 5655, 2224, 18562, 3965, 12093, 11804, 14901, 6934, 12458, 6443, 7580, 17416, 7228, 13506, 7062, 13368, 16149, 16289, 15210, 16757, 8228, 4353, 12432, 16313, 10221, 10200, 13028, 13593, 13043, 13498, 8358, 6158, 4274, 4440, 16100, 16491, 9306, 12412, 17722, 15753, 15592, 17904, 17284, 14581, 6148, 18666, 6973, 13423, 5851, 18533, 11607, 6613, 13964, 16921, 18334, 11101, 6514, 13790, 10377, 3578, 6438, 6437, 18022, 11268, 9387, 17008, 16044, 16719, 6468, 14156, 10344, 2245, 1363, 5281, 4661, 13557, 12881, 5442, 9182, 3423, 9397, 10328, 2291, 14388, 15501, 10487, 8014, 110, 17995, 15305, 15662, 13233, 5384, 16315, 11132, 119, 9104, 18399, 9063, 5776, 282, 14761, 16302, 18393, 14029, 4013, 13749, 3111, 18371, 11013, 5821, 10777, 12622, 5189, 16319, 17134, 15454, 6674, 12221, 10246, 7432, 17032, 1480, 6059, 10184, 18152, 7211, 12420, 16349, 9616, 17732, 16691, 8793, 6117, 9605, 15898, 15872, 648, 5209, 17879, 18099, 9811, 7561, 10005, 9461, 9834, 7215, 15660, 17359, 16519, 10639, 13634, 12361, 8826, 6055, 3688, 5403, 17814, 14093, 10073, 18173, 6039, 15093, 17025, 9854, 15412, 17856, 102, 11166, 8588, 13327, 15946, 12341, 15185, 8180, 8961, 17337, 13069, 17887, 15051, 169, 9389, 12710, 17807, 12888, 8851, 6263, 10176, 14278, 18665, 15967, 1393, 2884, 7482, 6183, 14393, 15143, 16923, 17982, 15355, 8403, 1558, 12477, 15604, 4374, 14803, 8106, 12489, 17458, 17021, 6332, 12738, 4976, 4453, 2870, 5648, 14136, 7485, 7949, 14258, 14180, 18070, 13205, 7155, 18336, 9396, 13831, 8714, 8203, 17065, 6169, 8404, 4633, 15395, 4469, 12557, 16700, 17645, 3115, 15837, 12424, 7095, 2063, 3615, 5278, 12363, 18574, 9080, 11971, 9360, 13015, 8222, 18542, 8299, 18322, 12645, 11961, 3253, 17968, 12988, 13139, 18577, 8911, 16590, 11281, 1830, 4278, 12069, 12158, 4056, 13346, 18049, 11678, 7560, 11700, 11759, 16377, 8640, 18160, 5331, 17769, 6373, 18273, 14769, 9989, 14133, 1442, 6007, 5324, 12574, 8568, 18513, 9670, 7144, 5222, 18272, 11248, 14340, 18300, 14973, 14267, 4602, 8022, 11318, 17089, 7511, 12003, 11142, 10568, 5674, 11250, 130, 2881, 7483, 8693, 11659, 3596, 6081, 6558, 6086, 11313, 10985, 17404, 18087, 17190, 16531, 15858, 3100, 17670, 1581, 18431, 7082, 4186, 10476, 18583, 13771, 11115, 15711, 17240, 7386, 17951, 13643, 5957, 8021, 13072, 1822, 7618, 18171, 11726, 3350, 8051, 17139, 15057, 11492, 2223, 2860, 4645, 15847, 18242, 15623, 9712, 13930, 18451, 6379, 4885, 713, 10601, 17724, 15254, 7035, 5711, 17651, 17074, 7988, 14657, 7053, 7582, 6851, 17244, 18414, 15616, 17450, 6651, 17675, 13305, 18744, 13500, 14315, 18594, 6923, 17565, 8601, 12047, 15039, 17566, 17528, 17201, 16048, 17265, 5012, 243, 16141, 15303, 14046, 6069, 8820, 1628, 8036, 564, 16204, 17926, 18084, 14686, 10378, 17939, 10958, 16521, 6977, 16879, 10253, 2697, 8757, 10438, 13933, 14396, 833, 17176, 11448, 5993, 11982, 14470, 12362, 11693, 8641, 16088, 16951, 13844, 15199, 2311, 6574, 13183, 8209, 1559, 8896, 17121, 12945, 7714, 11792, 16613, 3648, 8906, 8197, 17567, 17152, 15442, 11795, 15663, 6578, 6932, 9179, 7535, 17716, 11126, 16802, 13518, 14477, 14125, 18403, 9219, 5562, 7800, 14307, 8442, 11618, 18461, 11292, 15751, 16461, 12224, 16020, 9641, 14202, 5862, 8208, 15206, 10658, 18122, 6248, 16850, 7684, 18737, 11138, 6193, 15875, 16601, 15487, 16875, 17605, 5757, 1728, 10965, 15617, 17752, 15224, 12789, 4071, 8735, 15032, 13338, 10393, 12828, 15808, 109, 16117, 14976, 8165, 9085, 12293, 3499, 15433, 14687, 1792, 7484, 14895, 15063, 14003, 15469, 7451, 3059, 5269, 14503, 1617, 18339, 18649, 15548, 15411, 17541, 9721, 17448, 12485, 16284, 12809, 15267, 7634, 18169, 14853, 16770, 8235, 12392, 17356, 12756, 15116, 8538, 14188, 17157, 18691, 9538, 16447, 6949, 7861, 11842, 12320, 14552, 10602, 18129, 17855, 15158, 13866, 13273, 12781, 5802, 7284, 2683, 5702, 9887, 18121, 2313, 8667, 2724, 16446, 13755, 1624, 9583, 13554, 2485, 7608, 5738, 7559, 4395, 6987, 9985, 14111, 16000, 16255, 7574, 11742, 8412, 11015, 7621, 18367, 5860, 9172, 6278, 9744, 16898, 7085, 17249, 8524, 7690, 7547, 17420, 7527, 13453, 3165, 12014, 4496, 6513, 17609, 17103, 14661, 8273, 14883, 145, 15343, 7204, 17026, 12725, 5370, 11110, 17965, 2849, 17579, 838, 7901, 18726, 12808, 3835, 11882, 7956, 13673, 12664, 7429, 10434, 5840, 9643, 17731, 17029, 15659, 16383, 1871, 17783, 15070, 14053, 13931, 14161, 11051, 14992, 14449, 5592, 3623, 3679, 9444, 13761, 13818, 16773, 14479, 18696, 14471, 7150, 15823, 17214, 8622, 2229, 12777, 18585, 13625, 17375, 15943, 9473, 8227, 9027, 10527, 10211, 13566, 4665, 15957, 13280, 4142, 3122, 6623, 15797, 2388, 16896, 2662, 16570, 18266, 14557, 13308, 12380, 13251, 18211, 2286, 14010, 11397, 8195, 14880, 16629, 3825, 2078, 6641, 15709, 17172, 12191, 16911, 12188, 10189, 6829, 15582, 1235, 15099, 18114, 7813, 4006, 10529, 17473, 14131, 13932, 8352, 15168, 6498, 1318, 2890, 12116, 11197, 4261, 13058, 15653, 12870, 8080, 14609, 12863, 14912, 18262, 10619, 5340, 15792, 12946, 4547, 12764, 9525, 18047, 10972, 5921, 5773, 12065, 13112, 8755, 14378, 1634, 14171, 15961, 3265, 11225, 9159, 12240, 12771, 4581, 411, 4163, 16002, 12136, 7258, 9266, 14062, 5573, 9754, 16787, 4625, 115, 17868, 18145, 17669, 12189, 16976, 10473, 5875, 13652, 16062, 3597, 17363, 10767, 9385, 9312, 10925, 8339, 14910, 6499, 7182, 15796, 17633, 14066, 4429, 8695, 16715, 11466, 10930, 7020, 1078, 10271, 12438, 7587, 10634, 4008, 17087, 7571, 7524, 15004, 14509, 16962, 9572, 10996, 9203, 14232, 848, 14806, 13601, 17345, 9069, 18645, 6261, 3605, 6511, 11626, 15737, 8885, 5857, 11485, 5042, 6111, 17742, 10324, 10222, 7987, 16628, 7025, 18008, 14831, 2687, 17058, 17299, 14214, 18434, 9349, 9577, 7424, 6280, 4854, 11118, 12665, 12878, 16071, 18280, 1862, 10426, 16884, 13441, 8858, 4293, 16905, 17164, 6207, 10257, 12514, 14504, 17667, 17514, 4289, 16365, 2613, 16005, 9795, 16922, 16039, 8096, 14195, 10758, 11004, 3180, 17905, 13602, 2329, 11192, 18149, 7830, 3957, 9927, 17042, 2302, 8507, 18278, 9106, 9915, 17049, 9527, 14667, 6113, 5570, 15887, 16423, 13330, 11888, 16354, 17834, 16630, 16793, 3389, 14539, 11148, 13855, 15019, 13298, 15804, 7986, 14148, 1566, 8473, 6349, 2240, 2883, 17387, 12133, 7392, 18544, 1567, 7131, 9592, 12142, 6607, 7231, 15864, 884, 9030, 6981, 12470, 2663, 14591, 10551, 8893, 5976, 6449, 11838, 10471, 17254, 17044, 17516, 18210, 11596, 13536, 16297, 13927, 18123, 5720, 3708, 11941, 4809, 4405, 15452, 16917, 14515, 5413, 5582, 11509, 12249, 16506, 17676, 18725, 12920, 16535, 8285, 2213, 15325, 14638, 13560, 1593, 9787, 2212, 17129, 13829, 17983, 8766, 4986, 6078, 18153, 5123, 2492, 18462, 14057, 14251, 14115, 336, 4518, 3055, 13008, 17263, 13582, 3016, 18690, 12462, 3345, 11478, 3090, 10503, 7567, 17364, 8207, 2105, 15246, 16614, 213, 7603, 8148, 10279, 3023, 7050, 3452, 10445, 17237, 10059, 17512, 15697, 18401, 15340, 6526, 18323, 12099, 13232, 7568, 17910, 9310, 13615, 10806, 1477, 16623, 14044, 11342, 5507, 14041, 16681, 10908, 6190, 87, 5892, 7578, 15824, 14410, 8112, 7843, 6329, 10712, 4580, 14486, 15932, 14017, 17543, 15905, 1355, 16795, 13921, 13613, 18029, 16424, 4539, 6324, 12626, 7105, 8813, 15420, 7337, 14351, 16871, 14694, 18410, 12207, 14755, 1316, 4172, 10901, 17211, 5290, 18520, 12488, 16148, 12995, 18226, 12206, 8660, 3513, 13563, 18728, 9756, 13599, 18098, 18687, 4256, 2348, 10121, 11929, 9619, 13218, 7613, 6589, 7267, 17963, 6744, 9220, 13252, 7489, 16139, 14913, 12528, 17223, 12339, 11034, 7244, 10581, 9574, 16249, 14194, 15007, 15755, 12714, 1169, 6858, 17539, 8894, 11175, 9546, 14978, 15666, 13316, 18117, 17713, 4929, 4766, 18105, 5809, 628, 7335, 14484, 11643, 11615, 10603, 9001, 402, 11039, 11877, 12806, 9675, 6894, 15525, 5634, 14005, 17929, 17155, 14541, 7630, 14936, 8083, 9952, 13357, 8477, 10933, 15197, 18328, 4789, 11391, 3243, 17683, 17712, 1608, 13729, 17411, 10236, 9999, 12019, 3614, 14218, 8578, 15385, 13314, 18518, 17647, 15045, 13585, 13116, 13353, 15594, 7969, 14224, 1166, 16533, 11981, 17222, 17147, 15404, 13278, 13820, 13871, 7339, 16569, 12052, 7341, 11761, 18068, 18572, 9586, 10492, 13439, 16735, 18582, 5142, 7436, 11378, 7209, 10520, 10307, 10588, 10814, 10584, 14205, 16250, 14323, 1538, 9722, 12297, 9702, 13708, 13631, 7192, 5842, 14894, 11577, 15913, 18409, 5904, 12369, 7245, 6954, 2814, 9464, 15220, 4808, 13491, 4599, 15860, 16939, 8628, 11337, 14775, 12735, 17069]\n",
      "UserID = 2100\n",
      "-------------------------\n",
      "        artistID  weight\n",
      "userID                  \n",
      "2100           3     408\n",
      "2100           6     404\n",
      "2100          12    1253\n",
      "2100          28     911\n",
      "2100          47     305\n",
      "2100         837     762\n",
      "2100         841     553\n",
      "2100        1109    1333\n",
      "2100        1111    1062\n",
      "2100        1134    1213\n",
      "2100        1260    1459\n",
      "2100        1276    1133\n",
      "2100        1281     573\n",
      "2100        2749     532\n",
      "2100        2765     457\n",
      "2100        2772     485\n",
      "2100        2774     436\n",
      "2100        3806     389\n",
      "2100        4182     258\n",
      "2100        4271    2026\n",
      "2100        4611     360\n",
      "2100        4970     614\n",
      "2100        6258     403\n",
      "2100        6658     731\n",
      "2100        7918     289\n",
      "2100        8320     284\n",
      "2100        8322     650\n",
      "2100        8323     456\n",
      "2100        8324    1068\n",
      "2100        8326     626\n",
      "2100        8327     613\n",
      "2100        8332     655\n",
      "2100        8344     640\n",
      "2100        8525     232\n",
      "2100        8529     429\n",
      "2100        8531     607\n",
      "2100        8533     724\n",
      "2100        9783     793\n",
      "2100       10008     228\n",
      "2100       10894     705\n",
      "2100       13677     278\n",
      "2100       13679     346\n",
      "2100       13978     535\n",
      "2100       16437     443\n",
      "2100       18725     758\n",
      "2100       18726     337\n",
      "2100       18727     297\n",
      "2100       18728     281\n",
      "2100       18729     280\n",
      "2100       18730     263\n",
      "\n",
      "TOP 5 RATED ITEMS BY USER 2100:\n",
      "Ratings: [1213. 1253. 1333. 1459. 2026.]\n"
     ]
    },
    {
     "data": {
      "text/html": [
       "<div>\n",
       "<style scoped>\n",
       "    .dataframe tbody tr th:only-of-type {\n",
       "        vertical-align: middle;\n",
       "    }\n",
       "\n",
       "    .dataframe tbody tr th {\n",
       "        vertical-align: top;\n",
       "    }\n",
       "\n",
       "    .dataframe thead th {\n",
       "        text-align: right;\n",
       "    }\n",
       "</style>\n",
       "<table border=\"1\" class=\"dataframe\">\n",
       "  <thead>\n",
       "    <tr style=\"text-align: right;\">\n",
       "      <th></th>\n",
       "      <th>name</th>\n",
       "      <th>freq</th>\n",
       "      <th>listeners</th>\n",
       "    </tr>\n",
       "    <tr>\n",
       "      <th>artistID</th>\n",
       "      <th></th>\n",
       "      <th></th>\n",
       "      <th></th>\n",
       "    </tr>\n",
       "  </thead>\n",
       "  <tbody>\n",
       "    <tr>\n",
       "      <th>1134</th>\n",
       "      <td>Agalloch</td>\n",
       "      <td>17</td>\n",
       "      <td>308395</td>\n",
       "    </tr>\n",
       "    <tr>\n",
       "      <th>12</th>\n",
       "      <td>Behemoth</td>\n",
       "      <td>19</td>\n",
       "      <td>400444</td>\n",
       "    </tr>\n",
       "    <tr>\n",
       "      <th>1109</th>\n",
       "      <td>Yann Tiersen</td>\n",
       "      <td>69</td>\n",
       "      <td>1359680</td>\n",
       "    </tr>\n",
       "    <tr>\n",
       "      <th>1260</th>\n",
       "      <td>Marduk</td>\n",
       "      <td>11</td>\n",
       "      <td>187525</td>\n",
       "    </tr>\n",
       "    <tr>\n",
       "      <th>4271</th>\n",
       "      <td>Burzum</td>\n",
       "      <td>19</td>\n",
       "      <td>357934</td>\n",
       "    </tr>\n",
       "  </tbody>\n",
       "</table>\n",
       "</div>"
      ],
      "text/plain": [
       "                  name  freq  listeners\n",
       "artistID                               \n",
       "1134          Agalloch    17     308395\n",
       "12            Behemoth    19     400444\n",
       "1109      Yann Tiersen    69    1359680\n",
       "1260            Marduk    11     187525\n",
       "4271            Burzum    19     357934"
      ]
     },
     "execution_count": 43,
     "metadata": {},
     "output_type": "execute_result"
    }
   ],
   "source": [
    "# User-item interaction matrix from the trained model\n",
    "rating_mat = iknn_pearson_mc.train_set.matrix\n",
    "# Dictionaries mapping the original user and item IDs to their respective indices in the interaction matrix\n",
    "user_id2idx = iknn_pearson_mc.train_set.uid_map\n",
    "item_id2idx = iknn_pearson_mc.train_set.iid_map\n",
    "# Lists that allow mapping back from the internal user/item indices to their original IDs\n",
    "user_idx2id = list(iknn_pearson_mc.train_set.user_ids)\n",
    "item_idx2id = list(iknn_pearson_mc.train_set.item_ids)\n",
    "print(item_idx2id)\n",
    "TOPK = 5\n",
    "UID = 2100  # El ID del usuario deseado; \n",
    "UIDX = user_id2idx.get(UID)\n",
    "\n",
    "print(f\"UserID = {UID}\")\n",
    "print(\"-\" * 25)\n",
    "print(users_df.loc[UID])\n",
    "\n",
    "# Ratings between the selected user and all items\n",
    "rating_arr = rating_mat[UIDX].A.ravel()\n",
    "top_rated_items = np.argsort(rating_arr)[-TOPK:]\n",
    "print(f\"\\nTOP {TOPK} RATED ITEMS BY USER {UID}:\")\n",
    "print(\"Ratings:\", rating_arr[top_rated_items])\n",
    "items_df.loc[[int(item_idx2id[i]) for i in top_rated_items]]"
   ]
  },
  {
   "cell_type": "code",
   "execution_count": 36,
   "metadata": {},
   "outputs": [
    {
     "data": {
      "text/html": [
       "<div>\n",
       "<style scoped>\n",
       "    .dataframe tbody tr th:only-of-type {\n",
       "        vertical-align: middle;\n",
       "    }\n",
       "\n",
       "    .dataframe tbody tr th {\n",
       "        vertical-align: top;\n",
       "    }\n",
       "\n",
       "    .dataframe thead th {\n",
       "        text-align: right;\n",
       "    }\n",
       "</style>\n",
       "<table border=\"1\" class=\"dataframe\">\n",
       "  <thead>\n",
       "    <tr style=\"text-align: right;\">\n",
       "      <th></th>\n",
       "      <th>name</th>\n",
       "      <th>freq</th>\n",
       "      <th>listeners</th>\n",
       "    </tr>\n",
       "    <tr>\n",
       "      <th>artistID</th>\n",
       "      <th></th>\n",
       "      <th></th>\n",
       "      <th></th>\n",
       "    </tr>\n",
       "  </thead>\n",
       "  <tbody>\n",
       "    <tr>\n",
       "      <th>1</th>\n",
       "      <td>MALICE MIZER</td>\n",
       "      <td>3</td>\n",
       "      <td>96960</td>\n",
       "    </tr>\n",
       "    <tr>\n",
       "      <th>2</th>\n",
       "      <td>Diary of Dreams</td>\n",
       "      <td>12</td>\n",
       "      <td>128342</td>\n",
       "    </tr>\n",
       "    <tr>\n",
       "      <th>3</th>\n",
       "      <td>Carpathian Forest</td>\n",
       "      <td>3</td>\n",
       "      <td>139909</td>\n",
       "    </tr>\n",
       "    <tr>\n",
       "      <th>6</th>\n",
       "      <td>Moonspell</td>\n",
       "      <td>10</td>\n",
       "      <td>335697</td>\n",
       "    </tr>\n",
       "    <tr>\n",
       "      <th>7</th>\n",
       "      <td>Marilyn Manson</td>\n",
       "      <td>133</td>\n",
       "      <td>2229885</td>\n",
       "    </tr>\n",
       "    <tr>\n",
       "      <th>...</th>\n",
       "      <td>...</td>\n",
       "      <td>...</td>\n",
       "      <td>...</td>\n",
       "    </tr>\n",
       "    <tr>\n",
       "      <th>16668</th>\n",
       "      <td>Danger Mouse and Sparklehorse</td>\n",
       "      <td>3</td>\n",
       "      <td>113046</td>\n",
       "    </tr>\n",
       "    <tr>\n",
       "      <th>16697</th>\n",
       "      <td>Birdman</td>\n",
       "      <td>3</td>\n",
       "      <td>1064265</td>\n",
       "    </tr>\n",
       "    <tr>\n",
       "      <th>16709</th>\n",
       "      <td>The Afters</td>\n",
       "      <td>3</td>\n",
       "      <td>172872</td>\n",
       "    </tr>\n",
       "    <tr>\n",
       "      <th>17189</th>\n",
       "      <td>dälek</td>\n",
       "      <td>3</td>\n",
       "      <td>101432</td>\n",
       "    </tr>\n",
       "    <tr>\n",
       "      <th>17962</th>\n",
       "      <td>Alva Noto + Ryuichi Sakamoto</td>\n",
       "      <td>3</td>\n",
       "      <td>104385</td>\n",
       "    </tr>\n",
       "  </tbody>\n",
       "</table>\n",
       "<p>4562 rows × 3 columns</p>\n",
       "</div>"
      ],
      "text/plain": [
       "                                   name  freq  listeners\n",
       "artistID                                                \n",
       "1                          MALICE MIZER     3      96960\n",
       "2                       Diary of Dreams    12     128342\n",
       "3                     Carpathian Forest     3     139909\n",
       "6                             Moonspell    10     335697\n",
       "7                        Marilyn Manson   133    2229885\n",
       "...                                 ...   ...        ...\n",
       "16668     Danger Mouse and Sparklehorse     3     113046\n",
       "16697                           Birdman     3    1064265\n",
       "16709                        The Afters     3     172872\n",
       "17189                             dälek     3     101432\n",
       "17962      Alva Noto + Ryuichi Sakamoto     3     104385\n",
       "\n",
       "[4562 rows x 3 columns]"
      ]
     },
     "execution_count": 36,
     "metadata": {},
     "output_type": "execute_result"
    }
   ],
   "source": [
    "# LOS ITEMIDS NO SON SECUENCIALES Y TIENEN SALTOS\n",
    "items_df.sort_values(by='artistID', ascending=True)"
   ]
  },
  {
   "cell_type": "code",
   "execution_count": 54,
   "metadata": {},
   "outputs": [
    {
     "data": {
      "text/plain": [
       "name         White Lion\n",
       "freq                  5\n",
       "listeners        292114\n",
       "Name: 5165, dtype: object"
      ]
     },
     "execution_count": 54,
     "metadata": {},
     "output_type": "execute_result"
    }
   ],
   "source": [
    "items_df.loc[5165]"
   ]
  },
  {
   "cell_type": "code",
   "execution_count": 44,
   "metadata": {},
   "outputs": [
    {
     "name": "stdout",
     "output_type": "stream",
     "text": [
      "[1416, 5161, 14208, 9666, 1946]\n",
      "\n",
      "TOP 5 RECOMMENDATIONS FOR USER 2100:\n",
      "                      name  freq  listeners\n",
      "artistID                                   \n",
      "1416       George Harrison    35    1286388\n",
      "14208       As Cities Burn     4     158384\n",
      "9666      Moving Mountains     3     160942\n",
      "1946                Madlib    16     421695\n"
     ]
    }
   ],
   "source": [
    "# LAS RECOMENDACIONES A VECES FALLAN\n",
    "\n",
    "recommendations, scores = iknn_pearson_mc.rank(UIDX)\n",
    "\n",
    "# Assuming 'recommendations' contains the top recommended item indices from the model\n",
    "top_recommended_ids = [item_idx2id[i] for i in recommendations[:TOPK]]\n",
    "print(top_recommended_ids)\n",
    "# Ensure only to include artistIDs that exist in item_df's index\n",
    "existing_artist_ids = [id_ for id_ in top_recommended_ids if id_ in items_df.index]\n",
    "\n",
    "# Retrieve information for existing artistIDs from item_df\n",
    "if existing_artist_ids:\n",
    "    recommended_items = items_df.loc[existing_artist_ids]\n",
    "    print(f\"\\nTOP {TOPK} RECOMMENDATIONS FOR USER {UID}:\")\n",
    "    print(recommended_items)\n",
    "else:\n",
    "    print(f\"No valid recommendations found for user {UID}.\")"
   ]
  },
  {
   "cell_type": "code",
   "execution_count": 45,
   "metadata": {},
   "outputs": [
    {
     "name": "stdout",
     "output_type": "stream",
     "text": [
      "\n",
      "TOP RECOMMENDATIONS FOR USER 2100:\n",
      "                name  freq  listeners           tagValue\n",
      "0    George Harrison    35    1286388                pop\n",
      "1    George Harrison    35    1286388               rock\n",
      "2    George Harrison    35    1286388        psychedelic\n",
      "3    George Harrison    35    1286388  singer-songwriter\n",
      "4    George Harrison    35    1286388       classic rock\n",
      "..               ...   ...        ...                ...\n",
      "135           Madlib    16     421695            hip-hop\n",
      "136           Madlib    16     421695          seen live\n",
      "137           Madlib    16     421695       instrumental\n",
      "138           Madlib    16     421695               soul\n",
      "139           Madlib    16     421695       stones throw\n",
      "\n",
      "[140 rows x 4 columns]\n"
     ]
    }
   ],
   "source": [
    "# Filtrando 'artistID' existentes\n",
    "existing_artist_ids = [item_idx2id[i] for i in recommendations[:TOPK] if item_idx2id[i] in items_df.index]\n",
    "\n",
    "# Recuperando información de los artistas recomendados\n",
    "if existing_artist_ids:\n",
    "    recommended_items = items_df.loc[existing_artist_ids]\n",
    "    \n",
    "    # Realizando el join con user_tag_artist en 'artistID'\n",
    "    recommended_with_tags = recommended_items.merge(user_tag_artist, on='artistID', how='left')\n",
    "    \n",
    "    # Realizando el join con tags para obtener 'tagValue'\n",
    "    final_recommendations = recommended_with_tags.merge(tags, on='tagID', how='left')\n",
    "    \n",
    "    # Seleccionamos solo las columnas relevantes para mostrar\n",
    "    final_columns_to_display = ['name', 'freq', 'listeners', 'tagValue']\n",
    "    \n",
    "    # Asegurándonos de que solo se muestren las columnas que existen después de los joins\n",
    "    final_columns_to_display = [col for col in final_columns_to_display if col in final_recommendations.columns]\n",
    "    \n",
    "    # Mostrando las recomendaciones finales\n",
    "    print(f\"\\nTOP RECOMMENDATIONS FOR USER {UID}:\")\n",
    "    print(final_recommendations[final_columns_to_display])\n",
    "else:\n",
    "    print(f\"No valid recommendations found for user {UID}.\")\n"
   ]
  },
  {
   "cell_type": "markdown",
   "metadata": {},
   "source": [
    "---"
   ]
  },
  {
   "cell_type": "markdown",
   "metadata": {},
   "source": [
    "## <span style=\"font-family: Latin Modern Roman; font-size: 25px;\"> 4. Implicit Feedback</span>\n",
    "<div style=\"text-align: justify;\">\n",
    " \n",
    "Implicit feedback in recommender systems refers to understanding users' preferences through their behavior, such as clicks or interactions, rather than explicit ratings. For example, in a music service such as this case, the fact that a user listens to a song may indicate their preference for it. This information is used to improve personalized recommendations. It is important to mention that instead of ratings, adoption matrices are used to represent the interactions between users and items.\n",
    "\n",
    "</div>\n",
    "\n",
    "## <span style=\"font-family: Latin Modern Roman; font-size: 20px;\"> 4.1. Bayesian Personalized Ranking (BPR) </span>\n",
    "\n",
    "<div style=\"text-align: justify;\">\n",
    " \n",
    "**Bayesian Personalized Ranking (BPR)** is an approach to making personalized recommendations, especially useful when there are no explicit user ratings, but rather implicit actions such as clicks or visits. Instead of predicting a specific rating for an item, BPR focuses on ranking items based on the likelihood that a user will like one more than another. It uses a pairwise comparison technique, where it compares each item a user has interacted with to those they have not seen. The goal is to learn how to rank items in a way that matches the user's preferences based on their interaction history.\n",
    "\n",
    "It has some important parameters to consider:\n",
    "\n",
    "- `k`: controls the dimension of the latent space. \n",
    "\n",
    "- `max_iter`: defines the number of iterations of the Stochastic Gradient Descent (SGD) procedure.\n",
    "\n",
    "- `learning_rate`: controls the step size α in the gradient update rules.\n",
    "\n",
    "- `lambda_reg`: controls the L2 $\\lambda$ regularization in the objective function.\n",
    " \n",
    "</div>"
   ]
  },
  {
   "cell_type": "code",
   "execution_count": 83,
   "metadata": {},
   "outputs": [],
   "source": [
    "from recommenders.evaluation.python_evaluation import map, ndcg_at_k, precision_at_k, recall_at_k\n",
    "from recommenders.models.cornac_utils import predict_ranking\n",
    "from recommenders.datasets.python_splitters import python_random_split\n",
    "from recommenders.utils.constants import SEED"
   ]
  },
  {
   "cell_type": "code",
   "execution_count": 84,
   "metadata": {},
   "outputs": [],
   "source": [
    "train, test = python_random_split(users, 0.75)\n",
    "train.columns = [\"userID\", \"itemID\", \"rating\"]\n",
    "test.columns = [\"userID\", \"itemID\", \"rating\"]"
   ]
  },
  {
   "cell_type": "code",
   "execution_count": 85,
   "metadata": {},
   "outputs": [
    {
     "name": "stdout",
     "output_type": "stream",
     "text": [
      "Number of users: 1889\n",
      "Number of items: 14769\n"
     ]
    }
   ],
   "source": [
    "train_set = cornac.data.Dataset.from_uir(train.itertuples(index = False), seed = SEED)\n",
    "\n",
    "print('Number of users: {}'.format(train_set.num_users))\n",
    "print('Number of items: {}'.format(train_set.num_items))"
   ]
  },
  {
   "cell_type": "code",
   "execution_count": 86,
   "metadata": {},
   "outputs": [],
   "source": [
    "# Model parameters\n",
    "NUM_FACTORS = 250\n",
    "NUM_EPOCHS = 100\n",
    "\n",
    "# HAY ALGUNA FORMA DE ELEGIR ESTOS PARÁMETROS PARA QUE SEAN ÓPTIMOS O ALGO ASI?\n",
    "bpr = cornac.models.BPR(\n",
    "    k = NUM_FACTORS,\n",
    "    max_iter = NUM_EPOCHS,\n",
    "    learning_rate = 0.01,\n",
    "    lambda_reg = 0.001,\n",
    "    verbose = True,\n",
    "    seed = SEED\n",
    ")"
   ]
  },
  {
   "cell_type": "code",
   "execution_count": 87,
   "metadata": {},
   "outputs": [
    {
     "data": {
      "application/vnd.jupyter.widget-view+json": {
       "model_id": "f03d92b6f2924208b6935d420aa1ed5f",
       "version_major": 2,
       "version_minor": 0
      },
      "text/plain": [
       "  0%|          | 0/100 [00:00<?, ?it/s]"
      ]
     },
     "metadata": {},
     "output_type": "display_data"
    },
    {
     "name": "stdout",
     "output_type": "stream",
     "text": [
      "Optimization finished!\n"
     ]
    },
    {
     "data": {
      "text/plain": [
       "<cornac.models.bpr.recom_bpr.BPR at 0x4dead2c10>"
      ]
     },
     "execution_count": 87,
     "metadata": {},
     "output_type": "execute_result"
    }
   ],
   "source": [
    "bpr.fit(train_set)"
   ]
  },
  {
   "cell_type": "code",
   "execution_count": 88,
   "metadata": {},
   "outputs": [],
   "source": [
    "# SOLO FUNCIONA CON remove_seen = TRUE\n",
    "all_predictions = predict_ranking(bpr, train, usercol = 'userID', itemcol = 'itemID', remove_seen=False)"
   ]
  },
  {
   "cell_type": "code",
   "execution_count": 89,
   "metadata": {},
   "outputs": [
    {
     "data": {
      "text/html": [
       "<div>\n",
       "<style scoped>\n",
       "    .dataframe tbody tr th:only-of-type {\n",
       "        vertical-align: middle;\n",
       "    }\n",
       "\n",
       "    .dataframe tbody tr th {\n",
       "        vertical-align: top;\n",
       "    }\n",
       "\n",
       "    .dataframe thead th {\n",
       "        text-align: right;\n",
       "    }\n",
       "</style>\n",
       "<table border=\"1\" class=\"dataframe\">\n",
       "  <thead>\n",
       "    <tr style=\"text-align: right;\">\n",
       "      <th></th>\n",
       "      <th>userID</th>\n",
       "      <th>itemID</th>\n",
       "      <th>prediction</th>\n",
       "    </tr>\n",
       "  </thead>\n",
       "  <tbody>\n",
       "    <tr>\n",
       "      <th>0</th>\n",
       "      <td>614</td>\n",
       "      <td>209</td>\n",
       "      <td>3.735987</td>\n",
       "    </tr>\n",
       "    <tr>\n",
       "      <th>1</th>\n",
       "      <td>614</td>\n",
       "      <td>215</td>\n",
       "      <td>2.533954</td>\n",
       "    </tr>\n",
       "    <tr>\n",
       "      <th>2</th>\n",
       "      <td>614</td>\n",
       "      <td>1001</td>\n",
       "      <td>3.145921</td>\n",
       "    </tr>\n",
       "    <tr>\n",
       "      <th>3</th>\n",
       "      <td>614</td>\n",
       "      <td>12919</td>\n",
       "      <td>-0.337368</td>\n",
       "    </tr>\n",
       "    <tr>\n",
       "      <th>4</th>\n",
       "      <td>614</td>\n",
       "      <td>3717</td>\n",
       "      <td>0.525972</td>\n",
       "    </tr>\n",
       "  </tbody>\n",
       "</table>\n",
       "</div>"
      ],
      "text/plain": [
       "   userID  itemID  prediction\n",
       "0     614     209    3.735987\n",
       "1     614     215    2.533954\n",
       "2     614    1001    3.145921\n",
       "3     614   12919   -0.337368\n",
       "4     614    3717    0.525972"
      ]
     },
     "execution_count": 89,
     "metadata": {},
     "output_type": "execute_result"
    }
   ],
   "source": [
    "all_predictions.head()"
   ]
  },
  {
   "cell_type": "code",
   "execution_count": 90,
   "metadata": {},
   "outputs": [
    {
     "name": "stdout",
     "output_type": "stream",
     "text": [
      "MAP:\t0.020437\n",
      "NDCG:\t0.066540\n",
      "Precision@K:\t0.061862\n",
      "Recall@K:\t0.049997\n"
     ]
    }
   ],
   "source": [
    "k = 10\n",
    "# Mean Average Precision for top k prediction items\n",
    "eval_map = map(test, all_predictions, col_prediction = 'prediction', k = k)\n",
    "#Normalized Discounted Cumulative Gain (nDCG)\n",
    "eval_ndcg = ndcg_at_k(test, all_predictions, col_prediction = 'prediction', k = k)\n",
    "# precision at k (min=0, max=1)\n",
    "eval_precision = precision_at_k(test, all_predictions, col_prediction = 'prediction', k = k)\n",
    "eval_recall = recall_at_k(test, all_predictions, col_prediction = 'prediction', k = k)\n",
    "\n",
    "print(\"MAP:\\t%f\" % eval_map,\n",
    "      \"NDCG:\\t%f\" % eval_ndcg,\n",
    "      \"Precision@K:\\t%f\" % eval_precision,\n",
    "      \"Recall@K:\\t%f\" % eval_recall, sep='\\n')\n",
    "\n",
    "warnings.filterwarnings(\"ignore\")"
   ]
  },
  {
   "cell_type": "code",
   "execution_count": 91,
   "metadata": {},
   "outputs": [
    {
     "data": {
      "text/html": [
       "<div>\n",
       "<style scoped>\n",
       "    .dataframe tbody tr th:only-of-type {\n",
       "        vertical-align: middle;\n",
       "    }\n",
       "\n",
       "    .dataframe tbody tr th {\n",
       "        vertical-align: top;\n",
       "    }\n",
       "\n",
       "    .dataframe thead th {\n",
       "        text-align: right;\n",
       "    }\n",
       "</style>\n",
       "<table border=\"1\" class=\"dataframe\">\n",
       "  <thead>\n",
       "    <tr style=\"text-align: right;\">\n",
       "      <th></th>\n",
       "      <th>userID</th>\n",
       "      <th>itemID</th>\n",
       "      <th>rating</th>\n",
       "    </tr>\n",
       "  </thead>\n",
       "  <tbody>\n",
       "    <tr>\n",
       "      <th>97</th>\n",
       "      <td>3</td>\n",
       "      <td>148</td>\n",
       "      <td>66</td>\n",
       "    </tr>\n",
       "    <tr>\n",
       "      <th>88</th>\n",
       "      <td>3</td>\n",
       "      <td>139</td>\n",
       "      <td>72</td>\n",
       "    </tr>\n",
       "    <tr>\n",
       "      <th>75</th>\n",
       "      <td>3</td>\n",
       "      <td>126</td>\n",
       "      <td>94</td>\n",
       "    </tr>\n",
       "    <tr>\n",
       "      <th>87</th>\n",
       "      <td>3</td>\n",
       "      <td>138</td>\n",
       "      <td>72</td>\n",
       "    </tr>\n",
       "  </tbody>\n",
       "</table>\n",
       "</div>"
      ],
      "text/plain": [
       "    userID  itemID  rating\n",
       "97       3     148      66\n",
       "88       3     139      72\n",
       "75       3     126      94\n",
       "87       3     138      72"
      ]
     },
     "execution_count": 91,
     "metadata": {},
     "output_type": "execute_result"
    }
   ],
   "source": [
    "id_groups = test.groupby('userID')\n",
    "id_groups.get_group(3)"
   ]
  },
  {
   "cell_type": "code",
   "execution_count": 92,
   "metadata": {},
   "outputs": [
    {
     "data": {
      "text/plain": [
       "2.1642016e-05"
      ]
     },
     "execution_count": 92,
     "metadata": {},
     "output_type": "execute_result"
    }
   ],
   "source": [
    "bpr.rank(3)[1][1394]"
   ]
  },
  {
   "cell_type": "markdown",
   "metadata": {},
   "source": [
    "## <span style=\"font-family: Latin Modern Roman; font-size: 20px;\"> 4.2. Weighted Matrix Factorization (WMF) </span>\n",
    "\n",
    "<div style=\"text-align: justify;\">\n",
    " \n",
    "**Weighted Matrix Factorization (WMF)** focuses on decomposing a matrix of user-item interactions into two smaller matrices of reduced dimensions, where each row of these matrices represents the feature of the user or item. The key difference between WMF and the original MF (Matrix Factorization) is that WMF attempts to predict unobserved adoptions, while MF ignores them during training. In other words, WMF seeks to predict interactions between items and users, even if they have not been observed, while MF focuses only on observed interactions.\n",
    " \n",
    "As a result of this difference, the WMF model is designed to rank items by fitting binary adoptions, while the original MF model focuses on predicting explicit ratings. While the MF model has the ability to predict ratings accurately (lower RMSE), the WMF model outperforms the MF in all of the listed rating metrics. This is because WMF is specifically designed to rank items based on the likelihood of adoption, making it more suitable for ranking recommendation tasks.\n",
    " \n",
    "</div>"
   ]
  },
  {
   "cell_type": "code",
   "execution_count": 93,
   "metadata": {},
   "outputs": [
    {
     "name": "stdout",
     "output_type": "stream",
     "text": [
      "System version: 3.11.8 (main, Feb  6 2024, 21:21:21) [Clang 15.0.0 (clang-1500.1.0.2.5)]\n",
      "Cornac version: 2.0\n",
      "Tensorflow version: 2.15.0\n"
     ]
    }
   ],
   "source": [
    "import sys\n",
    "import tensorflow as tf\n",
    "from cornac.models import MF, WMF\n",
    "\n",
    "print(f\"System version: {sys.version}\")\n",
    "print(f\"Cornac version: {cornac.__version__}\")\n",
    "print(f\"Tensorflow version: {tf.__version__}\")\n",
    "\n",
    "VERBOSE = False"
   ]
  },
  {
   "cell_type": "code",
   "execution_count": 94,
   "metadata": {},
   "outputs": [
    {
     "name": "stdout",
     "output_type": "stream",
     "text": [
      "\n",
      "TEST:\n",
      "...\n",
      "          |      RMSE |    AUC |  F1@10 |    MAP |    MRR | NDCG@10 | NDCG@20 | NDCG@30 | Precision@10 | Recall@10 | Train (s) | Test (s)\n",
      "--------- + --------- + ------ + ------ + ------ + ------ + ------- + ------- + ------- + ------------ + --------- + --------- + --------\n",
      "WMF(K=50) | 1108.2725 | 0.8533 | 0.0167 | 0.0191 | 0.0521 |  0.0206 |  0.0309 |  0.0395 |       0.0128 |    0.0270 |   61.3527 |   4.5759\n",
      "MF(K=50)  |       nan | 0.0000 | 0.0000 |    nan | 0.0008 |  0.0000 |  0.0002 |  0.0003 |       0.0000 |    0.0000 |    0.0517 |   1.6207\n",
      "\n"
     ]
    }
   ],
   "source": [
    "K = 50\n",
    "wmf = WMF(k=K, max_iter=100, a=1.0, b=0.01, learning_rate=0.001, lambda_u=0.01, lambda_v=0.01,\n",
    "          verbose=VERBOSE, seed=SEED, name=f\"WMF(K={K})\")\n",
    "mf = MF(k=K, max_iter=20, learning_rate=0.01, lambda_reg=0.01, \n",
    "        verbose=VERBOSE, seed=SEED, name=f\"MF(K={K})\")\n",
    "\n",
    "eval_metrics = [\n",
    "  cornac.metrics.RMSE(), \n",
    "  cornac.metrics.AUC(),\n",
    "  cornac.metrics.Precision(k=10),\n",
    "  cornac.metrics.Recall(k=10),\n",
    "  cornac.metrics.FMeasure(k=10),\n",
    "  cornac.metrics.NDCG(k=[10, 20, 30]),\n",
    "  cornac.metrics.MRR(),\n",
    "  cornac.metrics.MAP()\n",
    "]\n",
    "\n",
    "cornac.Experiment(\n",
    "    eval_method = ratio_split, \n",
    "    models = [wmf, mf], \n",
    "    metrics = eval_metrics\n",
    ").run()\n",
    "\n",
    "# RMSE DE MF NAN??"
   ]
  },
  {
   "cell_type": "markdown",
   "metadata": {},
   "source": [
    "\n",
    "## <span style=\"font-family: Latin Modern Roman; font-size: 20px;\"> 4.3. Factorization Machines (MF) </span>\n",
    "\n",
    "<div style=\"text-align: justify;\">\n",
    " \n",
    "**Factorization Machines (FM)** represent an advanced predictive technique used in recommender systems, particularly valued for their effectiveness in sparse data scenarios. They are capable of inferring user preferences and behaviors, modeling latent relationships between variables (users and items) to predict future interactions. \n",
    "\n",
    "Their flexibility to incorporate multiple types of data and features allows FMs to capture the complexity of user preferences in a holistic manner. FMs use implicit preferences to enhance personalized recommendations. By factoring interaction matrices, they discover underlying patterns that facilitate the prediction of user interests with high accuracy, overcoming the challenges presented by the sparse nature of the data.\n",
    "</div>"
   ]
  },
  {
   "cell_type": "code",
   "execution_count": 63,
   "metadata": {},
   "outputs": [],
   "source": [
    "import torch as torch\n",
    "import torch.utils.data as data\n",
    "import torch.nn as nn\n",
    "import torch.optim as optim\n",
    "import time\n",
    "import numpy as np\n",
    "from sklearn.manifold import TSNE\n",
    "\n",
    "import math\n",
    "import torch.nn.functional as F"
   ]
  },
  {
   "cell_type": "code",
   "execution_count": 64,
   "metadata": {},
   "outputs": [
    {
     "name": "stdout",
     "output_type": "stream",
     "text": [
      "tensor([1.], device='mps:0')\n"
     ]
    }
   ],
   "source": [
    "import torch\n",
    "if torch.backends.mps.is_available():\n",
    "    device = torch.device(\"mps\")\n",
    "    x = torch.ones(1, device=device)\n",
    "    print (x)\n",
    "else:\n",
    "    print (\"MPS device not found.\")"
   ]
  },
  {
   "cell_type": "code",
   "execution_count": 40,
   "metadata": {},
   "outputs": [
    {
     "data": {
      "text/html": [
       "<div>\n",
       "<style scoped>\n",
       "    .dataframe tbody tr th:only-of-type {\n",
       "        vertical-align: middle;\n",
       "    }\n",
       "\n",
       "    .dataframe tbody tr th {\n",
       "        vertical-align: top;\n",
       "    }\n",
       "\n",
       "    .dataframe thead th {\n",
       "        text-align: right;\n",
       "    }\n",
       "</style>\n",
       "<table border=\"1\" class=\"dataframe\">\n",
       "  <thead>\n",
       "    <tr style=\"text-align: right;\">\n",
       "      <th></th>\n",
       "      <th>name</th>\n",
       "      <th>freq</th>\n",
       "      <th>listeners</th>\n",
       "    </tr>\n",
       "    <tr>\n",
       "      <th>artistID</th>\n",
       "      <th></th>\n",
       "      <th></th>\n",
       "      <th></th>\n",
       "    </tr>\n",
       "  </thead>\n",
       "  <tbody>\n",
       "    <tr>\n",
       "      <th>89</th>\n",
       "      <td>Lady Gaga</td>\n",
       "      <td>611</td>\n",
       "      <td>3798959</td>\n",
       "    </tr>\n",
       "    <tr>\n",
       "      <th>289</th>\n",
       "      <td>Britney Spears</td>\n",
       "      <td>522</td>\n",
       "      <td>3243214</td>\n",
       "    </tr>\n",
       "    <tr>\n",
       "      <th>288</th>\n",
       "      <td>Rihanna</td>\n",
       "      <td>484</td>\n",
       "      <td>4542147</td>\n",
       "    </tr>\n",
       "    <tr>\n",
       "      <th>227</th>\n",
       "      <td>The Beatles</td>\n",
       "      <td>480</td>\n",
       "      <td>3658694</td>\n",
       "    </tr>\n",
       "    <tr>\n",
       "      <th>300</th>\n",
       "      <td>Katy Perry</td>\n",
       "      <td>473</td>\n",
       "      <td>3721531</td>\n",
       "    </tr>\n",
       "  </tbody>\n",
       "</table>\n",
       "</div>"
      ],
      "text/plain": [
       "                    name  freq  listeners\n",
       "artistID                                 \n",
       "89             Lady Gaga   611    3798959\n",
       "289       Britney Spears   522    3243214\n",
       "288              Rihanna   484    4542147\n",
       "227          The Beatles   480    3658694\n",
       "300           Katy Perry   473    3721531"
      ]
     },
     "execution_count": 40,
     "metadata": {},
     "output_type": "execute_result"
    }
   ],
   "source": [
    "items_df.head()\n"
   ]
  },
  {
   "cell_type": "code",
   "execution_count": 41,
   "metadata": {},
   "outputs": [
    {
     "data": {
      "text/html": [
       "<div>\n",
       "<style scoped>\n",
       "    .dataframe tbody tr th:only-of-type {\n",
       "        vertical-align: middle;\n",
       "    }\n",
       "\n",
       "    .dataframe tbody tr th {\n",
       "        vertical-align: top;\n",
       "    }\n",
       "\n",
       "    .dataframe thead th {\n",
       "        text-align: right;\n",
       "    }\n",
       "</style>\n",
       "<table border=\"1\" class=\"dataframe\">\n",
       "  <thead>\n",
       "    <tr style=\"text-align: right;\">\n",
       "      <th></th>\n",
       "      <th>userID</th>\n",
       "      <th>artistID</th>\n",
       "      <th>weight</th>\n",
       "      <th>userID_index</th>\n",
       "      <th>artistID_index</th>\n",
       "      <th>weight_index</th>\n",
       "    </tr>\n",
       "  </thead>\n",
       "  <tbody>\n",
       "    <tr>\n",
       "      <th>0</th>\n",
       "      <td>2</td>\n",
       "      <td>51</td>\n",
       "      <td>13883</td>\n",
       "      <td>0</td>\n",
       "      <td>45</td>\n",
       "      <td>5043</td>\n",
       "    </tr>\n",
       "    <tr>\n",
       "      <th>1</th>\n",
       "      <td>2</td>\n",
       "      <td>52</td>\n",
       "      <td>11690</td>\n",
       "      <td>0</td>\n",
       "      <td>46</td>\n",
       "      <td>4939</td>\n",
       "    </tr>\n",
       "    <tr>\n",
       "      <th>2</th>\n",
       "      <td>2</td>\n",
       "      <td>53</td>\n",
       "      <td>11351</td>\n",
       "      <td>0</td>\n",
       "      <td>47</td>\n",
       "      <td>4920</td>\n",
       "    </tr>\n",
       "    <tr>\n",
       "      <th>3</th>\n",
       "      <td>2</td>\n",
       "      <td>54</td>\n",
       "      <td>10300</td>\n",
       "      <td>0</td>\n",
       "      <td>48</td>\n",
       "      <td>4843</td>\n",
       "    </tr>\n",
       "    <tr>\n",
       "      <th>4</th>\n",
       "      <td>2</td>\n",
       "      <td>55</td>\n",
       "      <td>8983</td>\n",
       "      <td>0</td>\n",
       "      <td>49</td>\n",
       "      <td>4748</td>\n",
       "    </tr>\n",
       "  </tbody>\n",
       "</table>\n",
       "</div>"
      ],
      "text/plain": [
       "   userID  artistID  weight  userID_index  artistID_index  weight_index\n",
       "0       2        51   13883             0              45          5043\n",
       "1       2        52   11690             0              46          4939\n",
       "2       2        53   11351             0              47          4920\n",
       "3       2        54   10300             0              48          4843\n",
       "4       2        55    8983             0              49          4748"
      ]
     },
     "execution_count": 41,
     "metadata": {},
     "output_type": "execute_result"
    }
   ],
   "source": [
    "users_df.head()"
   ]
  },
  {
   "cell_type": "code",
   "execution_count": 52,
   "metadata": {},
   "outputs": [
    {
     "data": {
      "text/html": [
       "<div>\n",
       "<style scoped>\n",
       "    .dataframe tbody tr th:only-of-type {\n",
       "        vertical-align: middle;\n",
       "    }\n",
       "\n",
       "    .dataframe tbody tr th {\n",
       "        vertical-align: top;\n",
       "    }\n",
       "\n",
       "    .dataframe thead th {\n",
       "        text-align: right;\n",
       "    }\n",
       "</style>\n",
       "<table border=\"1\" class=\"dataframe\">\n",
       "  <thead>\n",
       "    <tr style=\"text-align: right;\">\n",
       "      <th></th>\n",
       "      <th>userID</th>\n",
       "      <th>artistID</th>\n",
       "      <th>weight</th>\n",
       "      <th>userID_index</th>\n",
       "      <th>artistID_index</th>\n",
       "      <th>tagValue</th>\n",
       "      <th>tagValue_index</th>\n",
       "    </tr>\n",
       "  </thead>\n",
       "  <tbody>\n",
       "    <tr>\n",
       "      <th>0</th>\n",
       "      <td>2</td>\n",
       "      <td>52</td>\n",
       "      <td>11690</td>\n",
       "      <td>0</td>\n",
       "      <td>46</td>\n",
       "      <td>chillout</td>\n",
       "      <td>1437</td>\n",
       "    </tr>\n",
       "    <tr>\n",
       "      <th>1</th>\n",
       "      <td>2</td>\n",
       "      <td>52</td>\n",
       "      <td>11690</td>\n",
       "      <td>0</td>\n",
       "      <td>46</td>\n",
       "      <td>downtempo</td>\n",
       "      <td>2055</td>\n",
       "    </tr>\n",
       "    <tr>\n",
       "      <th>2</th>\n",
       "      <td>2</td>\n",
       "      <td>52</td>\n",
       "      <td>11690</td>\n",
       "      <td>0</td>\n",
       "      <td>46</td>\n",
       "      <td>electronic</td>\n",
       "      <td>2209</td>\n",
       "    </tr>\n",
       "    <tr>\n",
       "      <th>3</th>\n",
       "      <td>2</td>\n",
       "      <td>52</td>\n",
       "      <td>11690</td>\n",
       "      <td>0</td>\n",
       "      <td>46</td>\n",
       "      <td>trip-hop</td>\n",
       "      <td>7406</td>\n",
       "    </tr>\n",
       "    <tr>\n",
       "      <th>4</th>\n",
       "      <td>2</td>\n",
       "      <td>52</td>\n",
       "      <td>11690</td>\n",
       "      <td>0</td>\n",
       "      <td>46</td>\n",
       "      <td>female vovalists</td>\n",
       "      <td>2552</td>\n",
       "    </tr>\n",
       "  </tbody>\n",
       "</table>\n",
       "</div>"
      ],
      "text/plain": [
       "   userID  artistID  weight  userID_index  artistID_index          tagValue  \\\n",
       "0       2        52   11690             0              46          chillout   \n",
       "1       2        52   11690             0              46         downtempo   \n",
       "2       2        52   11690             0              46        electronic   \n",
       "3       2        52   11690             0              46          trip-hop   \n",
       "4       2        52   11690             0              46  female vovalists   \n",
       "\n",
       "   tagValue_index  \n",
       "0            1437  \n",
       "1            2055  \n",
       "2            2209  \n",
       "3            7406  \n",
       "4            2552  "
      ]
     },
     "execution_count": 52,
     "metadata": {},
     "output_type": "execute_result"
    }
   ],
   "source": [
    "users_df = users.copy()\n",
    "\n",
    "\n",
    "users_df['userID_index'] = users_df['userID'].astype('category').cat.codes\n",
    "users_df['artistID_index'] = users_df['artistID'].astype('category').cat.codes\n",
    "\n",
    "ratings = pd.merge(user_tag_artist.set_index('tagID'), tags, on = 'tagID', how = 'left')\n",
    "ratings = ratings.drop(columns = [\"day\", \"month\", \"year\", \"tagID\"])\n",
    "\n",
    "ratings = pd.merge(users_df, ratings, on=['userID', 'artistID'], how = 'inner')\n",
    "ratings['tagValue_index'] = ratings['tagValue'].astype('category').cat.codes\n",
    "\n",
    "ratings.head()"
   ]
  },
  {
   "cell_type": "code",
   "execution_count": 56,
   "metadata": {},
   "outputs": [
    {
     "data": {
      "text/plain": [
       "{'userID_index': 0, 'artistID_index': 1824, 'tagValue_index': 8678}"
      ]
     },
     "execution_count": 56,
     "metadata": {},
     "output_type": "execute_result"
    }
   ],
   "source": [
    "feature_columns = ['userID_index','artistID_index','tagValue_index']\n",
    "\n",
    "features_sizes = {\n",
    "    'userID_index':len(ratings['userID_index'].unique()),\n",
    "    'artistID_index':len(ratings['artistID_index'].unique()),\n",
    "    'tagValue_index':len(ratings['tagValue_index'].unique()),\n",
    "}\n",
    "\n",
    "# calculate offsets.\n",
    "# Each feature starts from the end of the last one.\n",
    "\n",
    "next_offset = 0\n",
    "features_offsets={}\n",
    "for k,v in features_sizes.items():\n",
    "    features_offsets[k] = next_offset\n",
    "    next_offset += v\n",
    "\n",
    "features_offsets"
   ]
  },
  {
   "cell_type": "code",
   "execution_count": 57,
   "metadata": {},
   "outputs": [],
   "source": [
    "# map all column indices to start from correct offset\n",
    "for column in feature_columns:\n",
    "    ratings[column] = ratings[column].apply(lambda c: c + features_offsets[column])   "
   ]
  },
  {
   "cell_type": "code",
   "execution_count": 59,
   "metadata": {},
   "outputs": [
    {
     "data": {
      "text/html": [
       "<div>\n",
       "<style scoped>\n",
       "    .dataframe tbody tr th:only-of-type {\n",
       "        vertical-align: middle;\n",
       "    }\n",
       "\n",
       "    .dataframe tbody tr th {\n",
       "        vertical-align: top;\n",
       "    }\n",
       "\n",
       "    .dataframe thead th {\n",
       "        text-align: right;\n",
       "    }\n",
       "</style>\n",
       "<table border=\"1\" class=\"dataframe\">\n",
       "  <thead>\n",
       "    <tr style=\"text-align: right;\">\n",
       "      <th></th>\n",
       "      <th>userID_index</th>\n",
       "      <th>artistID_index</th>\n",
       "      <th>tagValue_index</th>\n",
       "      <th>weight</th>\n",
       "    </tr>\n",
       "  </thead>\n",
       "  <tbody>\n",
       "    <tr>\n",
       "      <th>0</th>\n",
       "      <td>0</td>\n",
       "      <td>1870</td>\n",
       "      <td>10115</td>\n",
       "      <td>11690</td>\n",
       "    </tr>\n",
       "    <tr>\n",
       "      <th>1</th>\n",
       "      <td>0</td>\n",
       "      <td>1870</td>\n",
       "      <td>10733</td>\n",
       "      <td>11690</td>\n",
       "    </tr>\n",
       "    <tr>\n",
       "      <th>2</th>\n",
       "      <td>0</td>\n",
       "      <td>1870</td>\n",
       "      <td>10887</td>\n",
       "      <td>11690</td>\n",
       "    </tr>\n",
       "    <tr>\n",
       "      <th>3</th>\n",
       "      <td>0</td>\n",
       "      <td>1870</td>\n",
       "      <td>16084</td>\n",
       "      <td>11690</td>\n",
       "    </tr>\n",
       "    <tr>\n",
       "      <th>4</th>\n",
       "      <td>0</td>\n",
       "      <td>1870</td>\n",
       "      <td>11230</td>\n",
       "      <td>11690</td>\n",
       "    </tr>\n",
       "  </tbody>\n",
       "</table>\n",
       "</div>"
      ],
      "text/plain": [
       "   userID_index  artistID_index  tagValue_index  weight\n",
       "0             0            1870           10115   11690\n",
       "1             0            1870           10733   11690\n",
       "2             0            1870           10887   11690\n",
       "3             0            1870           16084   11690\n",
       "4             0            1870           11230   11690"
      ]
     },
     "execution_count": 59,
     "metadata": {},
     "output_type": "execute_result"
    }
   ],
   "source": [
    "ratings[[*feature_columns,'weight']].head(5)"
   ]
  },
  {
   "cell_type": "code",
   "execution_count": 65,
   "metadata": {},
   "outputs": [],
   "source": [
    "data_x = torch.tensor(ratings[feature_columns].values)\n",
    "data_y = torch.tensor(ratings['weight'].values).float()\n",
    "dataset = data.TensorDataset(data_x, data_y)"
   ]
  },
  {
   "cell_type": "code",
   "execution_count": 66,
   "metadata": {},
   "outputs": [],
   "source": [
    "bs=1024\n",
    "train_n = int(len(dataset)*0.9)\n",
    "valid_n = len(dataset) - train_n\n",
    "splits = [train_n,valid_n]\n",
    "assert sum(splits) == len(dataset)\n",
    "trainset,devset = torch.utils.data.random_split(dataset,splits)\n",
    "train_dataloader = data.DataLoader(trainset,batch_size=bs,shuffle=True)\n",
    "dev_dataloader = data.DataLoader(devset,batch_size=bs,shuffle=True)"
   ]
  },
  {
   "cell_type": "code",
   "execution_count": 67,
   "metadata": {},
   "outputs": [],
   "source": [
    "# copied from fastai: \n",
    "def trunc_normal_(x, mean=0., std=1.):\n",
    "    \"Truncated normal initialization.\"\n",
    "    # From https://discuss.pytorch.org/t/implementing-truncated-normal-initializer/4778/12\n",
    "    return x.normal_().fmod_(2).mul_(std).add_(mean)"
   ]
  },
  {
   "cell_type": "code",
   "execution_count": 68,
   "metadata": {},
   "outputs": [],
   "source": [
    "class FMModel(nn.Module):\n",
    "    def __init__(self, n, k):\n",
    "        super().__init__()\n",
    "\n",
    "        self.w0 = nn.Parameter(torch.zeros(1))\n",
    "        self.bias = nn.Embedding(n, 1)\n",
    "        self.embeddings = nn.Embedding(n, k)\n",
    "\n",
    "        # See https://arxiv.org/abs/1711.09160\n",
    "        with torch.no_grad(): trunc_normal_(self.embeddings.weight, std=0.01)\n",
    "        with torch.no_grad(): trunc_normal_(self.bias.weight, std=0.01)\n",
    "\n",
    "    def forward(self, X):\n",
    "        emb = self.embeddings(X)\n",
    "        # calculate the interactions in complexity of O(nk) see lemma 3.1 from paper\n",
    "        pow_of_sum = emb.sum(dim=1).pow(2)\n",
    "        sum_of_pow = emb.pow(2).sum(dim=1)\n",
    "        pairwise = (pow_of_sum-sum_of_pow).sum(1)*0.5\n",
    "        bias = self.bias(X).squeeze().sum(1)\n",
    "        #I wrap the result with a sigmoid function to limit to be between 0 and 5.5.\n",
    "        return torch.sigmoid(self.w0 + bias + pairwise)*5.5"
   ]
  },
  {
   "cell_type": "code",
   "execution_count": 69,
   "metadata": {},
   "outputs": [],
   "source": [
    "# fit/test functions\n",
    "def fit(iterator, model, optimizer, criterion):\n",
    "    train_loss = 0\n",
    "    model.train()\n",
    "    for x,y in iterator:\n",
    "        optimizer.zero_grad()\n",
    "        y_hat = model(x.to(device))\n",
    "        loss = criterion(y_hat, y.to(device))\n",
    "        train_loss += loss.item()*x.shape[0]\n",
    "        loss.backward()\n",
    "        optimizer.step()\n",
    "    return train_loss / len(iterator.dataset)\n",
    "\n",
    "def test(iterator, model, criterion):\n",
    "    train_loss = 0\n",
    "    model.eval()\n",
    "    for x,y in iterator:                    \n",
    "        with torch.no_grad():\n",
    "            y_hat = model(x.to(device))\n",
    "        loss = criterion(y_hat, y.to(device))\n",
    "        train_loss += loss.item()*x.shape[0]\n",
    "    return train_loss / len(iterator.dataset)"
   ]
  },
  {
   "cell_type": "code",
   "execution_count": 70,
   "metadata": {},
   "outputs": [],
   "source": [
    "def train_n_epochs(model, n, optimizer,scheduler):\n",
    "    criterion = nn.MSELoss().to(device)\n",
    "    for epoch in range(n):\n",
    "        start_time = time.time()\n",
    "        train_loss = fit(train_dataloader, model, optimizer, criterion)\n",
    "        valid_loss = test(dev_dataloader, model, criterion)\n",
    "        scheduler.step()\n",
    "        secs = int(time.time() - start_time)\n",
    "        print(f'epoch {epoch}. time: {secs}[s]')\n",
    "        print(f'\\ttrain rmse: {(math.sqrt(train_loss)):.4f}')\n",
    "        print(f'\\tvalidation rmse: {(math.sqrt(valid_loss)):.4f}')\n"
   ]
  },
  {
   "cell_type": "code",
   "execution_count": 71,
   "metadata": {},
   "outputs": [
    {
     "name": "stdout",
     "output_type": "stream",
     "text": [
      "epoch 0. time: 3[s]\n",
      "\ttrain rmse: 11166.8363\n",
      "\tvalidation rmse: 9791.2718\n",
      "epoch 1. time: 0[s]\n",
      "\ttrain rmse: 11166.7631\n",
      "\tvalidation rmse: 9791.1679\n",
      "epoch 2. time: 0[s]\n",
      "\ttrain rmse: 11166.6490\n",
      "\tvalidation rmse: 9791.0345\n",
      "epoch 3. time: 0[s]\n",
      "\ttrain rmse: 11166.5330\n",
      "\tvalidation rmse: 9790.9277\n",
      "epoch 4. time: 0[s]\n",
      "\ttrain rmse: 11166.4520\n",
      "\tvalidation rmse: 9790.8614\n",
      "epoch 5. time: 0[s]\n",
      "\ttrain rmse: 11166.4031\n",
      "\tvalidation rmse: 9790.8213\n",
      "epoch 6. time: 0[s]\n",
      "\ttrain rmse: 11166.3738\n",
      "\tvalidation rmse: 9790.7960\n",
      "epoch 7. time: 0[s]\n",
      "\ttrain rmse: 11166.3612\n",
      "\tvalidation rmse: 9790.7939\n",
      "epoch 8. time: 0[s]\n",
      "\ttrain rmse: 11166.3597\n",
      "\tvalidation rmse: 9790.7919\n",
      "epoch 9. time: 0[s]\n",
      "\ttrain rmse: 11166.3581\n",
      "\tvalidation rmse: 9790.7904\n"
     ]
    }
   ],
   "source": [
    "model = FMModel(data_x.max()+1, 20).to(device)\n",
    "wd=1e-5\n",
    "lr=0.001\n",
    "epochs=10\n",
    "optimizer = optim.Adam(model.parameters(), lr=lr, weight_decay=wd)\n",
    "scheduler = optim.lr_scheduler.MultiStepLR(optimizer, milestones=[7], gamma=0.1)\n",
    "criterion = nn.MSELoss().to(device)\n",
    "for epoch in range(epochs):\n",
    "    start_time = time.time()\n",
    "    train_loss = fit(train_dataloader, model, optimizer, criterion)\n",
    "    valid_loss = test(dev_dataloader, model, criterion)\n",
    "    scheduler.step()\n",
    "    secs = int(time.time() - start_time)\n",
    "    print(f'epoch {epoch}. time: {secs}[s]')\n",
    "    print(f'\\ttrain rmse: {(math.sqrt(train_loss)):.4f}')\n",
    "    print(f'\\tvalidation rmse: {(math.sqrt(valid_loss)):.4f}')"
   ]
  },
  {
   "cell_type": "code",
   "execution_count": null,
   "metadata": {},
   "outputs": [],
   "source": []
  }
 ],
 "metadata": {
  "kernelspec": {
   "display_name": "envml3",
   "language": "python",
   "name": "python3"
  },
  "language_info": {
   "codemirror_mode": {
    "name": "ipython",
    "version": 3
   },
   "file_extension": ".py",
   "mimetype": "text/x-python",
   "name": "python",
   "nbconvert_exporter": "python",
   "pygments_lexer": "ipython3",
   "version": "3.11.8"
  }
 },
 "nbformat": 4,
 "nbformat_minor": 2
}
